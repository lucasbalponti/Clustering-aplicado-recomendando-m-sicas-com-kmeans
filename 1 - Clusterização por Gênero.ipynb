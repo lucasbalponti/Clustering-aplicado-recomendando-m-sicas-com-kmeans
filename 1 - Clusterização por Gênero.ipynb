{
 "cells": [
  {
   "attachments": {},
   "cell_type": "markdown",
   "metadata": {},
   "source": [
    "<h1>Conceito<h1>\n",
    "\n",
    "<h2>K-means</h2>\n",
    "\n",
    "O algoritmo K-means é um agrupador não supervisionado que agrupa os dados ao tentar separar as amostras em n grupos de igual variância, minimizando um critério conhecido como inércia ou soma dos quadrados dentro dos clusters.\n",
    "\n",
    "O algoritmo divide uma amostra de $N$ elementos $X$ em $K$ grupos disjuntos $C$, cada um deles descritos pela média $\\mu_j$ das amostras no grupo. As médias são normalmentes chamadas de **centróides** dos grupos. Note que eles não são necessariamentes pontos reais $X$.\n",
    "\n",
    "O K-means busca **escolher centróides $\\mu_j$ que minimizem a inércia**:\n",
    "\n",
    "$\\large \\sum\\limits_{i=0}^{n} \\ \\min\\limits_{\\mu_j \\in C} (||x_i - \\mu_j||²)$\n",
    "\n",
    "A inércia pode ser descrita como uma medidade de quão internamente coerente os agrupamentos são.\n",
    "\n",
    "A inércia porém tem algumas **limitações**:\n",
    "- Ela faz a suposição que os agrupamentos são convexos e isotrópicos, o que não é sempre o caso. Portanto ela lida mal com agrupamentos alongados ou com formas irregulares\n",
    "- A inércia não é uma métrica normalizada, só é possível levar em consideração que, quanto mais próximo de zero, melhor. Mas em ambientes de alta dimensionalidade, a inércia pode se tornar 'inflacionada'. Nesses casos, pode ser interessante realizar uma **redução de dimensionalidade**."
   ]
  },
  {
   "attachments": {},
   "cell_type": "markdown",
   "metadata": {},
   "source": [
    "<h1>Aplicação</h1>"
   ]
  },
  {
   "cell_type": "code",
   "execution_count": 21,
   "metadata": {},
   "outputs": [],
   "source": [
    "# Importando as bibliotecas que serão utilizadas\n",
    "import pandas as pd\n",
    "import numpy as np\n",
    "\n",
    "from sklearn.pipeline import Pipeline\n",
    "from sklearn.preprocessing import StandardScaler\n",
    "from sklearn.decomposition import PCA\n",
    "from sklearn.cluster import KMeans\n",
    "\n",
    "import plotly.express as px"
   ]
  },
  {
   "cell_type": "code",
   "execution_count": 2,
   "metadata": {},
   "outputs": [],
   "source": [
    "# Importando a base de dados\n",
    "base_genero = pd.read_csv(r'Dados/data_by_genres.csv')\n",
    "base_genero = base_genero.drop(['mode','key'], axis = 1)"
   ]
  },
  {
   "cell_type": "code",
   "execution_count": 11,
   "metadata": {},
   "outputs": [],
   "source": [
    "# Definindo random seed\n",
    "SEED = 20\n",
    "\n",
    "np.random.seed(SEED)\n",
    "\n",
    "# Criando uma pipeline para padronizar os dados e reduzir a dimensionalidade\n",
    "pca_pipeline = Pipeline(\n",
    "    [\n",
    "    ('scaler', StandardScaler()),\n",
    "    ('PCA', PCA(n_components=2))\n",
    "    ]\n",
    ")\n",
    "\n",
    "genre_embedding_pca = pca_pipeline.fit_transform(base_genero[base_genero.columns[1:]])\n",
    "\n",
    "projection = pd.DataFrame(columns=['x', 'y'], data = genre_embedding_pca)"
   ]
  },
  {
   "cell_type": "code",
   "execution_count": 17,
   "metadata": {},
   "outputs": [
    {
     "name": "stderr",
     "output_type": "stream",
     "text": [
      "c:\\Python311\\Lib\\site-packages\\sklearn\\cluster\\_kmeans.py:870: FutureWarning: The default value of `n_init` will change from 10 to 'auto' in 1.4. Set the value of `n_init` explicitly to suppress the warning\n",
      "  warnings.warn(\n"
     ]
    },
    {
     "name": "stdout",
     "output_type": "stream",
     "text": [
      "Initialization complete\n",
      "Iteration 0, inertia 4821.073472299924.\n",
      "Iteration 1, inertia 3820.9549122471653.\n",
      "Iteration 2, inertia 3686.626780219592.\n",
      "Iteration 3, inertia 3619.314769699243.\n",
      "Iteration 4, inertia 3575.4040262662024.\n",
      "Iteration 5, inertia 3554.047907992452.\n",
      "Iteration 6, inertia 3545.1571295405925.\n",
      "Iteration 7, inertia 3537.1496480477213.\n",
      "Iteration 8, inertia 3526.0721086571893.\n",
      "Iteration 9, inertia 3519.4913803930103.\n",
      "Iteration 10, inertia 3516.5434371361985.\n",
      "Iteration 11, inertia 3513.714764396059.\n",
      "Iteration 12, inertia 3510.2562635552854.\n",
      "Iteration 13, inertia 3505.9117875816873.\n",
      "Iteration 14, inertia 3502.663987650568.\n",
      "Iteration 15, inertia 3501.4040648217015.\n",
      "Iteration 16, inertia 3500.8205717654905.\n",
      "Iteration 17, inertia 3500.564594414561.\n",
      "Converged at iteration 17: center shift 9.720147618834785e-05 within tolerance 0.00027098868470996516.\n",
      "Initialization complete\n",
      "Iteration 0, inertia 5359.623966918487.\n",
      "Iteration 1, inertia 3859.7624189001144.\n",
      "Iteration 2, inertia 3613.6603484540647.\n",
      "Iteration 3, inertia 3550.1498824590144.\n",
      "Iteration 4, inertia 3527.206411750604.\n",
      "Iteration 5, inertia 3516.9114192654747.\n",
      "Iteration 6, inertia 3510.12842438802.\n",
      "Iteration 7, inertia 3505.268380749577.\n",
      "Iteration 8, inertia 3502.2593368037496.\n",
      "Iteration 9, inertia 3500.9424053751763.\n",
      "Iteration 10, inertia 3500.367768586224.\n",
      "Converged at iteration 10: center shift 2.5957579518152093e-05 within tolerance 0.00027098868470996516.\n",
      "Initialization complete\n",
      "Iteration 0, inertia 5066.440765282906.\n",
      "Iteration 1, inertia 3819.1041933499114.\n",
      "Iteration 2, inertia 3746.6784469612903.\n",
      "Iteration 3, inertia 3705.9362221377505.\n",
      "Iteration 4, inertia 3681.5042453877804.\n",
      "Iteration 5, inertia 3660.970640284623.\n",
      "Iteration 6, inertia 3633.344138245653.\n",
      "Iteration 7, inertia 3609.8121030032007.\n",
      "Iteration 8, inertia 3583.050596215694.\n",
      "Iteration 9, inertia 3562.1856060676882.\n",
      "Iteration 10, inertia 3550.089824607065.\n",
      "Iteration 11, inertia 3537.8978654705907.\n",
      "Iteration 12, inertia 3530.0821846863105.\n",
      "Iteration 13, inertia 3521.0763821716596.\n",
      "Iteration 14, inertia 3516.060690455825.\n",
      "Iteration 15, inertia 3513.8467470085498.\n",
      "Iteration 16, inertia 3513.4649340033493.\n",
      "Converged at iteration 16: center shift 6.402348108320055e-05 within tolerance 0.00027098868470996516.\n",
      "Initialization complete\n",
      "Iteration 0, inertia 4430.492613138806.\n",
      "Iteration 1, inertia 3690.5191012236646.\n",
      "Iteration 2, inertia 3617.390785533423.\n",
      "Iteration 3, inertia 3592.2627186778027.\n",
      "Iteration 4, inertia 3576.2347176481985.\n",
      "Iteration 5, inertia 3561.9122203046636.\n",
      "Iteration 6, inertia 3546.246438880443.\n",
      "Iteration 7, inertia 3534.4350495165727.\n",
      "Iteration 8, inertia 3524.292502666198.\n",
      "Iteration 9, inertia 3516.33723956089.\n",
      "Iteration 10, inertia 3509.4468577002726.\n",
      "Iteration 11, inertia 3506.7007132286603.\n",
      "Iteration 12, inertia 3505.930841943389.\n",
      "Iteration 13, inertia 3505.355761204749.\n",
      "Converged at iteration 13: center shift 0.00018431121944260438 within tolerance 0.00027098868470996516.\n",
      "Initialization complete\n",
      "Iteration 0, inertia 5488.354098826979.\n",
      "Iteration 1, inertia 3670.1700929590306.\n",
      "Iteration 2, inertia 3575.609693250157.\n",
      "Iteration 3, inertia 3541.5963734329994.\n",
      "Iteration 4, inertia 3524.8465815422346.\n",
      "Iteration 5, inertia 3516.2890624175034.\n",
      "Iteration 6, inertia 3510.921389449348.\n",
      "Iteration 7, inertia 3506.785160076386.\n",
      "Iteration 8, inertia 3503.689685976478.\n",
      "Iteration 9, inertia 3502.6158425547483.\n",
      "Iteration 10, inertia 3501.6114123823354.\n",
      "Iteration 11, inertia 3501.172531520119.\n",
      "Iteration 12, inertia 3500.835775912668.\n",
      "Converged at iteration 12: center shift 8.596550204047696e-05 within tolerance 0.00027098868470996516.\n",
      "Initialization complete\n",
      "Iteration 0, inertia 4225.4594518749345.\n",
      "Iteration 1, inertia 3717.4383882831194.\n",
      "Iteration 2, inertia 3608.317486655693.\n",
      "Iteration 3, inertia 3572.4266786901003.\n",
      "Iteration 4, inertia 3557.0560393060114.\n",
      "Iteration 5, inertia 3545.147273336571.\n",
      "Iteration 6, inertia 3539.465158682211.\n",
      "Iteration 7, inertia 3534.6855326801115.\n",
      "Iteration 8, inertia 3531.0330656559618.\n",
      "Iteration 9, inertia 3527.5900371450957.\n",
      "Iteration 10, inertia 3524.8036691347456.\n",
      "Iteration 11, inertia 3521.502001731661.\n",
      "Iteration 12, inertia 3519.380884198025.\n",
      "Iteration 13, inertia 3517.398405210857.\n",
      "Iteration 14, inertia 3516.3619324920296.\n",
      "Iteration 15, inertia 3515.8374174671467.\n",
      "Converged at iteration 15: center shift 0.0001768995796482362 within tolerance 0.00027098868470996516.\n",
      "Initialization complete\n",
      "Iteration 0, inertia 6248.659222164147.\n",
      "Iteration 1, inertia 4058.4735837373837.\n",
      "Iteration 2, inertia 3759.286468194003.\n",
      "Iteration 3, inertia 3645.2745597342187.\n",
      "Iteration 4, inertia 3591.4326535624305.\n",
      "Iteration 5, inertia 3565.06500609997.\n",
      "Iteration 6, inertia 3549.8755614010342.\n",
      "Iteration 7, inertia 3543.175265531226.\n",
      "Iteration 8, inertia 3538.6224928734086.\n",
      "Iteration 9, inertia 3534.532986571296.\n",
      "Iteration 10, inertia 3531.6470285741334.\n",
      "Iteration 11, inertia 3528.487300094205.\n",
      "Iteration 12, inertia 3525.2149288757146.\n",
      "Iteration 13, inertia 3523.199350442198.\n",
      "Iteration 14, inertia 3521.324872776754.\n",
      "Iteration 15, inertia 3519.644573573133.\n",
      "Iteration 16, inertia 3518.280431781462.\n",
      "Iteration 17, inertia 3517.658662371129.\n",
      "Iteration 18, inertia 3517.308092217395.\n",
      "Iteration 19, inertia 3516.8000287643076.\n",
      "Iteration 20, inertia 3516.0664420636335.\n",
      "Iteration 21, inertia 3515.6443172439426.\n",
      "Converged at iteration 21: center shift 6.682675738283817e-05 within tolerance 0.00027098868470996516.\n",
      "Initialization complete\n",
      "Iteration 0, inertia 4367.656382644992.\n",
      "Iteration 1, inertia 3751.327787980164.\n",
      "Iteration 2, inertia 3660.63373721635.\n",
      "Iteration 3, inertia 3625.9076190682867.\n",
      "Iteration 4, inertia 3607.259622708826.\n",
      "Iteration 5, inertia 3592.3322372211774.\n",
      "Iteration 6, inertia 3577.249263567106.\n",
      "Iteration 7, inertia 3567.86555893639.\n",
      "Iteration 8, inertia 3562.728527029932.\n",
      "Iteration 9, inertia 3560.8758438829404.\n",
      "Iteration 10, inertia 3559.9876508288744.\n",
      "Iteration 11, inertia 3559.0611147433915.\n",
      "Iteration 12, inertia 3558.341491415397.\n",
      "Converged at iteration 12: center shift 0.00018053588333549606 within tolerance 0.00027098868470996516.\n",
      "Initialization complete\n",
      "Iteration 0, inertia 5350.397122061934.\n",
      "Iteration 1, inertia 4120.369678945274.\n",
      "Iteration 2, inertia 3831.783781536954.\n",
      "Iteration 3, inertia 3690.1403536329904.\n",
      "Iteration 4, inertia 3600.792650023447.\n",
      "Iteration 5, inertia 3556.313824423119.\n",
      "Iteration 6, inertia 3534.8857761852864.\n",
      "Iteration 7, inertia 3521.8909389768546.\n",
      "Iteration 8, inertia 3513.670895169362.\n",
      "Iteration 9, inertia 3508.17200383164.\n",
      "Iteration 10, inertia 3504.987440434241.\n",
      "Iteration 11, inertia 3503.7503133668083.\n",
      "Iteration 12, inertia 3503.2553188789425.\n",
      "Iteration 13, inertia 3502.1420969567152.\n",
      "Iteration 14, inertia 3501.211147577735.\n",
      "Iteration 15, inertia 3500.7737784349147.\n",
      "Converged at iteration 15: center shift 0.00019468603554373707 within tolerance 0.00027098868470996516.\n",
      "Initialization complete\n",
      "Iteration 0, inertia 4754.810451417832.\n",
      "Iteration 1, inertia 3750.7888986941607.\n",
      "Iteration 2, inertia 3606.19144382338.\n",
      "Iteration 3, inertia 3553.876608647454.\n",
      "Iteration 4, inertia 3532.0019321816417.\n",
      "Iteration 5, inertia 3524.537259619355.\n",
      "Iteration 6, inertia 3520.8522722146067.\n",
      "Iteration 7, inertia 3519.7987979455534.\n",
      "Iteration 8, inertia 3519.240787004702.\n",
      "Iteration 9, inertia 3518.766836409026.\n",
      "Converged at iteration 9: center shift 0.00015999760388368727 within tolerance 0.00027098868470996516.\n"
     ]
    }
   ],
   "source": [
    "# Setando a random seed novamente via numpy\n",
    "np.random.seed(SEED)\n",
    "\n",
    "# Criando o modelo kmeans\n",
    "kmeans_pca = KMeans(n_clusters=5, verbose=True)\n",
    "\n",
    "kmeans_pca.fit(projection)\n",
    "\n",
    "# Salvando os resultados nos dataframes\n",
    "base_genero['cluster_pca'] = kmeans_pca.predict(projection)\n",
    "projection['cluster_pca'] = base_genero['cluster_pca'].copy()"
   ]
  },
  {
   "cell_type": "code",
   "execution_count": 20,
   "metadata": {},
   "outputs": [],
   "source": [
    "projection['genres'] = base_genero['genres'].copy()"
   ]
  },
  {
   "cell_type": "code",
   "execution_count": 22,
   "metadata": {},
   "outputs": [
    {
     "data": {
      "application/vnd.plotly.v1+json": {
       "config": {
        "plotlyServerURL": "https://plot.ly"
       },
       "data": [
        {
         "customdata": [
          [
           "21st century classical"
          ],
          [
           "432hz"
          ],
          [
           "8-bit"
          ],
          [
           "[]"
          ],
          [
           "a cappella"
          ],
          [
           "abstract"
          ],
          [
           "abstract beats"
          ],
          [
           "abstract hip hop"
          ],
          [
           "accordeon"
          ],
          [
           "accordion"
          ],
          [
           "acid house"
          ],
          [
           "acid rock"
          ],
          [
           "acid trance"
          ],
          [
           "acousmatic"
          ],
          [
           "acoustic blues"
          ],
          [
           "acoustic pop"
          ],
          [
           "acoustic punk"
          ],
          [
           "acoustic rock"
          ],
          [
           "action rock"
          ],
          [
           "adoracion"
          ],
          [
           "adult standards"
          ],
          [
           "adventista"
          ],
          [
           "afghan pop"
          ],
          [
           "afghan traditional"
          ],
          [
           "african percussion"
          ],
          [
           "african reggae"
          ],
          [
           "african rock"
          ],
          [
           "african-american classical"
          ],
          [
           "afro dancehall"
          ],
          [
           "afro house"
          ],
          [
           "afro psych"
          ],
          [
           "afro soul"
          ],
          [
           "afro-funk"
          ],
          [
           "afrobeat"
          ],
          [
           "afrofuturism"
          ],
          [
           "afrofuturismo brasileiro"
          ],
          [
           "afropop"
          ],
          [
           "afroswing"
          ],
          [
           "aggrotech"
          ],
          [
           "alabama indie"
          ],
          [
           "alabama metal"
          ],
          [
           "alabama rap"
          ],
          [
           "alaska indie"
          ],
          [
           "albanian pop"
          ],
          [
           "albany ny indie"
          ],
          [
           "alberta country"
          ],
          [
           "alberta hip hop"
          ],
          [
           "album rock"
          ],
          [
           "albuquerque indie"
          ],
          [
           "alt-idol"
          ],
          [
           "alte"
          ],
          [
           "alternative americana"
          ],
          [
           "alternative country"
          ],
          [
           "alternative dance"
          ],
          [
           "alternative emo"
          ],
          [
           "alternative hip hop"
          ],
          [
           "alternative metal"
          ],
          [
           "alternative pop"
          ],
          [
           "alternative pop rock"
          ],
          [
           "alternative r&b"
          ],
          [
           "alternative rock"
          ],
          [
           "alternative roots rock"
          ],
          [
           "ambeat"
          ],
          [
           "ambient"
          ],
          [
           "ambient black metal"
          ],
          [
           "ambient folk"
          ],
          [
           "ambient house"
          ],
          [
           "ambient idm"
          ],
          [
           "ambient industrial"
          ],
          [
           "ambient pop"
          ],
          [
           "ambient techno"
          ],
          [
           "ambient worship"
          ],
          [
           "american 21st century classical"
          ],
          [
           "american choir"
          ],
          [
           "american classical piano"
          ],
          [
           "american contemporary classical"
          ],
          [
           "american early music"
          ],
          [
           "american folk revival"
          ],
          [
           "american metalcore"
          ],
          [
           "american modern classical"
          ],
          [
           "american oi"
          ],
          [
           "american orchestra"
          ],
          [
           "american post-rock"
          ],
          [
           "american primitive"
          ],
          [
           "american romanticism"
          ],
          [
           "american shoegaze"
          ],
          [
           "anadolu rock"
          ],
          [
           "anarcho-punk"
          ],
          [
           "anglican liturgy"
          ],
          [
           "animal singing"
          ],
          [
           "anime"
          ],
          [
           "anime latino"
          ],
          [
           "anime rock"
          ],
          [
           "anime score"
          ],
          [
           "ann arbor indie"
          ],
          [
           "anthem emo"
          ],
          [
           "anthem worship"
          ],
          [
           "anti-folk"
          ],
          [
           "antilliaanse folklore"
          ],
          [
           "antiviral pop"
          ],
          [
           "appalachian folk"
          ],
          [
           "arab folk"
          ],
          [
           "arab groove"
          ],
          [
           "arab pop"
          ],
          [
           "arabesk"
          ],
          [
           "arabic hip hop"
          ],
          [
           "arabic jazz"
          ],
          [
           "argentine ambient"
          ],
          [
           "argentine hardcore"
          ],
          [
           "argentine heavy metal"
          ],
          [
           "argentine hip hop"
          ],
          [
           "argentine indie"
          ],
          [
           "argentine metal"
          ],
          [
           "argentine punk"
          ],
          [
           "argentine reggae"
          ],
          [
           "argentine rock"
          ],
          [
           "argentine telepop"
          ],
          [
           "arizona punk"
          ],
          [
           "arkansas country"
          ],
          [
           "arkansas hip hop"
          ],
          [
           "arkansas indie"
          ],
          [
           "armenian folk"
          ],
          [
           "art pop"
          ],
          [
           "art punk"
          ],
          [
           "art rock"
          ],
          [
           "art song"
          ],
          [
           "asbury park indie"
          ],
          [
           "asheville indie"
          ],
          [
           "asian american hip hop"
          ],
          [
           "asmr"
          ],
          [
           "athens indie"
          ],
          [
           "atl hip hop"
          ],
          [
           "atl trap"
          ],
          [
           "atlanta indie"
          ],
          [
           "atlanta metal"
          ],
          [
           "atlanta punk"
          ],
          [
           "atmosphere"
          ],
          [
           "atmospheric black metal"
          ],
          [
           "atmospheric dnb"
          ],
          [
           "atmospheric post-metal"
          ],
          [
           "atmospheric post-rock"
          ],
          [
           "atmospheric sludge"
          ],
          [
           "auckland indie"
          ],
          [
           "audiophile vocal"
          ],
          [
           "aussietronica"
          ],
          [
           "austin americana"
          ],
          [
           "austin singer-songwriter"
          ],
          [
           "austindie"
          ],
          [
           "australian alternative pop"
          ],
          [
           "australian alternative rock"
          ],
          [
           "australian ambient"
          ],
          [
           "australian children's music"
          ],
          [
           "australian choir"
          ],
          [
           "australian classical"
          ],
          [
           "australian classical piano"
          ],
          [
           "australian country"
          ],
          [
           "australian dance"
          ],
          [
           "australian electropop"
          ],
          [
           "australian garage punk"
          ],
          [
           "australian hip hop"
          ],
          [
           "australian house"
          ],
          [
           "australian indie"
          ],
          [
           "australian indie folk"
          ],
          [
           "australian indie rock"
          ],
          [
           "australian indigenous"
          ],
          [
           "australian metal"
          ],
          [
           "australian metalcore"
          ],
          [
           "australian pop"
          ],
          [
           "australian post-hardcore"
          ],
          [
           "australian post-punk"
          ],
          [
           "australian psych"
          ],
          [
           "australian r&b"
          ],
          [
           "australian reggae fusion"
          ],
          [
           "australian rock"
          ],
          [
           "australian singer-songwriter"
          ],
          [
           "australian ska"
          ],
          [
           "australian talent show"
          ],
          [
           "australian trap"
          ],
          [
           "australian underground hip hop"
          ],
          [
           "austrian choir"
          ],
          [
           "austrian classical piano"
          ],
          [
           "austrian orchestra"
          ],
          [
           "austrian pop"
          ],
          [
           "austro-german modernism"
          ],
          [
           "austropop"
          ],
          [
           "autoharp"
          ],
          [
           "autonomous black metal"
          ],
          [
           "avant-garde"
          ],
          [
           "avant-garde jazz"
          ],
          [
           "avant-garde metal"
          ],
          [
           "axe"
          ],
          [
           "azeri traditional"
          ],
          [
           "azonto"
          ],
          [
           "azontobeats"
          ],
          [
           "bachata"
          ],
          [
           "bachata dominicana"
          ],
          [
           "background music"
          ],
          [
           "background piano"
          ],
          [
           "baglama"
          ],
          [
           "bahai"
          ],
          [
           "bahamian folk"
          ],
          [
           "bahamian pop"
          ],
          [
           "baiao"
          ],
          [
           "bajki"
          ],
          [
           "bakersfield sound"
          ],
          [
           "balearic"
          ],
          [
           "balkan brass"
          ],
          [
           "balkan classical piano"
          ],
          [
           "ballet class"
          ],
          [
           "ballroom"
          ],
          [
           "baltic classical"
          ],
          [
           "baltimore hip hop"
          ],
          [
           "baltimore indie"
          ],
          [
           "banda"
          ],
          [
           "banda caliente"
          ],
          [
           "banda carnavalera"
          ],
          [
           "bandinhas"
          ],
          [
           "bandolim"
          ],
          [
           "bandoneon"
          ],
          [
           "bangla"
          ],
          [
           "banjo"
          ],
          [
           "bansuri"
          ],
          [
           "barbadian pop"
          ],
          [
           "barbershop"
          ],
          [
           "bard"
          ],
          [
           "barnmusik"
          ],
          [
           "barockinterpreten"
          ],
          [
           "baroque"
          ],
          [
           "baroque brass"
          ],
          [
           "baroque ensemble"
          ],
          [
           "baroque pop"
          ],
          [
           "baroque singing"
          ],
          [
           "baroque violin"
          ],
          [
           "baroque woodwind"
          ],
          [
           "bass house"
          ],
          [
           "bass music"
          ],
          [
           "bass trap"
          ],
          [
           "basshall"
          ],
          [
           "bassline"
          ],
          [
           "bath indie"
          ],
          [
           "baton rouge indie"
          ],
          [
           "baton rouge rap"
          ],
          [
           "battle rap"
          ],
          [
           "bay area hip hop"
          ],
          [
           "bay area indie"
          ],
          [
           "bboy"
          ],
          [
           "bc underground hip hop"
          ],
          [
           "beach music"
          ],
          [
           "beat italiano"
          ],
          [
           "beat poetry"
          ],
          [
           "beatboxing"
          ],
          [
           "beatlesque"
          ],
          [
           "bebop"
          ],
          [
           "bedroom pop"
          ],
          [
           "bedroom soul"
          ],
          [
           "belarusian indie"
          ],
          [
           "belarusian pop"
          ],
          [
           "belarusian rock"
          ],
          [
           "belgian classical piano"
          ],
          [
           "belgian contemporary classical"
          ],
          [
           "belgian dance"
          ],
          [
           "belgian edm"
          ],
          [
           "belgian hardcore"
          ],
          [
           "belgian indie"
          ],
          [
           "belgian indie rock"
          ],
          [
           "belgian jazz"
          ],
          [
           "belgian new wave"
          ],
          [
           "belgian pop"
          ],
          [
           "belgian rock"
          ],
          [
           "belgian singer-songwriter"
          ],
          [
           "belgian techno"
          ],
          [
           "belly dance"
          ],
          [
           "bengali folk"
          ],
          [
           "beninese pop"
          ],
          [
           "bergen indie"
          ],
          [
           "berlin minimal techno"
          ],
          [
           "berlin school"
          ],
          [
           "bhajan"
          ],
          [
           "bhangra"
          ],
          [
           "bible"
          ],
          [
           "big band"
          ],
          [
           "big beat"
          ],
          [
           "big room"
          ],
          [
           "binaural"
          ],
          [
           "birdsong"
          ],
          [
           "birmingham grime"
          ],
          [
           "birmingham hip hop"
          ],
          [
           "birmingham metal"
          ],
          [
           "bitpop"
          ],
          [
           "black 'n' roll"
          ],
          [
           "black comedy"
          ],
          [
           "black metal"
          ],
          [
           "black punk"
          ],
          [
           "black thrash"
          ],
          [
           "blackened crust"
          ],
          [
           "blackgaze"
          ],
          [
           "bleep techno"
          ],
          [
           "bluegrass"
          ],
          [
           "bluegrass fiddle"
          ],
          [
           "bluegrass gospel"
          ],
          [
           "blues"
          ],
          [
           "blues latinoamericano"
          ],
          [
           "blues mexicano"
          ],
          [
           "blues rock"
          ],
          [
           "bmore"
          ],
          [
           "bolero"
          ],
          [
           "bolero cubano"
          ],
          [
           "boogaloo"
          ],
          [
           "boogie"
          ],
          [
           "boogie-woogie"
          ],
          [
           "boom bap"
          ],
          [
           "boom bap brasileiro"
          ],
          [
           "bossa nova"
          ],
          [
           "bossa nova jazz"
          ],
          [
           "boston folk"
          ],
          [
           "boston hardcore"
          ],
          [
           "boston hip hop"
          ],
          [
           "boston indie"
          ],
          [
           "boston metal"
          ],
          [
           "boston punk"
          ],
          [
           "boston rock"
          ],
          [
           "bounce"
          ],
          [
           "bouncy house"
          ],
          [
           "bouzouki"
          ],
          [
           "bow pop"
          ],
          [
           "boy band"
          ],
          [
           "boy pop"
          ],
          [
           "boy soprano"
          ],
          [
           "brain waves"
          ],
          [
           "braindance"
          ],
          [
           "brass band"
          ],
          [
           "brass ensemble"
          ],
          [
           "brass quintet"
          ],
          [
           "brazilian boogie"
          ],
          [
           "brazilian classical"
          ],
          [
           "brazilian classical piano"
          ],
          [
           "brazilian contemporary classical"
          ],
          [
           "brazilian edm"
          ],
          [
           "brazilian groove metal"
          ],
          [
           "brazilian hip hop"
          ],
          [
           "brazilian indie"
          ],
          [
           "brazilian jazz"
          ],
          [
           "brazilian metal"
          ],
          [
           "brazilian modern jazz"
          ],
          [
           "brazilian percussion"
          ],
          [
           "brazilian punk"
          ],
          [
           "brazilian reggae"
          ],
          [
           "brazilian rock"
          ],
          [
           "brazilian ska"
          ],
          [
           "brazilian soul"
          ],
          [
           "brazilian thrash metal"
          ],
          [
           "breakbeat"
          ],
          [
           "breakcore"
          ],
          [
           "brega"
          ],
          [
           "breton folk"
          ],
          [
           "brighton indie"
          ],
          [
           "brill building pop"
          ],
          [
           "brisbane indie"
          ],
          [
           "bristol electronic"
          ],
          [
           "bristol indie"
          ],
          [
           "brit funk"
          ],
          [
           "british alternative rock"
          ],
          [
           "british black metal"
          ],
          [
           "british blues"
          ],
          [
           "british children's music"
          ],
          [
           "british choir"
          ],
          [
           "british classical piano"
          ],
          [
           "british comedy"
          ],
          [
           "british contemporary classical"
          ],
          [
           "british dance band"
          ],
          [
           "british death metal"
          ],
          [
           "british experimental"
          ],
          [
           "british folk"
          ],
          [
           "british grindcore"
          ],
          [
           "british indie rock"
          ],
          [
           "british industrial"
          ],
          [
           "british invasion"
          ],
          [
           "british jazz"
          ],
          [
           "british modern classical"
          ],
          [
           "british orchestra"
          ],
          [
           "british post-rock"
          ],
          [
           "british power metal"
          ],
          [
           "british singer-songwriter"
          ],
          [
           "british soul"
          ],
          [
           "british soundtrack"
          ],
          [
           "britpop"
          ],
          [
           "broadway"
          ],
          [
           "broken beat"
          ],
          [
           "bronx hip hop"
          ],
          [
           "brooklyn drill"
          ],
          [
           "brooklyn indie"
          ],
          [
           "brostep"
          ],
          [
           "brutal death metal"
          ],
          [
           "brutal deathcore"
          ],
          [
           "bubble trance"
          ],
          [
           "bubblegrunge"
          ],
          [
           "bubblegum dance"
          ],
          [
           "bubblegum pop"
          ],
          [
           "buffalo hip hop"
          ],
          [
           "buffalo ny indie"
          ],
          [
           "buffalo ny metal"
          ],
          [
           "bulgarian experimental"
          ],
          [
           "burmese traditional"
          ],
          [
           "bush ballad"
          ],
          [
           "c-pop"
          ],
          [
           "c86"
          ],
          [
           "cabaret"
          ],
          [
           "cajun"
          ],
          [
           "calgary indie"
          ],
          [
           "cali rap"
          ],
          [
           "calming instrumental"
          ],
          [
           "calypso"
          ],
          [
           "cambodian rock"
          ],
          [
           "cambridge choir"
          ],
          [
           "cambridgeshire indie"
          ],
          [
           "cameroonian pop"
          ],
          [
           "canadian americana"
          ],
          [
           "canadian blues"
          ],
          [
           "canadian ccm"
          ],
          [
           "canadian celtic"
          ],
          [
           "canadian children's music"
          ],
          [
           "canadian choir"
          ],
          [
           "canadian classical"
          ],
          [
           "canadian classical piano"
          ],
          [
           "canadian comedy"
          ],
          [
           "canadian contemporary country"
          ],
          [
           "canadian contemporary r&b"
          ],
          [
           "canadian country"
          ],
          [
           "canadian electronic"
          ],
          [
           "canadian electropop"
          ],
          [
           "canadian experimental"
          ],
          [
           "canadian folk"
          ],
          [
           "canadian hardcore"
          ],
          [
           "canadian hip hop"
          ],
          [
           "canadian house"
          ],
          [
           "canadian indie"
          ],
          [
           "canadian indie folk"
          ],
          [
           "canadian indigenous"
          ],
          [
           "canadian indigenous hip hop"
          ],
          [
           "canadian latin"
          ],
          [
           "canadian metal"
          ],
          [
           "canadian metalcore"
          ],
          [
           "canadian modern jazz"
          ],
          [
           "canadian pop"
          ],
          [
           "canadian pop punk"
          ],
          [
           "canadian post-hardcore"
          ],
          [
           "canadian post-rock"
          ],
          [
           "canadian psychedelic"
          ],
          [
           "canadian punk"
          ],
          [
           "canadian rock"
          ],
          [
           "canadian rockabilly"
          ],
          [
           "canadian singer-songwriter"
          ],
          [
           "canadian soundtrack"
          ],
          [
           "cancion melodica"
          ],
          [
           "candy pop"
          ],
          [
           "cantautor"
          ],
          [
           "cante flamenco"
          ],
          [
           "canterbury scene"
          ],
          [
           "canto popular uruguayo"
          ],
          [
           "cantopop"
          ],
          [
           "canzone d'autore"
          ],
          [
           "canzone genovese"
          ],
          [
           "canzone napoletana"
          ],
          [
           "cape town indie"
          ],
          [
           "cape verdean folk"
          ],
          [
           "capoeira"
          ],
          [
           "caracas indie"
          ],
          [
           "carnatic"
          ],
          [
           "carnatic instrumental"
          ],
          [
           "carnatic vocal"
          ],
          [
           "cartoon"
          ],
          [
           "cathedral choir"
          ],
          [
           "caucasian classical"
          ],
          [
           "caucasian classical piano"
          ],
          [
           "ccm"
          ],
          [
           "cedm"
          ],
          [
           "cello"
          ],
          [
           "celtic"
          ],
          [
           "celtic harp"
          ],
          [
           "celtic metal"
          ],
          [
           "celtic punk"
          ],
          [
           "celtic rock"
          ],
          [
           "cha-cha-cha"
          ],
          [
           "chakra"
          ],
          [
           "chamame"
          ],
          [
           "chamber choir"
          ],
          [
           "chamber ensemble"
          ],
          [
           "chamber folk"
          ],
          [
           "chamber orchestra"
          ],
          [
           "chamber pop"
          ],
          [
           "chamber psych"
          ],
          [
           "champeta"
          ],
          [
           "channel islands indie"
          ],
          [
           "channel pop"
          ],
          [
           "chanson"
          ],
          [
           "chanson paillarde"
          ],
          [
           "chaotic hardcore"
          ],
          [
           "charanga"
          ],
          [
           "charango"
          ],
          [
           "charlotte nc indie"
          ],
          [
           "charlottesville indie"
          ],
          [
           "chattanooga indie"
          ],
          [
           "chicago blues"
          ],
          [
           "chicago drill"
          ],
          [
           "chicago hardcore"
          ],
          [
           "chicago house"
          ],
          [
           "chicago indie"
          ],
          [
           "chicago pop punk"
          ],
          [
           "chicago punk"
          ],
          [
           "chicago rap"
          ],
          [
           "chicago soul"
          ],
          [
           "chicano punk"
          ],
          [
           "chicano rap"
          ],
          [
           "chicha"
          ],
          [
           "chihuahua indie"
          ],
          [
           "children's choir"
          ],
          [
           "children's folk"
          ],
          [
           "children's music"
          ],
          [
           "children's story"
          ],
          [
           "chilean hardcore"
          ],
          [
           "chilean indie"
          ],
          [
           "chilean rock"
          ],
          [
           "chilena"
          ],
          [
           "chill beats"
          ],
          [
           "chill guitar"
          ],
          [
           "chill lounge"
          ],
          [
           "chill out"
          ],
          [
           "chill pop"
          ],
          [
           "chill r&b"
          ],
          [
           "chillhop"
          ],
          [
           "chillstep"
          ],
          [
           "chillwave"
          ],
          [
           "chinese audiophile"
          ],
          [
           "chinese classical"
          ],
          [
           "chinese classical performance"
          ],
          [
           "chinese classical piano"
          ],
          [
           "chinese electropop"
          ],
          [
           "chinese hip hop"
          ],
          [
           "chinese idol pop"
          ],
          [
           "chinese indie"
          ],
          [
           "chinese indie rock"
          ],
          [
           "chinese instrumental"
          ],
          [
           "chinese jazz"
          ],
          [
           "chinese r&b"
          ],
          [
           "chinese soundtrack"
          ],
          [
           "chinese traditional"
          ],
          [
           "chiptune"
          ],
          [
           "chopped and screwed"
          ],
          [
           "choral"
          ],
          [
           "choro"
          ],
          [
           "christchurch indie"
          ],
          [
           "christelijk"
          ],
          [
           "christian a cappella"
          ],
          [
           "christian alternative rock"
          ],
          [
           "christian dance"
          ],
          [
           "christian hard rock"
          ],
          [
           "christian hardcore"
          ],
          [
           "christian hip hop"
          ],
          [
           "christian indie"
          ],
          [
           "christian metal"
          ],
          [
           "christian metalcore"
          ],
          [
           "christian music"
          ],
          [
           "christian pop"
          ],
          [
           "christian power metal"
          ],
          [
           "christian punk"
          ],
          [
           "christian relaxative"
          ],
          [
           "christian rock"
          ],
          [
           "christian trap"
          ],
          [
           "christian uplift"
          ],
          [
           "christmas instrumental"
          ],
          [
           "christmas product"
          ],
          [
           "chunchaca"
          ],
          [
           "chutney"
          ],
          [
           "cincinnati rap"
          ],
          [
           "cinematic post-rock"
          ],
          [
           "circuit"
          ],
          [
           "circus"
          ],
          [
           "classic afrobeat"
          ],
          [
           "classic arab pop"
          ],
          [
           "classic australian country"
          ],
          [
           "classic belgian pop"
          ],
          [
           "classic bhangra"
          ],
          [
           "classic bollywood"
          ],
          [
           "classic canadian rock"
          ],
          [
           "classic cantopop"
          ],
          [
           "classic colombian pop"
          ],
          [
           "classic country pop"
          ],
          [
           "classic czech pop"
          ],
          [
           "classic danish pop"
          ],
          [
           "classic dubstep"
          ],
          [
           "classic eurovision"
          ],
          [
           "classic finnish pop"
          ],
          [
           "classic french pop"
          ],
          [
           "classic garage rock"
          ],
          [
           "classic girl group"
          ],
          [
           "classic greek pop"
          ],
          [
           "classic hardstyle"
          ],
          [
           "classic icelandic pop"
          ],
          [
           "classic indo pop"
          ],
          [
           "classic iskelma"
          ],
          [
           "classic israeli pop"
          ],
          [
           "classic italian folk pop"
          ],
          [
           "classic italian pop"
          ],
          [
           "classic j-rock"
          ],
          [
           "classic japanese jazz"
          ],
          [
           "classic korean pop"
          ],
          [
           "classic latvian pop"
          ],
          [
           "classic mandopop"
          ],
          [
           "classic norwegian pop"
          ],
          [
           "classic opm"
          ],
          [
           "classic pakistani pop"
          ],
          [
           "classic persian pop"
          ],
          [
           "classic peruvian pop"
          ],
          [
           "classic polish pop"
          ],
          [
           "classic praise"
          ],
          [
           "classic psychedelic rock"
          ],
          [
           "classic punjabi pop"
          ],
          [
           "classic rock"
          ],
          [
           "classic russian pop"
          ],
          [
           "classic russian rock"
          ],
          [
           "classic schlager"
          ],
          [
           "classic soul"
          ],
          [
           "classic soundtrack"
          ],
          [
           "classic swedish pop"
          ],
          [
           "classic thai pop"
          ],
          [
           "classic tunisian pop"
          ],
          [
           "classic turkish pop"
          ],
          [
           "classic uk pop"
          ],
          [
           "classic venezuelan pop"
          ],
          [
           "classical"
          ],
          [
           "classical accordion"
          ],
          [
           "classical baritone"
          ],
          [
           "classical bass"
          ],
          [
           "classical cello"
          ],
          [
           "classical clarinet"
          ],
          [
           "classical contralto"
          ],
          [
           "classical countertenor"
          ],
          [
           "classical era"
          ],
          [
           "classical flute"
          ],
          [
           "classical guitar"
          ],
          [
           "classical harp"
          ],
          [
           "classical horn"
          ],
          [
           "classical mandolin"
          ],
          [
           "classical mezzo-soprano"
          ],
          [
           "classical oboe"
          ],
          [
           "classical organ"
          ],
          [
           "classical performance"
          ],
          [
           "classical piano"
          ],
          [
           "classical piano duo"
          ],
          [
           "classical piano trio"
          ],
          [
           "classical saxophone"
          ],
          [
           "classical soprano"
          ],
          [
           "classical tenor"
          ],
          [
           "classical trumpet"
          ],
          [
           "classify"
          ],
          [
           "clawhammer banjo"
          ],
          [
           "clean comedy"
          ],
          [
           "cleveland metal"
          ],
          [
           "coco"
          ],
          [
           "collage pop"
          ],
          [
           "college a cappella"
          ],
          [
           "colombian hip hop"
          ],
          [
           "colombian pop"
          ],
          [
           "colombian rock"
          ],
          [
           "columbus ohio indie"
          ],
          [
           "comedy"
          ],
          [
           "comedy rap"
          ],
          [
           "comedy rock"
          ],
          [
           "comic"
          ],
          [
           "comic metal"
          ],
          [
           "commons"
          ],
          [
           "complextro"
          ],
          [
           "compositional ambient"
          ],
          [
           "concepcion indie"
          ],
          [
           "concert band"
          ],
          [
           "connecticut hardcore"
          ],
          [
           "connecticut indie"
          ],
          [
           "conscious hip hop"
          ],
          [
           "contemporary choir"
          ],
          [
           "contemporary classical"
          ],
          [
           "contemporary classical piano"
          ],
          [
           "contemporary country"
          ],
          [
           "contemporary folk"
          ],
          [
           "contemporary gospel"
          ],
          [
           "contemporary jazz"
          ],
          [
           "contemporary post-bop"
          ],
          [
           "contemporary vocal jazz"
          ],
          [
           "contrabass"
          ],
          [
           "cool jazz"
          ],
          [
           "copla"
          ],
          [
           "cornish folk"
          ],
          [
           "cornwall indie"
          ],
          [
           "corrido"
          ],
          [
           "corridos cristianos"
          ],
          [
           "corridos tumbados"
          ],
          [
           "corrosion"
          ],
          [
           "cosmic american"
          ],
          [
           "cosmic post-rock"
          ],
          [
           "country"
          ],
          [
           "country blues"
          ],
          [
           "country boogie"
          ],
          [
           "country dawn"
          ],
          [
           "country gospel"
          ],
          [
           "country pop"
          ],
          [
           "country rap"
          ],
          [
           "country road"
          ],
          [
           "country rock"
          ],
          [
           "coverchill"
          ],
          [
           "cowboy western"
          ],
          [
           "cowpunk"
          ],
          [
           "crack rock steady"
          ],
          [
           "croatian folk"
          ],
          [
           "croatian pop"
          ],
          [
           "croatian rock"
          ],
          [
           "crossover thrash"
          ],
          [
           "crunk"
          ],
          [
           "crust punk"
          ],
          [
           "cuarteto"
          ],
          [
           "cuatro venezolano"
          ],
          [
           "cuban alternative"
          ],
          [
           "cuban rumba"
          ],
          [
           "cubaton"
          ],
          [
           "cumbia"
          ],
          [
           "cumbia andina mexicana"
          ],
          [
           "cumbia chilena"
          ],
          [
           "cumbia colombiana regia"
          ],
          [
           "cumbia ecuatoriana"
          ],
          [
           "cumbia funk"
          ],
          [
           "cumbia lagunera"
          ],
          [
           "cumbia paraguaya"
          ],
          [
           "cumbia peruana"
          ],
          [
           "cumbia pop"
          ],
          [
           "cumbia ranchera"
          ],
          [
           "cumbia salvadorena"
          ],
          [
           "cumbia santafesina"
          ],
          [
           "cumbia sonidera"
          ],
          [
           "cumbia villera"
          ],
          [
           "cyberpunk"
          ],
          [
           "cymraeg"
          ],
          [
           "cypriot pop"
          ],
          [
           "czech classical"
          ],
          [
           "czech classical piano"
          ],
          [
           "czech contemporary classical"
          ],
          [
           "d-beat"
          ],
          [
           "dabke"
          ],
          [
           "dakke dak"
          ],
          [
           "dallas indie"
          ],
          [
           "dance pop"
          ],
          [
           "dance rock"
          ],
          [
           "dance-punk"
          ],
          [
           "dancehall"
          ],
          [
           "dangdut"
          ],
          [
           "danish alternative rock"
          ],
          [
           "danish classical"
          ],
          [
           "danish electronic"
          ],
          [
           "danish electropop"
          ],
          [
           "danish hip hop"
          ],
          [
           "danish jazz"
          ],
          [
           "danish metal"
          ],
          [
           "danish pop"
          ],
          [
           "danish pop rock"
          ],
          [
           "danish post-punk"
          ],
          [
           "danish punk"
          ],
          [
           "danish rock"
          ],
          [
           "danish singer-songwriter"
          ],
          [
           "dansband"
          ],
          [
           "danseband"
          ],
          [
           "dansktop"
          ],
          [
           "danspunk"
          ],
          [
           "dark cabaret"
          ],
          [
           "dark clubbing"
          ],
          [
           "dark disco"
          ],
          [
           "dark hardcore"
          ],
          [
           "dark jazz"
          ],
          [
           "dark minimal techno"
          ],
          [
           "dark post-punk"
          ],
          [
           "dark techno"
          ],
          [
           "dark trap"
          ],
          [
           "dark wave"
          ],
          [
           "darksynth"
          ],
          [
           "dayton indie"
          ],
          [
           "dc hardcore"
          ],
          [
           "dc indie"
          ],
          [
           "death 'n' roll"
          ],
          [
           "death metal"
          ],
          [
           "deathcore"
          ],
          [
           "deathgrass"
          ],
          [
           "deathgrind"
          ],
          [
           "deathrash"
          ],
          [
           "deathrock"
          ],
          [
           "deathstep"
          ],
          [
           "deep acoustic pop"
          ],
          [
           "deep adult standards"
          ],
          [
           "deep big room"
          ],
          [
           "deep ccm"
          ],
          [
           "deep christian rock"
          ],
          [
           "deep classic garage rock"
          ],
          [
           "deep comedy"
          ],
          [
           "deep contemporary country"
          ],
          [
           "deep dance pop"
          ],
          [
           "deep delta blues"
          ],
          [
           "deep disco"
          ],
          [
           "deep disco house"
          ],
          [
           "deep dnb"
          ],
          [
           "deep east coast hip hop"
          ],
          [
           "deep euro house"
          ],
          [
           "deep flow"
          ],
          [
           "deep free jazz"
          ],
          [
           "deep freestyle"
          ],
          [
           "deep full on"
          ],
          [
           "deep funk"
          ],
          [
           "deep g funk"
          ],
          [
           "deep gothic post-punk"
          ],
          [
           "deep groove house"
          ],
          [
           "deep house"
          ],
          [
           "deep idm"
          ],
          [
           "deep indian pop"
          ],
          [
           "deep indie singer-songwriter"
          ],
          [
           "deep latin alternative"
          ],
          [
           "deep latin christian"
          ],
          [
           "deep melodic metalcore"
          ],
          [
           "deep minimal techno"
          ],
          [
           "deep motown"
          ],
          [
           "deep new americana"
          ],
          [
           "deep new wave"
          ],
          [
           "deep norteno"
          ],
          [
           "deep northern soul"
          ],
          [
           "deep pop edm"
          ],
          [
           "deep progressive house"
          ],
          [
           "deep psychobilly"
          ],
          [
           "deep punk rock"
          ],
          [
           "deep r&b"
          ],
          [
           "deep ragga"
          ],
          [
           "deep regional mexican"
          ],
          [
           "deep smooth jazz"
          ],
          [
           "deep soft rock"
          ],
          [
           "deep soul house"
          ],
          [
           "deep soundtrack"
          ],
          [
           "deep southern soul"
          ],
          [
           "deep southern trap"
          ],
          [
           "deep space rock"
          ],
          [
           "deep talent show"
          ],
          [
           "deep tech house"
          ],
          [
           "deep techno"
          ],
          [
           "deep tropical house"
          ],
          [
           "deep underground hip hop"
          ],
          [
           "deep uplifting trance"
          ],
          [
           "delta blues"
          ],
          [
           "dembow"
          ],
          [
           "denpa-kei"
          ],
          [
           "denton tx indie"
          ],
          [
           "denver indie"
          ],
          [
           "depressive black metal"
          ],
          [
           "derby indie"
          ],
          [
           "desert blues"
          ],
          [
           "desi hip hop"
          ],
          [
           "desi pop"
          ],
          [
           "destroy techno"
          ],
          [
           "detroit hip hop"
          ],
          [
           "detroit house"
          ],
          [
           "detroit techno"
          ],
          [
           "detroit trap"
          ],
          [
           "detske pisnicky"
          ],
          [
           "detskie pesni"
          ],
          [
           "devon indie"
          ],
          [
           "dfw rap"
          ],
          [
           "dhrupad"
          ],
          [
           "digital hardcore"
          ],
          [
           "dinner jazz"
          ],
          [
           "dirty south rap"
          ],
          [
           "dirty texas rap"
          ],
          [
           "disco"
          ],
          [
           "disco house"
          ],
          [
           "disney"
          ],
          [
           "diva house"
          ],
          [
           "dixieland"
          ],
          [
           "diy emo"
          ],
          [
           "djent"
          ],
          [
           "dmv rap"
          ],
          [
           "dominican pop"
          ],
          [
           "dong-yo"
          ],
          [
           "doo-wop"
          ],
          [
           "doom metal"
          ],
          [
           "double drumming"
          ],
          [
           "downtempo"
          ],
          [
           "drama"
          ],
          [
           "dream pop"
          ],
          [
           "dream trance"
          ],
          [
           "dreamgaze"
          ],
          [
           "dreamo"
          ],
          [
           "drift"
          ],
          [
           "drill"
          ],
          [
           "drill and bass"
          ],
          [
           "drone"
          ],
          [
           "drone folk"
          ],
          [
           "drone metal"
          ],
          [
           "drum and bass"
          ],
          [
           "dub"
          ],
          [
           "dub metal"
          ],
          [
           "dub poetry"
          ],
          [
           "dub techno"
          ],
          [
           "dubstep"
          ],
          [
           "dubsteppe"
          ],
          [
           "duduk"
          ],
          [
           "duluth indie"
          ],
          [
           "dunedin indie"
          ],
          [
           "dunedin sound"
          ],
          [
           "dungeon synth"
          ],
          [
           "duranguense"
          ],
          [
           "dusseldorf electronic"
          ],
          [
           "dutch blues"
          ],
          [
           "dutch cabaret"
          ],
          [
           "dutch classical piano"
          ],
          [
           "dutch death metal"
          ],
          [
           "dutch dnb"
          ],
          [
           "dutch edm"
          ],
          [
           "dutch folk"
          ],
          [
           "dutch hip hop"
          ],
          [
           "dutch house"
          ],
          [
           "dutch indie"
          ],
          [
           "dutch jazz"
          ],
          [
           "dutch metal"
          ],
          [
           "dutch pop"
          ],
          [
           "dutch prog"
          ],
          [
           "dutch rap pop"
          ],
          [
           "dutch rock"
          ],
          [
           "dutch trance"
          ],
          [
           "e6fi"
          ],
          [
           "early american folk"
          ],
          [
           "early avant garde"
          ],
          [
           "early modern classical"
          ],
          [
           "early music"
          ],
          [
           "early music choir"
          ],
          [
           "early music ensemble"
          ],
          [
           "early reggae"
          ],
          [
           "early romantic era"
          ],
          [
           "early synthpop"
          ],
          [
           "early us punk"
          ],
          [
           "east coast hip hop"
          ],
          [
           "east coast reggae"
          ],
          [
           "eastern bloc groove"
          ],
          [
           "easy listening"
          ],
          [
           "easycore"
          ],
          [
           "eau claire indie"
          ],
          [
           "ebm"
          ],
          [
           "ecm-style jazz"
          ],
          [
           "ectofolk"
          ],
          [
           "ecuadorian pop"
          ],
          [
           "edm"
          ],
          [
           "edmonton indie"
          ],
          [
           "egyptian pop"
          ],
          [
           "egyptian traditional"
          ],
          [
           "el paso indie"
          ],
          [
           "electra"
          ],
          [
           "electric bass"
          ],
          [
           "electric blues"
          ],
          [
           "electro"
          ],
          [
           "electro house"
          ],
          [
           "electro jazz"
          ],
          [
           "electro latino"
          ],
          [
           "electro swing"
          ],
          [
           "electro-industrial"
          ],
          [
           "electro-pop francais"
          ],
          [
           "electroclash"
          ],
          [
           "electrofox"
          ],
          [
           "electronic djent"
          ],
          [
           "electronic rock"
          ],
          [
           "electronic trap"
          ],
          [
           "electronica"
          ],
          [
           "electronica argentina"
          ],
          [
           "electropop"
          ],
          [
           "electropowerpop"
          ],
          [
           "emo"
          ],
          [
           "emo mexicano"
          ],
          [
           "emo punk"
          ],
          [
           "emo rap"
          ],
          [
           "emocore"
          ],
          [
           "english baroque"
          ],
          [
           "english indie rock"
          ],
          [
           "english renaissance"
          ],
          [
           "enka"
          ],
          [
           "entehno"
          ],
          [
           "environmental"
          ],
          [
           "epic doom"
          ],
          [
           "epicore"
          ],
          [
           "erhu"
          ],
          [
           "escape room"
          ],
          [
           "esperanto"
          ],
          [
           "essex indie"
          ],
          [
           "estonian hip hop"
          ],
          [
           "estonian pop"
          ],
          [
           "ethereal wave"
          ],
          [
           "etherpop"
          ],
          [
           "ethio-jazz"
          ],
          [
           "ethiopian pop"
          ],
          [
           "ethnomusicology"
          ],
          [
           "ethnotronica"
          ],
          [
           "eugene indie"
          ],
          [
           "euphoric hardstyle"
          ],
          [
           "eurobeat"
          ],
          [
           "eurodance"
          ],
          [
           "europop"
          ],
          [
           "euroska"
          ],
          [
           "eurovision"
          ],
          [
           "exotica"
          ],
          [
           "experimental"
          ],
          [
           "experimental ambient"
          ],
          [
           "experimental big band"
          ],
          [
           "experimental dub"
          ],
          [
           "experimental folk"
          ],
          [
           "experimental guitar"
          ],
          [
           "experimental hip hop"
          ],
          [
           "experimental house"
          ],
          [
           "experimental indie"
          ],
          [
           "experimental jazz"
          ],
          [
           "experimental pop"
          ],
          [
           "experimental rock"
          ],
          [
           "experimental vocal"
          ],
          [
           "fado"
          ],
          [
           "family gospel"
          ],
          [
           "faroese pop"
          ],
          [
           "fast melodic punk"
          ],
          [
           "fidget house"
          ],
          [
           "filmi"
          ],
          [
           "filter house"
          ],
          [
           "filthstep"
          ],
          [
           "final fantasy"
          ],
          [
           "fingerstyle"
          ],
          [
           "finnish alternative rock"
          ],
          [
           "finnish classical"
          ],
          [
           "finnish contemporary classical"
          ],
          [
           "finnish death metal"
          ],
          [
           "finnish edm"
          ],
          [
           "finnish hard rock"
          ],
          [
           "finnish heavy metal"
          ],
          [
           "finnish metal"
          ],
          [
           "finnish power metal"
          ],
          [
           "finnish soul"
          ],
          [
           "flamenco"
          ],
          [
           "flamenco guitar"
          ],
          [
           "flick hop"
          ],
          [
           "flint hip hop"
          ],
          [
           "float house"
          ],
          [
           "florida death metal"
          ],
          [
           "florida rap"
          ],
          [
           "fluxwork"
          ],
          [
           "fo jing"
          ],
          [
           "focus"
          ],
          [
           "focus beats"
          ],
          [
           "focus trance"
          ],
          [
           "folclor afrocolombiano"
          ],
          [
           "folclor colombiano"
          ],
          [
           "folclore extremeno"
          ],
          [
           "folclore jujeno"
          ],
          [
           "folclore navarra"
          ],
          [
           "folclore salteno"
          ],
          [
           "folclore tucumano"
          ],
          [
           "folk"
          ],
          [
           "folk metal"
          ],
          [
           "folk punk"
          ],
          [
           "folk rock"
          ],
          [
           "folk rock italiano"
          ],
          [
           "folk-pop"
          ],
          [
           "folklore argentino"
          ],
          [
           "folklore boliviano"
          ],
          [
           "folklore chileno"
          ],
          [
           "folklore ecuatoriano"
          ],
          [
           "folklore peruano"
          ],
          [
           "folklore venezolano"
          ],
          [
           "folklore veracruzano"
          ],
          [
           "folkmusik"
          ],
          [
           "folktronica"
          ],
          [
           "footwork"
          ],
          [
           "forro"
          ],
          [
           "forro tradicional"
          ],
          [
           "fort worth indie"
          ],
          [
           "fourth world"
          ],
          [
           "francoton"
          ],
          [
           "freak folk"
          ],
          [
           "freakbeat"
          ],
          [
           "free folk"
          ],
          [
           "free improvisation"
          ],
          [
           "free jazz"
          ],
          [
           "freestyle"
          ],
          [
           "french baroque"
          ],
          [
           "french classical piano"
          ],
          [
           "french contemporary classical"
          ],
          [
           "french death metal"
          ],
          [
           "french dnb"
          ],
          [
           "french hip hop"
          ],
          [
           "french indie folk"
          ],
          [
           "french indie pop"
          ],
          [
           "french indietronica"
          ],
          [
           "french jazz"
          ],
          [
           "french metal"
          ],
          [
           "french movie tunes"
          ],
          [
           "french opera"
          ],
          [
           "french orchestra"
          ],
          [
           "french pop"
          ],
          [
           "french post-punk"
          ],
          [
           "french psychedelic"
          ],
          [
           "french reggae"
          ],
          [
           "french rock"
          ],
          [
           "french romanticism"
          ],
          [
           "french shoegaze"
          ],
          [
           "french soundtrack"
          ],
          [
           "french synthpop"
          ],
          [
           "french techno"
          ],
          [
           "frenchcore"
          ],
          [
           "full on"
          ],
          [
           "funana"
          ],
          [
           "funeral doom"
          ],
          [
           "funk"
          ],
          [
           "funk 150 bpm"
          ],
          [
           "funk carioca"
          ],
          [
           "funk das antigas"
          ],
          [
           "funk metal"
          ],
          [
           "funk mexicano"
          ],
          [
           "funk ostentacao"
          ],
          [
           "funk paulista"
          ],
          [
           "funk pop"
          ],
          [
           "funk rock"
          ],
          [
           "funky breaks"
          ],
          [
           "funky tech house"
          ],
          [
           "future bass"
          ],
          [
           "future funk"
          ],
          [
           "future garage"
          ],
          [
           "future house"
          ],
          [
           "future rock"
          ],
          [
           "futurepop"
          ],
          [
           "g funk"
          ],
          [
           "gabba"
          ],
          [
           "gabonese pop"
          ],
          [
           "gaian doom"
          ],
          [
           "gainesville indie"
          ],
          [
           "gaita zuliana"
          ],
          [
           "galante era"
          ],
          [
           "gamelan"
          ],
          [
           "gaming dubstep"
          ],
          [
           "gaming edm"
          ],
          [
           "gangster rap"
          ],
          [
           "garage house"
          ],
          [
           "garage pop"
          ],
          [
           "garage psych"
          ],
          [
           "garage punk"
          ],
          [
           "garage punk blues"
          ],
          [
           "garage rock"
          ],
          [
           "garage rock revival"
          ],
          [
           "gauze pop"
          ],
          [
           "gbvfi"
          ],
          [
           "geek folk"
          ],
          [
           "geek rock"
          ],
          [
           "georgian folk"
          ],
          [
           "german alternative rock"
          ],
          [
           "german baroque"
          ],
          [
           "german choir"
          ],
          [
           "german classical piano"
          ],
          [
           "german country"
          ],
          [
           "german dance"
          ],
          [
           "german hard rock"
          ],
          [
           "german heavy metal"
          ],
          [
           "german house"
          ],
          [
           "german indie"
          ],
          [
           "german jazz"
          ],
          [
           "german literature"
          ],
          [
           "german metal"
          ],
          [
           "german oi"
          ],
          [
           "german opera"
          ],
          [
           "german orchestra"
          ],
          [
           "german pop"
          ],
          [
           "german pop rock"
          ],
          [
           "german post-hardcore"
          ],
          [
           "german power metal"
          ],
          [
           "german punk"
          ],
          [
           "german renaissance"
          ],
          [
           "german rock"
          ],
          [
           "german romanticism"
          ],
          [
           "german show tunes"
          ],
          [
           "german soundtrack"
          ],
          [
           "german techno"
          ],
          [
           "german thrash metal"
          ],
          [
           "german trance"
          ],
          [
           "german underground rap"
          ],
          [
           "ghanaian hip hop"
          ],
          [
           "ghanaian traditional"
          ],
          [
           "ghazal"
          ],
          [
           "ghent indie"
          ],
          [
           "girl group"
          ],
          [
           "glam metal"
          ],
          [
           "glam punk"
          ],
          [
           "glam rock"
          ],
          [
           "glee club"
          ],
          [
           "glitch"
          ],
          [
           "glitch hop"
          ],
          [
           "glitch pop"
          ],
          [
           "glitchcore"
          ],
          [
           "go-go"
          ],
          [
           "goregrind"
          ],
          [
           "gospel"
          ],
          [
           "gospel antigas"
          ],
          [
           "gospel blues"
          ],
          [
           "gospel italiano"
          ],
          [
           "gospel r&b"
          ],
          [
           "gospel rap"
          ],
          [
           "gospel singers"
          ],
          [
           "gospel soul"
          ],
          [
           "gothabilly"
          ],
          [
           "gothenburg indie"
          ],
          [
           "gothenburg metal"
          ],
          [
           "gothic alternative"
          ],
          [
           "gothic americana"
          ],
          [
           "gothic black metal"
          ],
          [
           "gothic metal"
          ],
          [
           "gothic post-punk"
          ],
          [
           "gothic rock"
          ],
          [
           "gothic symphonic metal"
          ],
          [
           "gqom"
          ],
          [
           "grand rapids indie"
          ],
          [
           "grave wave"
          ],
          [
           "greek clarinet"
          ],
          [
           "greek contemporary classical"
          ],
          [
           "greek folk"
          ],
          [
           "greek guitar"
          ],
          [
           "greek house"
          ],
          [
           "greek jazz"
          ],
          [
           "greek pop"
          ],
          [
           "greek swing"
          ],
          [
           "gregorian chant"
          ],
          [
           "grime"
          ],
          [
           "grindcore"
          ],
          [
           "griot"
          ],
          [
           "groove metal"
          ],
          [
           "groove room"
          ],
          [
           "grunge"
          ],
          [
           "grunge pop"
          ],
          [
           "grupera"
          ],
          [
           "gruperas inmortales"
          ],
          [
           "guadalajara indie"
          ],
          [
           "guam indie"
          ],
          [
           "guaracha"
          ],
          [
           "guatemalan pop"
          ],
          [
           "guidance"
          ],
          [
           "guinean pop"
          ],
          [
           "guitarra argentina"
          ],
          [
           "guitarra clasica"
          ],
          [
           "guitarra portuguesa"
          ],
          [
           "gujarati garba"
          ],
          [
           "gujarati pop"
          ],
          [
           "guzheng"
          ],
          [
           "gymcore"
          ],
          [
           "gypsy"
          ],
          [
           "gypsy jazz"
          ],
          [
           "gypsy punk"
          ],
          [
           "haitian traditional"
          ],
          [
           "halifax indie"
          ],
          [
           "halloween"
          ],
          [
           "hamburg electronic"
          ],
          [
           "hammered dulcimer"
          ],
          [
           "hammond organ"
          ],
          [
           "hands up"
          ],
          [
           "hangpan"
          ],
          [
           "happy hardcore"
          ],
          [
           "hard alternative"
          ],
          [
           "hard bop"
          ],
          [
           "hard minimal techno"
          ],
          [
           "hard rock"
          ],
          [
           "hard rock brasileiro"
          ],
          [
           "hardcore"
          ],
          [
           "hardcore hip hop"
          ],
          [
           "hardcore punk"
          ],
          [
           "hardcore techno"
          ],
          [
           "hardstyle"
          ],
          [
           "harlem hip hop"
          ],
          [
           "harlem renaissance"
          ],
          [
           "harmonica blues"
          ],
          [
           "harmonica jazz"
          ],
          [
           "harp"
          ],
          [
           "harpsichord"
          ],
          [
           "haryanvi pop"
          ],
          [
           "hauntology"
          ],
          [
           "hawaiian"
          ],
          [
           "hawaiian hip hop"
          ],
          [
           "hawaiian indie"
          ],
          [
           "healing"
          ],
          [
           "heartland rock"
          ],
          [
           "hi-nrg"
          ],
          [
           "highlife"
          ],
          [
           "hindi hip hop"
          ],
          [
           "hindi indie"
          ],
          [
           "hindustani classical"
          ],
          [
           "hindustani instrumental"
          ],
          [
           "hindustani vocal"
          ],
          [
           "hip hop"
          ],
          [
           "hip hop cubano"
          ],
          [
           "hip house"
          ],
          [
           "hip pop"
          ],
          [
           "hiplife"
          ],
          [
           "histoire pour enfants"
          ],
          [
           "historic classical performance"
          ],
          [
           "historic orchestral performance"
          ],
          [
           "historic piano performance"
          ],
          [
           "historic string quartet"
          ],
          [
           "historical keyboard"
          ],
          [
           "historically informed performance"
          ],
          [
           "hoerspiel"
          ],
          [
           "hokkien pop"
          ],
          [
           "hollywood"
          ],
          [
           "hong kong hip hop"
          ],
          [
           "hong kong indie"
          ],
          [
           "hong kong rock"
          ],
          [
           "honky tonk"
          ],
          [
           "honky-tonk piano"
          ],
          [
           "hopebeat"
          ],
          [
           "horror punk"
          ],
          [
           "horror synth"
          ],
          [
           "horrorcore"
          ],
          [
           "house"
          ],
          [
           "houston rap"
          ],
          [
           "huapango"
          ],
          [
           "huayno"
          ],
          [
           "hula"
          ],
          [
           "humppa"
          ],
          [
           "hungarian choir"
          ],
          [
           "hungarian classical performance"
          ],
          [
           "hungarian classical piano"
          ],
          [
           "hungarian contemporary classical"
          ],
          [
           "hungarian edm"
          ],
          [
           "hungarian folk"
          ],
          [
           "hungarian pop"
          ],
          [
           "hungarian rock"
          ],
          [
           "hungarian techno"
          ],
          [
           "hurdy-gurdy"
          ],
          [
           "hyperpop"
          ],
          [
           "hyphy"
          ],
          [
           "icelandic classical"
          ],
          [
           "icelandic electronic"
          ],
          [
           "icelandic experimental"
          ],
          [
           "icelandic folk"
          ],
          [
           "icelandic indie"
          ],
          [
           "icelandic jazz"
          ],
          [
           "icelandic pop"
          ],
          [
           "icelandic rock"
          ],
          [
           "idaho indie"
          ],
          [
           "idol"
          ],
          [
           "idol rock"
          ],
          [
           "ilahiler"
          ],
          [
           "ilocano pop"
          ],
          [
           "impressionism"
          ],
          [
           "indian classical"
          ],
          [
           "indian edm"
          ],
          [
           "indian folk"
          ],
          [
           "indian fusion"
          ],
          [
           "indian indie"
          ],
          [
           "indian instrumental"
          ],
          [
           "indian jazz"
          ],
          [
           "indiana hip hop"
          ],
          [
           "indie anthem-folk"
          ],
          [
           "indie cafe pop"
          ],
          [
           "indie deutschrap"
          ],
          [
           "indie dream pop"
          ],
          [
           "indie electronica"
          ],
          [
           "indie electropop"
          ],
          [
           "indie folk"
          ],
          [
           "indie game soundtrack"
          ],
          [
           "indie garage rock"
          ],
          [
           "indie hip hop"
          ],
          [
           "indie jazz"
          ],
          [
           "indie pop"
          ],
          [
           "indie pop rap"
          ],
          [
           "indie poptimism"
          ],
          [
           "indie psych-pop"
          ],
          [
           "indie punk"
          ],
          [
           "indie quebecois"
          ],
          [
           "indie r&b"
          ],
          [
           "indie rock"
          ],
          [
           "indie rock mexicano"
          ],
          [
           "indie rockism"
          ],
          [
           "indie shoegaze"
          ],
          [
           "indie singer-songwriter"
          ],
          [
           "indie soul"
          ],
          [
           "indie surf"
          ],
          [
           "indie triste"
          ],
          [
           "indiecoustica"
          ],
          [
           "indietronica"
          ],
          [
           "indonesian hip hop"
          ],
          [
           "indonesian indie"
          ],
          [
           "indonesian pop"
          ],
          [
           "indonesian r&b"
          ],
          [
           "indonesian worship"
          ],
          [
           "industrial"
          ],
          [
           "industrial hardcore"
          ],
          [
           "industrial hip hop"
          ],
          [
           "industrial metal"
          ],
          [
           "industrial rock"
          ],
          [
           "indy indie"
          ],
          [
           "instrumental acoustic guitar"
          ],
          [
           "instrumental bluegrass"
          ],
          [
           "instrumental funk"
          ],
          [
           "instrumental grime"
          ],
          [
           "instrumental math rock"
          ],
          [
           "instrumental post-rock"
          ],
          [
           "instrumental progressive metal"
          ],
          [
           "instrumental rock"
          ],
          [
           "instrumental soul"
          ],
          [
           "instrumental stoner rock"
          ],
          [
           "instrumental surf"
          ],
          [
           "intelligent dance music"
          ],
          [
           "iowa hip hop"
          ],
          [
           "irish accordion"
          ],
          [
           "irish ballad"
          ],
          [
           "irish banjo"
          ],
          [
           "irish classical"
          ],
          [
           "irish country"
          ],
          [
           "irish dance"
          ],
          [
           "irish fiddle"
          ],
          [
           "irish folk"
          ],
          [
           "irish hip hop"
          ],
          [
           "irish indie"
          ],
          [
           "irish metal"
          ],
          [
           "irish pop"
          ],
          [
           "irish pub song"
          ],
          [
           "irish rock"
          ],
          [
           "irish singer-songwriter"
          ],
          [
           "iskelma"
          ],
          [
           "islamic recitation"
          ],
          [
           "isle of wight indie"
          ],
          [
           "israeli classical"
          ],
          [
           "israeli classical piano"
          ],
          [
           "israeli folk"
          ],
          [
           "israeli hip hop"
          ],
          [
           "israeli mediterranean"
          ],
          [
           "israeli pop"
          ],
          [
           "israeli rock"
          ],
          [
           "israeli singer-songwriter"
          ],
          [
           "israeli techno"
          ],
          [
           "italian adult pop"
          ],
          [
           "italian baritone"
          ],
          [
           "italian baroque"
          ],
          [
           "italian baroque ensemble"
          ],
          [
           "italian bass"
          ],
          [
           "italian blues"
          ],
          [
           "italian classical guitar"
          ],
          [
           "italian classical piano"
          ],
          [
           "italian contemporary jazz"
          ],
          [
           "italian disco"
          ],
          [
           "italian gothic"
          ],
          [
           "italian gothic metal"
          ],
          [
           "italian indie pop"
          ],
          [
           "italian jazz"
          ],
          [
           "italian library music"
          ],
          [
           "italian mandolin"
          ],
          [
           "italian metal"
          ],
          [
           "italian mezzo-soprano"
          ],
          [
           "italian modern prog"
          ],
          [
           "italian opera"
          ],
          [
           "italian orchestra"
          ],
          [
           "italian pop rock"
          ],
          [
           "italian power metal"
          ],
          [
           "italian progressive metal"
          ],
          [
           "italian progressive rock"
          ],
          [
           "italian renaissance"
          ],
          [
           "italian romanticism"
          ],
          [
           "italian soprano"
          ],
          [
           "italian soundtrack"
          ],
          [
           "italian techno"
          ],
          [
           "italian tenor"
          ],
          [
           "italian violin"
          ],
          [
           "italo dance"
          ],
          [
           "italo house"
          ],
          [
           "j-acoustic"
          ],
          [
           "j-ambient"
          ],
          [
           "j-dance"
          ],
          [
           "j-division"
          ],
          [
           "j-idol"
          ],
          [
           "j-metal"
          ],
          [
           "j-pixie"
          ],
          [
           "j-pop"
          ],
          [
           "j-pop girl group"
          ],
          [
           "j-poprock"
          ],
          [
           "j-punk"
          ],
          [
           "j-reggae"
          ],
          [
           "j-rock"
          ],
          [
           "jacksonville indie"
          ],
          [
           "jam band"
          ],
          [
           "jamgrass"
          ],
          [
           "jamtronica"
          ],
          [
           "jangle pop"
          ],
          [
           "japanese alternative rock"
          ],
          [
           "japanese chillhop"
          ],
          [
           "japanese city pop"
          ],
          [
           "japanese classical"
          ],
          [
           "japanese classical performance"
          ],
          [
           "japanese classical piano"
          ],
          [
           "japanese concert band"
          ],
          [
           "japanese dream pop"
          ],
          [
           "japanese electronic"
          ],
          [
           "japanese electropop"
          ],
          [
           "japanese emo"
          ],
          [
           "japanese experimental"
          ],
          [
           "japanese folk"
          ],
          [
           "japanese garage rock"
          ],
          [
           "japanese girl punk"
          ],
          [
           "japanese heavy metal"
          ],
          [
           "japanese idm"
          ],
          [
           "japanese indie folk"
          ],
          [
           "japanese indie rock"
          ],
          [
           "japanese instrumental"
          ],
          [
           "japanese jazz"
          ],
          [
           "japanese jazz fusion"
          ],
          [
           "japanese jazztronica"
          ],
          [
           "japanese metalcore"
          ],
          [
           "japanese new wave"
          ],
          [
           "japanese piano"
          ],
          [
           "japanese pop punk"
          ],
          [
           "japanese post-hardcore"
          ],
          [
           "japanese power metal"
          ],
          [
           "japanese prog"
          ],
          [
           "japanese psychedelic"
          ],
          [
           "japanese punk rock"
          ],
          [
           "japanese r&b"
          ],
          [
           "japanese rockabilly"
          ],
          [
           "japanese singer-songwriter"
          ],
          [
           "japanese soundtrack"
          ],
          [
           "japanese traditional"
          ],
          [
           "japanese vgm"
          ],
          [
           "japanese vocal jazz"
          ],
          [
           "jawaiian"
          ],
          [
           "jazz"
          ],
          [
           "jazz accordion"
          ],
          [
           "jazz blues"
          ],
          [
           "jazz boom bap"
          ],
          [
           "jazz brass"
          ],
          [
           "jazz chileno"
          ],
          [
           "jazz clarinet"
          ],
          [
           "jazz colombiano"
          ],
          [
           "jazz cubano"
          ],
          [
           "jazz double bass"
          ],
          [
           "jazz drums"
          ],
          [
           "jazz flute"
          ],
          [
           "jazz funk"
          ],
          [
           "jazz fusion"
          ],
          [
           "jazz guitar"
          ],
          [
           "jazz harp"
          ],
          [
           "jazz metal"
          ],
          [
           "jazz mexicano"
          ],
          [
           "jazz orchestra"
          ],
          [
           "jazz organ"
          ],
          [
           "jazz piano"
          ],
          [
           "jazz pop"
          ],
          [
           "jazz quartet"
          ],
          [
           "jazz rap"
          ],
          [
           "jazz rock"
          ],
          [
           "jazz saxophone"
          ],
          [
           "jazz trio"
          ],
          [
           "jazz trombone"
          ],
          [
           "jazz trumpet"
          ],
          [
           "jazz tuba"
          ],
          [
           "jazz venezolano"
          ],
          [
           "jazz vibraphone"
          ],
          [
           "jazz violin"
          ],
          [
           "jazztronica"
          ],
          [
           "jewish cantorial"
          ],
          [
           "jewish hip hop"
          ],
          [
           "jig and reel"
          ],
          [
           "jordanian pop"
          ],
          [
           "joropo"
          ],
          [
           "jovem guarda"
          ],
          [
           "jug band"
          ],
          [
           "juju"
          ],
          [
           "jump blues"
          ],
          [
           "jump up"
          ],
          [
           "k-indie"
          ],
          [
           "k-pop"
          ],
          [
           "k-pop boy group"
          ],
          [
           "k-pop girl group"
          ],
          [
           "k-rap"
          ],
          [
           "kabarett"
          ],
          [
           "kabyle"
          ],
          [
           "kaneka"
          ],
          [
           "kannada bhava geethe"
          ],
          [
           "kansas city hip hop"
          ],
          [
           "kashmiri pop"
          ],
          [
           "kawaii future bass"
          ],
          [
           "kawaii metal"
          ],
          [
           "kayokyoku"
          ],
          [
           "kc indie"
          ],
          [
           "kent indie"
          ],
          [
           "kentucky hip hop"
          ],
          [
           "kentucky indie"
          ],
          [
           "kentucky metal"
          ],
          [
           "kentucky mountain folk"
          ],
          [
           "kentucky punk"
          ],
          [
           "kentucky roots"
          ],
          [
           "keroncong"
          ],
          [
           "khaleeji iraqi"
          ],
          [
           "khmer"
          ],
          [
           "kids dance party"
          ],
          [
           "kindie rock"
          ],
          [
           "kingston on indie"
          ],
          [
           "kirtan"
          ],
          [
           "kiwi rock"
          ],
          [
           "kizomba antigas"
          ],
          [
           "kleine hoerspiel"
          ],
          [
           "klezmer"
          ],
          [
           "knoxville indie"
          ],
          [
           "kodomo no ongaku"
          ],
          [
           "kolsche karneval"
          ],
          [
           "komedi"
          ],
          [
           "kompa"
          ],
          [
           "kora"
          ],
          [
           "korean classical performance"
          ],
          [
           "korean classical piano"
          ],
          [
           "korean indie rock"
          ],
          [
           "korean mask singer"
          ],
          [
           "korean pop"
          ],
          [
           "korean r&b"
          ],
          [
           "korean trap"
          ],
          [
           "koto"
          ],
          [
           "krautrock"
          ],
          [
           "kundiman"
          ],
          [
           "la indie"
          ],
          [
           "la pop"
          ],
          [
           "laboratorio"
          ],
          [
           "lafayette indie"
          ],
          [
           "laiko"
          ],
          [
           "lancashire indie"
          ],
          [
           "lancaster pa indie"
          ],
          [
           "late romantic era"
          ],
          [
           "latin"
          ],
          [
           "latin afrobeat"
          ],
          [
           "latin alternative"
          ],
          [
           "latin american classical piano"
          ],
          [
           "latin arena pop"
          ],
          [
           "latin christian"
          ],
          [
           "latin classical"
          ],
          [
           "latin funk"
          ],
          [
           "latin hip hop"
          ],
          [
           "latin house"
          ],
          [
           "latin jazz"
          ],
          [
           "latin metal"
          ],
          [
           "latin pop"
          ],
          [
           "latin rock"
          ],
          [
           "latin ska"
          ],
          [
           "latin soundtrack"
          ],
          [
           "latin talent show"
          ],
          [
           "latin tech house"
          ],
          [
           "latin viral pop"
          ],
          [
           "latin worship"
          ],
          [
           "latincore"
          ],
          [
           "latino comedy"
          ],
          [
           "latintronica"
          ],
          [
           "latinx alternative"
          ],
          [
           "latvian pop"
          ],
          [
           "lds"
          ],
          [
           "lds youth"
          ],
          [
           "lebanese pop"
          ],
          [
           "leicester indie"
          ],
          [
           "lexington ky indie"
          ],
          [
           "lgbtq+ hip hop"
          ],
          [
           "library music"
          ],
          [
           "liedermacher"
          ],
          [
           "light music"
          ],
          [
           "lilith"
          ],
          [
           "liquid funk"
          ],
          [
           "lithuanian electronic"
          ],
          [
           "liverpool indie"
          ],
          [
           "livetronica"
          ],
          [
           "lldm"
          ],
          [
           "lo star"
          ],
          [
           "lo-fi"
          ],
          [
           "lo-fi beats"
          ],
          [
           "lo-fi brasileiro"
          ],
          [
           "lo-fi chill"
          ],
          [
           "lo-fi cover"
          ],
          [
           "lo-fi emo"
          ],
          [
           "lo-fi house"
          ],
          [
           "lo-fi indie"
          ],
          [
           "lo-fi vgm"
          ],
          [
           "london rap"
          ],
          [
           "louisiana blues"
          ],
          [
           "louisiana metal"
          ],
          [
           "louisville indie"
          ],
          [
           "louisville underground"
          ],
          [
           "lounge"
          ],
          [
           "louvor"
          ],
          [
           "lovers rock"
          ],
          [
           "lullaby"
          ],
          [
           "lund indie"
          ],
          [
           "lute"
          ],
          [
           "macedonian folk"
          ],
          [
           "madchester"
          ],
          [
           "madrigal"
          ],
          [
           "magyar alternative"
          ],
          [
           "maine hip hop"
          ],
          [
           "maine indie"
          ],
          [
           "mainland chinese pop"
          ],
          [
           "makossa"
          ],
          [
           "malaysian mandopop"
          ],
          [
           "malaysian pop"
          ],
          [
           "malian blues"
          ],
          [
           "mallet"
          ],
          [
           "malmo indie"
          ],
          [
           "mambo"
          ],
          [
           "manchester hip hop"
          ],
          [
           "manchester indie"
          ],
          [
           "mande pop"
          ],
          [
           "mandolin"
          ],
          [
           "mandopop"
          ],
          [
           "manguebeat"
          ],
          [
           "manila sound"
          ],
          [
           "manitoba indie"
          ],
          [
           "mantra"
          ],
          [
           "marathi pop"
          ],
          [
           "marathi traditional"
          ],
          [
           "marching band"
          ],
          [
           "mariachi"
          ],
          [
           "mariachi cristiano"
          ],
          [
           "marimba orquesta"
          ],
          [
           "martial industrial"
          ],
          [
           "mashup"
          ],
          [
           "math rock"
          ],
          [
           "mathcore"
          ],
          [
           "mbalax"
          ],
          [
           "medieval"
          ],
          [
           "medieval folk"
          ],
          [
           "medieval rock"
          ],
          [
           "meditation"
          ],
          [
           "melancholia"
          ],
          [
           "melbourne bounce"
          ],
          [
           "melbourne bounce international"
          ],
          [
           "melbourne indie"
          ],
          [
           "mellow gold"
          ],
          [
           "melodic death metal"
          ],
          [
           "melodic deathcore"
          ],
          [
           "melodic dubstep"
          ],
          [
           "melodic groove metal"
          ],
          [
           "melodic hard rock"
          ],
          [
           "melodic hardcore"
          ],
          [
           "melodic metal"
          ],
          [
           "melodic metalcore"
          ],
          [
           "melodic power metal"
          ],
          [
           "melodic rap"
          ],
          [
           "melodic thrash"
          ],
          [
           "meme rap"
          ],
          [
           "memphis americana"
          ],
          [
           "memphis blues"
          ],
          [
           "memphis hip hop"
          ],
          [
           "memphis indie"
          ],
          [
           "memphis soul"
          ],
          [
           "mento"
          ],
          [
           "merengue"
          ],
          [
           "merengue tipico"
          ],
          [
           "merseybeat"
          ],
          [
           "messianic praise"
          ],
          [
           "metal"
          ],
          [
           "metal guitar"
          ],
          [
           "metal mineiro"
          ],
          [
           "metalcore"
          ],
          [
           "metropopolis"
          ],
          [
           "mexican classic rock"
          ],
          [
           "mexican classical"
          ],
          [
           "mexican hip hop"
          ],
          [
           "mexican indie"
          ],
          [
           "mexican pop"
          ],
          [
           "mexican pop punk"
          ],
          [
           "mexican rock"
          ],
          [
           "mexican rock-and-roll"
          ],
          [
           "mexican son"
          ],
          [
           "mexican traditional"
          ],
          [
           "miami bass"
          ],
          [
           "miami hip hop"
          ],
          [
           "miami indie"
          ],
          [
           "miami metal"
          ],
          [
           "michigan indie"
          ],
          [
           "microhouse"
          ],
          [
           "microtonal"
          ],
          [
           "middle earth"
          ],
          [
           "middle east hip hop"
          ],
          [
           "middle eastern traditional"
          ],
          [
           "midwest americana"
          ],
          [
           "midwest emo"
          ],
          [
           "military cadence"
          ],
          [
           "military rap"
          ],
          [
           "milwaukee indie"
          ],
          [
           "mindfulness"
          ],
          [
           "minecraft"
          ],
          [
           "minimal melodic techno"
          ],
          [
           "minimal tech house"
          ],
          [
           "minimal techno"
          ],
          [
           "minimal wave"
          ],
          [
           "minimalism"
          ],
          [
           "minneapolis indie"
          ],
          [
           "minneapolis metal"
          ],
          [
           "minneapolis punk"
          ],
          [
           "minneapolis sound"
          ],
          [
           "minnesota hip hop"
          ],
          [
           "mississippi hip hop"
          ],
          [
           "mississippi indie"
          ],
          [
           "mizrahi"
          ],
          [
           "mod revival"
          ],
          [
           "modern alternative pop"
          ],
          [
           "modern alternative rock"
          ],
          [
           "modern big band"
          ],
          [
           "modern blues"
          ],
          [
           "modern blues rock"
          ],
          [
           "modern bollywood"
          ],
          [
           "modern country rock"
          ],
          [
           "modern dream pop"
          ],
          [
           "modern folk rock"
          ],
          [
           "modern funk"
          ],
          [
           "modern hard rock"
          ],
          [
           "modern indie pop"
          ],
          [
           "modern jazz piano"
          ],
          [
           "modern jazz trio"
          ],
          [
           "modern old-time"
          ],
          [
           "modern performance"
          ],
          [
           "modern power pop"
          ],
          [
           "modern psychedelic folk"
          ],
          [
           "modern reggae"
          ],
          [
           "modern rock"
          ],
          [
           "modern salsa"
          ],
          [
           "modern ska punk"
          ],
          [
           "modern southern rock"
          ],
          [
           "modern string quartet"
          ],
          [
           "modern swing"
          ],
          [
           "modern uplift"
          ],
          [
           "modular synth"
          ],
          [
           "moldovan pop"
          ],
          [
           "mollywood"
          ],
          [
           "mongolian hip hop"
          ],
          [
           "mongolian pop"
          ],
          [
           "monterrey indie"
          ],
          [
           "montreal indie"
          ],
          [
           "moog"
          ],
          [
           "moombahton"
          ],
          [
           "morna"
          ],
          [
           "motivation"
          ],
          [
           "motown"
          ],
          [
           "mountain dulcimer"
          ],
          [
           "movie tunes"
          ],
          [
           "mpb"
          ],
          [
           "music box"
          ],
          [
           "music hall"
          ],
          [
           "musica afroperuana"
          ],
          [
           "musica alagoana"
          ],
          [
           "musica andina"
          ],
          [
           "musica andina colombiana"
          ],
          [
           "musica antigua"
          ],
          [
           "musica aragonesa"
          ],
          [
           "musica ayacuchana"
          ],
          [
           "musica canaria"
          ],
          [
           "musica costarricense"
          ],
          [
           "musica costena"
          ],
          [
           "musica cristiana guatemalteca"
          ],
          [
           "musica de fondo"
          ],
          [
           "musica gaucha tradicionalista"
          ],
          [
           "musica hondurena"
          ],
          [
           "musica infantil"
          ],
          [
           "musica jibara"
          ],
          [
           "musica juiz-forana"
          ],
          [
           "musica llanera"
          ],
          [
           "musica nicaraguense"
          ],
          [
           "musica para criancas"
          ],
          [
           "musica para ninos"
          ],
          [
           "musica paraibana"
          ],
          [
           "musica piemonteisa"
          ],
          [
           "musica popular colombiana"
          ],
          [
           "musica popular mineira"
          ],
          [
           "musica popular paraense"
          ],
          [
           "musica potosina"
          ],
          [
           "musica prehispanica"
          ],
          [
           "musica sarda"
          ],
          [
           "musica tradicional cubana"
          ],
          [
           "musica tropical guatemalteca"
          ],
          [
           "musical advocacy"
          ],
          [
           "musikkorps"
          ],
          [
           "musique concrete"
          ],
          [
           "musique peule"
          ],
          [
           "musique pour enfant quebecois"
          ],
          [
           "musique pour enfants"
          ],
          [
           "musique touareg"
          ],
          [
           "muzica populara"
          ],
          [
           "muzika l'yeladim"
          ],
          [
           "naija worship"
          ],
          [
           "nantes indie"
          ],
          [
           "narodna muzika"
          ],
          [
           "nashville americana"
          ],
          [
           "nashville hip hop"
          ],
          [
           "nashville indie"
          ],
          [
           "nashville singer-songwriter"
          ],
          [
           "nashville sound"
          ],
          [
           "native american"
          ],
          [
           "native american contemporary"
          ],
          [
           "native american flute"
          ],
          [
           "native american hip hop"
          ],
          [
           "native american spiritual"
          ],
          [
           "navajo"
          ],
          [
           "nederlandse hardstyle"
          ],
          [
           "nederpop"
          ],
          [
           "neo classical metal"
          ],
          [
           "neo kyma"
          ],
          [
           "neo mellow"
          ],
          [
           "neo r&b"
          ],
          [
           "neo soul"
          ],
          [
           "neo-classical"
          ],
          [
           "neo-kraut"
          ],
          [
           "neo-pagan"
          ],
          [
           "neo-progressive"
          ],
          [
           "neo-psychedelic"
          ],
          [
           "neo-rockabilly"
          ],
          [
           "neo-singer-songwriter"
          ],
          [
           "neo-synthpop"
          ],
          [
           "neo-trad metal"
          ],
          [
           "neo-traditional bluegrass"
          ],
          [
           "neo-traditional country"
          ],
          [
           "neoclassical darkwave"
          ],
          [
           "neoclassicism"
          ],
          [
           "neofolk"
          ],
          [
           "neon pop punk"
          ],
          [
           "neotango"
          ],
          [
           "nepali indie"
          ],
          [
           "nepali pop"
          ],
          [
           "nerdcore"
          ],
          [
           "neue deutsche harte"
          ],
          [
           "neue deutsche todeskunst"
          ],
          [
           "neue deutsche welle"
          ],
          [
           "neurofunk"
          ],
          [
           "new age"
          ],
          [
           "new age piano"
          ],
          [
           "new americana"
          ],
          [
           "new beat"
          ],
          [
           "new comedy"
          ],
          [
           "new england americana"
          ],
          [
           "new england emo"
          ],
          [
           "new french touch"
          ],
          [
           "new isolationism"
          ],
          [
           "new jack swing"
          ],
          [
           "new jersey hardcore"
          ],
          [
           "new jersey indie"
          ],
          [
           "new jersey punk"
          ],
          [
           "new jersey rap"
          ],
          [
           "new mexico music"
          ],
          [
           "new orleans blues"
          ],
          [
           "new orleans funk"
          ],
          [
           "new orleans indie"
          ],
          [
           "new orleans jazz"
          ],
          [
           "new orleans rap"
          ],
          [
           "new rave"
          ],
          [
           "new romantic"
          ],
          [
           "new tribe"
          ],
          [
           "new wave"
          ],
          [
           "new wave of thrash metal"
          ],
          [
           "new wave pop"
          ],
          [
           "new weird america"
          ],
          [
           "new york death metal"
          ],
          [
           "new york drill"
          ],
          [
           "new zealand classical"
          ],
          [
           "newcastle indie"
          ],
          [
           "newcastle nsw indie"
          ],
          [
           "nigerian hip hop"
          ],
          [
           "nigerian pop"
          ],
          [
           "nightcore"
          ],
          [
           "nightrun"
          ],
          [
           "ninja"
          ],
          [
           "nintendocore"
          ],
          [
           "nisiotika"
          ],
          [
           "nl folk"
          ],
          [
           "no wave"
          ],
          [
           "noise pop"
          ],
          [
           "noise punk"
          ],
          [
           "noise rock"
          ],
          [
           "nordic classical piano"
          ],
          [
           "nordic contemporary classical"
          ],
          [
           "nordic folk"
          ],
          [
           "nordic house"
          ],
          [
           "nordic orchestra"
          ],
          [
           "nordic post-rock"
          ],
          [
           "nordic soundtrack"
          ],
          [
           "norman ok indie"
          ],
          [
           "norsk lovsang"
          ],
          [
           "norteno"
          ],
          [
           "norteno-sax"
          ],
          [
           "north carolina emo"
          ],
          [
           "north carolina hip hop"
          ],
          [
           "north carolina indie"
          ],
          [
           "north carolina metal"
          ],
          [
           "north carolina roots"
          ],
          [
           "north east england indie"
          ],
          [
           "northern irish indie"
          ],
          [
           "northern irish punk"
          ],
          [
           "northern soul"
          ],
          [
           "norwegian black metal"
          ],
          [
           "norwegian choir"
          ],
          [
           "norwegian classical"
          ],
          [
           "norwegian contemporary jazz"
          ],
          [
           "norwegian death metal"
          ],
          [
           "norwegian experimental"
          ],
          [
           "norwegian hip hop"
          ],
          [
           "norwegian indie"
          ],
          [
           "norwegian jazz"
          ],
          [
           "norwegian metal"
          ],
          [
           "norwegian pop"
          ],
          [
           "norwegian pop rap"
          ],
          [
           "norwegian punk rock"
          ],
          [
           "norwegian rock"
          ],
          [
           "norwegian singer-songwriter"
          ],
          [
           "norwegian space disco"
          ],
          [
           "nottingham indie"
          ],
          [
           "nouvelle chanson francaise"
          ],
          [
           "nova canco"
          ],
          [
           "nova mpb"
          ],
          [
           "nova musica pernambucana"
          ],
          [
           "novelty"
          ],
          [
           "nu age"
          ],
          [
           "nu disco"
          ],
          [
           "nu gaze"
          ],
          [
           "nu jazz"
          ],
          [
           "nu metal"
          ],
          [
           "nu skool breaks"
          ],
          [
           "nu-cumbia"
          ],
          [
           "nu-metalcore"
          ],
          [
           "nubian traditional"
          ],
          [
           "nueva cancion"
          ],
          [
           "nueva ola chilena"
          ],
          [
           "nueva ola peruana"
          ],
          [
           "nuevo flamenco"
          ],
          [
           "nuevo folklore mexicano"
          ],
          [
           "nuevo regional mexicano"
          ],
          [
           "nuevo tango"
          ],
          [
           "nursery"
          ],
          [
           "nwobhm"
          ],
          [
           "nwothm"
          ],
          [
           "ny roots"
          ],
          [
           "nyc pop"
          ],
          [
           "nyc rap"
          ],
          [
           "nyhc"
          ],
          [
           "nz christian"
          ],
          [
           "nz folk"
          ],
          [
           "nz hardcore"
          ],
          [
           "nz indie"
          ],
          [
           "nz pop"
          ],
          [
           "nz punk"
          ],
          [
           "nz reggae"
          ],
          [
           "nz singer-songwriter"
          ],
          [
           "oakland hip hop"
          ],
          [
           "oakland indie"
          ],
          [
           "oc indie"
          ],
          [
           "oc rap"
          ],
          [
           "oceania soundtrack"
          ],
          [
           "ohio hip hop"
          ],
          [
           "ohio indie"
          ],
          [
           "oi"
          ],
          [
           "ok indie"
          ],
          [
           "okc indie"
          ],
          [
           "okinawan pop"
          ],
          [
           "oklahoma country"
          ],
          [
           "old school dancehall"
          ],
          [
           "old school hip hop"
          ],
          [
           "old school rap francais"
          ],
          [
           "old school thrash"
          ],
          [
           "old school uk hip hop"
          ],
          [
           "old west"
          ],
          [
           "old-time"
          ],
          [
           "old-time fiddle"
          ],
          [
           "olympia wa indie"
          ],
          [
           "omaha indie"
          ],
          [
           "one-person band"
          ],
          [
           "ontario indie"
          ],
          [
           "opera"
          ],
          [
           "opera chorus"
          ],
          [
           "opera metal"
          ],
          [
           "operatic pop"
          ],
          [
           "operetta"
          ],
          [
           "opm"
          ],
          [
           "oratory"
          ],
          [
           "orchestra"
          ],
          [
           "orchestral performance"
          ],
          [
           "orebro indie"
          ],
          [
           "organic ambient"
          ],
          [
           "organic electronic"
          ],
          [
           "organic house"
          ],
          [
           "orgcore"
          ],
          [
           "oriental classical"
          ],
          [
           "orkney and shetland folk"
          ],
          [
           "orlando indie"
          ],
          [
           "orquesta tipica"
          ],
          [
           "orthodox chant"
          ],
          [
           "oshare kei"
          ],
          [
           "otacore"
          ],
          [
           "oth indie"
          ],
          [
           "ottawa indie"
          ],
          [
           "ottawa rap"
          ],
          [
           "oud"
          ],
          [
           "outer hip hop"
          ],
          [
           "outlaw country"
          ],
          [
           "outsider"
          ],
          [
           "outsider house"
          ],
          [
           "oxford choir"
          ],
          [
           "oxford indie"
          ],
          [
           "p funk"
          ],
          [
           "pagan black metal"
          ],
          [
           "pagode"
          ],
          [
           "pagode baiano"
          ],
          [
           "paisley underground"
          ],
          [
           "pakistani folk"
          ],
          [
           "pakistani hip hop"
          ],
          [
           "pakistani pop"
          ],
          [
           "palestinian pop"
          ],
          [
           "palm desert scene"
          ],
          [
           "panamanian pop"
          ],
          [
           "panamanian rock"
          ],
          [
           "panpipe"
          ],
          [
           "papuri"
          ],
          [
           "parody"
          ],
          [
           "partido alto"
          ],
          [
           "partyschlager"
          ],
          [
           "pei indie"
          ],
          [
           "permanent wave"
          ],
          [
           "perreo"
          ],
          [
           "persian pop"
          ],
          [
           "persian traditional"
          ],
          [
           "perth indie"
          ],
          [
           "peruvian hip hop"
          ],
          [
           "peruvian rock"
          ],
          [
           "pet calming"
          ],
          [
           "philly indie"
          ],
          [
           "philly rap"
          ],
          [
           "philly soul"
          ],
          [
           "phoenix indie"
          ],
          [
           "phonk"
          ],
          [
           "pianissimo"
          ],
          [
           "piano blues"
          ],
          [
           "piano cover"
          ],
          [
           "piano mpb"
          ],
          [
           "piano rock"
          ],
          [
           "pibroch"
          ],
          [
           "piedmont blues"
          ],
          [
           "pinoy hip hop"
          ],
          [
           "pinoy indie"
          ],
          [
           "pinoy pop punk"
          ],
          [
           "pinoy praise"
          ],
          [
           "pinoy r&b"
          ],
          [
           "pinoy reggae"
          ],
          [
           "pinoy rock"
          ],
          [
           "pinoy traditional"
          ],
          [
           "pinoy trap"
          ],
          [
           "pirate"
          ],
          [
           "pittsburgh indie"
          ],
          [
           "pittsburgh rap"
          ],
          [
           "pittsburgh rock"
          ],
          [
           "pixie"
          ],
          [
           "plunderphonics"
          ],
          [
           "poetry"
          ],
          [
           "polca paraguaya"
          ],
          [
           "polish blues"
          ],
          [
           "polish classical"
          ],
          [
           "polish classical piano"
          ],
          [
           "polish contemporary classical"
          ],
          [
           "polish jazz"
          ],
          [
           "polish modern jazz"
          ],
          [
           "polish pop"
          ],
          [
           "polish post-rock"
          ],
          [
           "polish reggae"
          ],
          [
           "polish rock"
          ],
          [
           "political hip hop"
          ],
          [
           "polka"
          ],
          [
           "polynesian hip hop"
          ],
          [
           "polynesian pop"
          ],
          [
           "polyphony"
          ],
          [
           "pony"
          ],
          [
           "pop"
          ],
          [
           "pop argentino"
          ],
          [
           "pop chileno"
          ],
          [
           "pop dance"
          ],
          [
           "pop edm"
          ],
          [
           "pop electronico"
          ],
          [
           "pop emo"
          ],
          [
           "pop flamenco"
          ],
          [
           "pop folk"
          ],
          [
           "pop house"
          ],
          [
           "pop nacional"
          ],
          [
           "pop nacional antigas"
          ],
          [
           "pop peruano"
          ],
          [
           "pop punk"
          ],
          [
           "pop quebecois"
          ],
          [
           "pop r&b"
          ],
          [
           "pop rap"
          ],
          [
           "pop reggaeton"
          ],
          [
           "pop rock"
          ],
          [
           "pop rock brasileiro"
          ],
          [
           "pop romantico"
          ],
          [
           "pop soul"
          ],
          [
           "pop venezolano"
          ],
          [
           "pop violin"
          ],
          [
           "popgaze"
          ],
          [
           "popping"
          ],
          [
           "pops orchestra"
          ],
          [
           "popwave"
          ],
          [
           "pornogrind"
          ],
          [
           "porro"
          ],
          [
           "portland hip hop"
          ],
          [
           "portland indie"
          ],
          [
           "portland metal"
          ],
          [
           "portland punk"
          ],
          [
           "portuguese early music"
          ],
          [
           "post-disco"
          ],
          [
           "post-disco soul"
          ],
          [
           "post-doom metal"
          ],
          [
           "post-grunge"
          ],
          [
           "post-hardcore"
          ],
          [
           "post-metal"
          ],
          [
           "post-minimalism"
          ],
          [
           "post-post-hardcore"
          ],
          [
           "post-punk"
          ],
          [
           "post-punk argentina"
          ],
          [
           "post-rock"
          ],
          [
           "post-romantic era"
          ],
          [
           "post-screamo"
          ],
          [
           "post-teen pop"
          ],
          [
           "power metal"
          ],
          [
           "power pop"
          ],
          [
           "power thrash"
          ],
          [
           "power-pop punk"
          ],
          [
           "praise"
          ],
          [
           "prepared piano"
          ],
          [
           "preschool children's music"
          ],
          [
           "prog quebec"
          ],
          [
           "progressive alternative"
          ],
          [
           "progressive bluegrass"
          ],
          [
           "progressive deathcore"
          ],
          [
           "progressive electro house"
          ],
          [
           "progressive groove metal"
          ],
          [
           "progressive house"
          ],
          [
           "progressive jazz fusion"
          ],
          [
           "progressive metal"
          ],
          [
           "progressive metalcore"
          ],
          [
           "progressive post-hardcore"
          ],
          [
           "progressive power metal"
          ],
          [
           "progressive psytrance"
          ],
          [
           "progressive rock"
          ],
          [
           "progressive sludge"
          ],
          [
           "progressive trance"
          ],
          [
           "progressive trance house"
          ],
          [
           "progressive uplifting trance"
          ],
          [
           "proto-rap"
          ],
          [
           "proto-techno"
          ],
          [
           "protopunk"
          ],
          [
           "psalmen"
          ],
          [
           "psicodelia brasileira"
          ],
          [
           "psybass"
          ],
          [
           "psychedelic blues-rock"
          ],
          [
           "psychedelic doom"
          ],
          [
           "psychedelic folk"
          ],
          [
           "psychedelic folk rock"
          ],
          [
           "psychedelic hip hop"
          ],
          [
           "psychedelic pop"
          ],
          [
           "psychedelic punk"
          ],
          [
           "psychedelic rock"
          ],
          [
           "psychedelic soul"
          ],
          [
           "psychedelic trance"
          ],
          [
           "psychill"
          ],
          [
           "psychobilly"
          ],
          [
           "pub rock"
          ],
          [
           "puerto rican folk"
          ],
          [
           "puerto rican pop"
          ],
          [
           "puerto rican rock"
          ],
          [
           "punjabi folk"
          ],
          [
           "punjabi hip hop"
          ],
          [
           "punjabi pop"
          ],
          [
           "punk"
          ],
          [
           "punk 'n' roll"
          ],
          [
           "punk blues"
          ],
          [
           "punk rock italiano"
          ],
          [
           "punk rock mexicano"
          ],
          [
           "punta"
          ],
          [
           "purple sound"
          ],
          [
           "qawwali"
          ],
          [
           "quartetto d'archi"
          ],
          [
           "quatuor a cordes"
          ],
          [
           "quebec death metal"
          ],
          [
           "quebec indie"
          ],
          [
           "queens hip hop"
          ],
          [
           "queer country"
          ],
          [
           "queercore"
          ],
          [
           "quiet storm"
          ],
          [
           "quran"
          ],
          [
           "r&b"
          ],
          [
           "r&b en espanol"
          ],
          [
           "rabindra sangeet"
          ],
          [
           "radio symphony"
          ],
          [
           "ragtime"
          ],
          [
           "rai"
          ],
          [
           "ranchera"
          ],
          [
           "rap"
          ],
          [
           "rap chileno"
          ],
          [
           "rap conciencia"
          ],
          [
           "rap conscient"
          ],
          [
           "rap cristiano"
          ],
          [
           "rap dominicano"
          ],
          [
           "rap kreyol"
          ],
          [
           "rap latina"
          ],
          [
           "rap metal"
          ],
          [
           "rap nacional antigo"
          ],
          [
           "rap napoletano"
          ],
          [
           "rap rock"
          ],
          [
           "rap underground mexicano"
          ],
          [
           "rare groove"
          ],
          [
           "rave"
          ],
          [
           "rawstyle"
          ],
          [
           "reading"
          ],
          [
           "reading indie"
          ],
          [
           "rebel blues"
          ],
          [
           "rebetiko"
          ],
          [
           "recorder"
          ],
          [
           "red dirt"
          ],
          [
           "redneck"
          ],
          [
           "reggae"
          ],
          [
           "reggae en espanol"
          ],
          [
           "reggae fusion"
          ],
          [
           "reggae rock"
          ],
          [
           "reggaeton"
          ],
          [
           "reggaeton colombiano"
          ],
          [
           "reggaeton cristiano"
          ],
          [
           "reggaeton flow"
          ],
          [
           "reggaeton mexicano"
          ],
          [
           "regional mexican"
          ],
          [
           "relaxative"
          ],
          [
           "renaissance"
          ],
          [
           "rennes indie"
          ],
          [
           "retro metal"
          ],
          [
           "retro soul"
          ],
          [
           "rhode island indie"
          ],
          [
           "rhode island rap"
          ],
          [
           "rhythm and blues"
          ],
          [
           "riddim"
          ],
          [
           "rif"
          ],
          [
           "riot grrrl"
          ],
          [
           "ritmo kombina"
          ],
          [
           "rochester mn indie"
          ],
          [
           "rochester ny indie"
          ],
          [
           "rock"
          ],
          [
           "rock alternatif francais"
          ],
          [
           "rock alternativo brasileiro"
          ],
          [
           "rock andaluz"
          ],
          [
           "rock baiano"
          ],
          [
           "rock brasiliense"
          ],
          [
           "rock chapin"
          ],
          [
           "rock cristiano"
          ],
          [
           "rock drums"
          ],
          [
           "rock en espanol"
          ],
          [
           "rock gaucho"
          ],
          [
           "rock independant francais"
          ],
          [
           "rock kapak"
          ],
          [
           "rock keyboard"
          ],
          [
           "rock nacional"
          ],
          [
           "rock nacional brasileiro"
          ],
          [
           "rock pernambucano"
          ],
          [
           "rock progressif francais"
          ],
          [
           "rock steady"
          ],
          [
           "rock urbano mexicano"
          ],
          [
           "rock-and-roll"
          ],
          [
           "rockabilly"
          ],
          [
           "rockabilly en espanol"
          ],
          [
           "roda de samba"
          ],
          [
           "romanian classical piano"
          ],
          [
           "romanian electronic"
          ],
          [
           "romanian folk"
          ],
          [
           "romanian pop"
          ],
          [
           "romanian rock"
          ],
          [
           "romantico"
          ],
          [
           "roots americana"
          ],
          [
           "roots reggae"
          ],
          [
           "roots rock"
          ],
          [
           "roots worship"
          ],
          [
           "rosary"
          ],
          [
           "rumba"
          ],
          [
           "rumba congolaise"
          ],
          [
           "rune folk"
          ],
          [
           "russian alternative rock"
          ],
          [
           "russian ccm"
          ],
          [
           "russian chanson"
          ],
          [
           "russian choir"
          ],
          [
           "russian classical piano"
          ],
          [
           "russian dance"
          ],
          [
           "russian edm"
          ],
          [
           "russian folk"
          ],
          [
           "russian folk rock"
          ],
          [
           "russian jazz"
          ],
          [
           "russian metal"
          ],
          [
           "russian metalcore"
          ],
          [
           "russian modern classical"
          ],
          [
           "russian orchestra"
          ],
          [
           "russian pop"
          ],
          [
           "russian post-punk"
          ],
          [
           "russian punk"
          ],
          [
           "russian rock"
          ],
          [
           "russian romanticism"
          ],
          [
           "russian shoegaze"
          ],
          [
           "russian trance"
          ],
          [
           "rva indie"
          ],
          [
           "rwandan traditional"
          ],
          [
           "ryukyu ongaku"
          ],
          [
           "sacramento hip hop"
          ],
          [
           "sacramento indie"
          ],
          [
           "sacred steel"
          ],
          [
           "sad rap"
          ],
          [
           "salsa"
          ],
          [
           "salsa choke"
          ],
          [
           "salsa colombiana"
          ],
          [
           "salsa cubana"
          ],
          [
           "salsa international"
          ],
          [
           "salsa peruana"
          ],
          [
           "salsa puertorriquena"
          ],
          [
           "salsa venezolana"
          ],
          [
           "samba"
          ],
          [
           "samba de roda"
          ],
          [
           "samba moderno"
          ],
          [
           "samba-enredo"
          ],
          [
           "samba-jazz"
          ],
          [
           "samba-rock"
          ],
          [
           "san antonio rap"
          ],
          [
           "san diego indie"
          ],
          [
           "san diego rap"
          ],
          [
           "san marcos tx indie"
          ],
          [
           "sandalwood"
          ],
          [
           "sarod"
          ],
          [
           "saskatchewan indie"
          ],
          [
           "scam rap"
          ],
          [
           "scandinavian r&b"
          ],
          [
           "scandipop"
          ],
          [
           "schlager"
          ],
          [
           "scorecore"
          ],
          [
           "scottish electronic"
          ],
          [
           "scottish fiddle"
          ],
          [
           "scottish folk"
          ],
          [
           "scottish hip hop"
          ],
          [
           "scottish indie"
          ],
          [
           "scottish jazz"
          ],
          [
           "scottish metal"
          ],
          [
           "scottish new wave"
          ],
          [
           "scottish rock"
          ],
          [
           "scottish singer-songwriter"
          ],
          [
           "scratch"
          ],
          [
           "scream rap"
          ],
          [
           "screamo"
          ],
          [
           "seattle hip hop"
          ],
          [
           "seattle indie"
          ],
          [
           "second line"
          ],
          [
           "sefardi"
          ],
          [
           "serbian electronic"
          ],
          [
           "serialism"
          ],
          [
           "sertanejo"
          ],
          [
           "sertanejo pop"
          ],
          [
           "sertanejo tradicional"
          ],
          [
           "sertanejo universitario"
          ],
          [
           "sevdah"
          ],
          [
           "sevillanas"
          ],
          [
           "shaabi"
          ],
          [
           "shabad"
          ],
          [
           "shakuhachi"
          ],
          [
           "shamanic"
          ],
          [
           "shanty"
          ],
          [
           "sheffield indie"
          ],
          [
           "shibuya-kei"
          ],
          [
           "shimmer pop"
          ],
          [
           "shimmer psych"
          ],
          [
           "shiver pop"
          ],
          [
           "shoegaze"
          ],
          [
           "show tunes"
          ],
          [
           "shred"
          ],
          [
           "shush"
          ],
          [
           "sierreno"
          ],
          [
           "singaporean mandopop"
          ],
          [
           "singaporean pop"
          ],
          [
           "singaporean singer-songwriter"
          ],
          [
           "singer-songwriter"
          ],
          [
           "singing bowl"
          ],
          [
           "sitar"
          ],
          [
           "ska"
          ],
          [
           "ska argentino"
          ],
          [
           "ska chileno"
          ],
          [
           "ska jazz"
          ],
          [
           "ska mexicano"
          ],
          [
           "ska punk"
          ],
          [
           "ska revival"
          ],
          [
           "skate punk"
          ],
          [
           "skiffle"
          ],
          [
           "skramz"
          ],
          [
           "sky room"
          ],
          [
           "slack-key guitar"
          ],
          [
           "slam poetry"
          ],
          [
           "slamming deathcore"
          ],
          [
           "slavic folk metal"
          ],
          [
           "slayer"
          ],
          [
           "slc indie"
          ],
          [
           "sleaze rock"
          ],
          [
           "sleep"
          ],
          [
           "slovak electronic"
          ],
          [
           "slovenian electronic"
          ],
          [
           "slovenian metal"
          ],
          [
           "slow game"
          ],
          [
           "slowcore"
          ],
          [
           "sludge metal"
          ],
          [
           "small room"
          ],
          [
           "smooth jazz"
          ],
          [
           "smooth saxophone"
          ],
          [
           "smooth soul"
          ],
          [
           "soca"
          ],
          [
           "socal pop punk"
          ],
          [
           "social media pop"
          ],
          [
           "soda pop"
          ],
          [
           "soft rock"
          ],
          [
           "solipsynthm"
          ],
          [
           "son cubano"
          ],
          [
           "son cubano clasico"
          ],
          [
           "son jarocho"
          ],
          [
           "sophisti-pop"
          ],
          [
           "sotalaulut"
          ],
          [
           "soukous"
          ],
          [
           "soul"
          ],
          [
           "soul blues"
          ],
          [
           "soul flow"
          ],
          [
           "soul jazz"
          ],
          [
           "souldies"
          ],
          [
           "sound"
          ],
          [
           "sound art"
          ],
          [
           "sound effects"
          ],
          [
           "sound team"
          ],
          [
           "soundtrack"
          ],
          [
           "south african alternative"
          ],
          [
           "south african choral"
          ],
          [
           "south african country"
          ],
          [
           "south african hip hop"
          ],
          [
           "south african house"
          ],
          [
           "south african jazz"
          ],
          [
           "south african pop"
          ],
          [
           "south african pop dance"
          ],
          [
           "south african rock"
          ],
          [
           "south carolina hip hop"
          ],
          [
           "south carolina indie"
          ],
          [
           "south carolina metal"
          ],
          [
           "south dakota indie"
          ],
          [
           "southampton indie"
          ],
          [
           "southern americana"
          ],
          [
           "southern gospel"
          ],
          [
           "southern hip hop"
          ],
          [
           "southern metal"
          ],
          [
           "southern rock"
          ],
          [
           "southern soul"
          ],
          [
           "southern soul blues"
          ],
          [
           "soviet synthpop"
          ],
          [
           "sovietwave"
          ],
          [
           "spa"
          ],
          [
           "space age pop"
          ],
          [
           "space ambient"
          ],
          [
           "space rock"
          ],
          [
           "spanish baroque"
          ],
          [
           "spanish classical"
          ],
          [
           "spanish classical piano"
          ],
          [
           "spanish folk metal"
          ],
          [
           "spanish hip hop"
          ],
          [
           "spanish indie pop"
          ],
          [
           "spanish invasion"
          ],
          [
           "spanish metal"
          ],
          [
           "spanish modern rock"
          ],
          [
           "spanish new wave"
          ],
          [
           "spanish noise pop"
          ],
          [
           "spanish pop"
          ],
          [
           "spanish pop rock"
          ],
          [
           "spanish renaissance"
          ],
          [
           "spanish rock"
          ],
          [
           "spanish synthpop"
          ],
          [
           "spanish techno"
          ],
          [
           "speed garage"
          ],
          [
           "speed metal"
          ],
          [
           "speedcore"
          ],
          [
           "spiritual hip hop"
          ],
          [
           "spiritual jazz"
          ],
          [
           "spirituals"
          ],
          [
           "springfield mo indie"
          ],
          [
           "spytrack"
          ],
          [
           "st louis rap"
          ],
          [
           "steampunk"
          ],
          [
           "steel guitar"
          ],
          [
           "steelpan"
          ],
          [
           "stl indie"
          ],
          [
           "stomp and flutter"
          ],
          [
           "stomp and holler"
          ],
          [
           "stomp and whittle"
          ],
          [
           "stomp pop"
          ],
          [
           "stoner metal"
          ],
          [
           "stoner rock"
          ],
          [
           "straight edge"
          ],
          [
           "straight-ahead jazz"
          ],
          [
           "street band"
          ],
          [
           "street punk"
          ],
          [
           "streichquartett"
          ],
          [
           "stride"
          ],
          [
           "string band"
          ],
          [
           "string folk"
          ],
          [
           "string orchestra"
          ],
          [
           "string quartet"
          ],
          [
           "strut"
          ],
          [
           "substep"
          ],
          [
           "sudanese pop"
          ],
          [
           "sufi"
          ],
          [
           "sufi chant"
          ],
          [
           "sunshine pop"
          ],
          [
           "supergroup"
          ],
          [
           "surf music"
          ],
          [
           "surf punk"
          ],
          [
           "svensk progg"
          ],
          [
           "swamp blues"
          ],
          [
           "swamp pop"
          ],
          [
           "swamp rock"
          ],
          [
           "swancore"
          ],
          [
           "swedish alternative rock"
          ],
          [
           "swedish americana"
          ],
          [
           "swedish black metal"
          ],
          [
           "swedish choir"
          ],
          [
           "swedish country"
          ],
          [
           "swedish dancehall"
          ],
          [
           "swedish death metal"
          ],
          [
           "swedish doom metal"
          ],
          [
           "swedish electronic"
          ],
          [
           "swedish electropop"
          ],
          [
           "swedish eurodance"
          ],
          [
           "swedish garage rock"
          ],
          [
           "swedish hard rock"
          ],
          [
           "swedish hardcore"
          ],
          [
           "swedish heavy metal"
          ],
          [
           "swedish house"
          ],
          [
           "swedish idol pop"
          ],
          [
           "swedish indie folk"
          ],
          [
           "swedish indie pop"
          ],
          [
           "swedish indie rock"
          ],
          [
           "swedish jazz"
          ],
          [
           "swedish jazz orkester"
          ],
          [
           "swedish melodic rock"
          ],
          [
           "swedish metal"
          ],
          [
           "swedish metalcore"
          ],
          [
           "swedish pop"
          ],
          [
           "swedish post-hardcore"
          ],
          [
           "swedish power metal"
          ],
          [
           "swedish prog"
          ],
          [
           "swedish progressive metal"
          ],
          [
           "swedish rock-and-roll"
          ],
          [
           "swedish singer-songwriter"
          ],
          [
           "swedish soul"
          ],
          [
           "swedish stoner rock"
          ],
          [
           "swedish synth"
          ],
          [
           "swedish synthpop"
          ],
          [
           "swedish tropical house"
          ],
          [
           "swedish underground rap"
          ],
          [
           "swing"
          ],
          [
           "swing italiano"
          ],
          [
           "swing revival"
          ],
          [
           "swiss black metal"
          ],
          [
           "swiss classical piano"
          ],
          [
           "swiss country"
          ],
          [
           "swiss metal"
          ],
          [
           "swiss pop"
          ],
          [
           "swiss rock"
          ],
          [
           "swiss worship"
          ],
          [
           "sydney indie"
          ],
          [
           "symphonic black metal"
          ],
          [
           "symphonic metal"
          ],
          [
           "symphonic rock"
          ],
          [
           "synth funk"
          ],
          [
           "synthpop"
          ],
          [
           "synthwave"
          ],
          [
           "syrian pop"
          ],
          [
           "tabla"
          ],
          [
           "tagalog rap"
          ],
          [
           "tagalog worship"
          ],
          [
           "taiwan campus folk"
          ],
          [
           "taiwan classical performance"
          ],
          [
           "taiwan hip hop"
          ],
          [
           "taiwan indie"
          ],
          [
           "taiwan pop"
          ],
          [
           "taiwan singer-songwriter"
          ],
          [
           "tajik pop"
          ],
          [
           "talent show"
          ],
          [
           "tamaulipas indie"
          ],
          [
           "tamaulipas rap"
          ],
          [
           "tamborazo"
          ],
          [
           "tamil hip hop"
          ],
          [
           "tamil pop"
          ],
          [
           "tamil worship"
          ],
          [
           "tampa indie"
          ],
          [
           "tango"
          ],
          [
           "tango cancion"
          ],
          [
           "tape club"
          ],
          [
           "tech house"
          ],
          [
           "technical death metal"
          ],
          [
           "technical deathcore"
          ],
          [
           "technical groove metal"
          ],
          [
           "technical melodic death metal"
          ],
          [
           "technical thrash"
          ],
          [
           "techno"
          ],
          [
           "techno kayo"
          ],
          [
           "tecnobanda"
          ],
          [
           "teen pop"
          ],
          [
           "tejano"
          ],
          [
           "tempe indie"
          ],
          [
           "tennessee hip hop"
          ],
          [
           "tennessee metal"
          ],
          [
           "tex-mex"
          ],
          [
           "texas blues"
          ],
          [
           "texas country"
          ],
          [
           "texas latin rap"
          ],
          [
           "texas pop punk"
          ],
          [
           "texas punk"
          ],
          [
           "thai folk"
          ],
          [
           "thai folk rock"
          ],
          [
           "thai idol"
          ],
          [
           "thai indie rock"
          ],
          [
           "thai pop"
          ],
          [
           "thall"
          ],
          [
           "theme"
          ],
          [
           "theremin"
          ],
          [
           "thrash core"
          ],
          [
           "thrash metal"
          ],
          [
           "timba"
          ],
          [
           "tin pan alley"
          ],
          [
           "tipico"
          ],
          [
           "tolkien metal"
          ],
          [
           "tollywood"
          ],
          [
           "tone"
          ],
          [
           "torch song"
          ],
          [
           "toronto indie"
          ],
          [
           "toronto rap"
          ],
          [
           "trad jazz catala"
          ],
          [
           "traditional bluegrass"
          ],
          [
           "traditional blues"
          ],
          [
           "traditional british folk"
          ],
          [
           "traditional country"
          ],
          [
           "traditional folk"
          ],
          [
           "traditional funk"
          ],
          [
           "traditional rockabilly"
          ],
          [
           "traditional ska"
          ],
          [
           "traditional soul"
          ],
          [
           "trance"
          ],
          [
           "trance mexicano"
          ],
          [
           "trancecore"
          ],
          [
           "transpop"
          ],
          [
           "trap"
          ],
          [
           "trap argentino"
          ],
          [
           "trap chileno"
          ],
          [
           "trap dominicano"
          ],
          [
           "trap latino"
          ],
          [
           "trap mexicano"
          ],
          [
           "trap queen"
          ],
          [
           "trap soul"
          ],
          [
           "trap triste"
          ],
          [
           "trap venezolano"
          ],
          [
           "traprun"
          ],
          [
           "trash rock"
          ],
          [
           "triangle indie"
          ],
          [
           "tribal house"
          ],
          [
           "trinidadian reggae"
          ],
          [
           "trio cubano"
          ],
          [
           "trip hop"
          ],
          [
           "trival"
          ],
          [
           "tropical"
          ],
          [
           "tropical house"
          ],
          [
           "tropicalia"
          ],
          [
           "trova"
          ],
          [
           "trova mexicana"
          ],
          [
           "truck-driving country"
          ],
          [
           "tuareg guitar"
          ],
          [
           "tucson indie"
          ],
          [
           "tulsa indie"
          ],
          [
           "tuna estudiantil"
          ],
          [
           "tunisian pop"
          ],
          [
           "turbo folk"
          ],
          [
           "turkish classical"
          ],
          [
           "turkish classical performance"
          ],
          [
           "turkish edm"
          ],
          [
           "turkish experimental"
          ],
          [
           "turkish folk"
          ],
          [
           "turkish jazz"
          ],
          [
           "turkish modern jazz"
          ],
          [
           "turkish pop"
          ],
          [
           "turkish psych"
          ],
          [
           "turkish trap"
          ],
          [
           "turkish trap pop"
          ],
          [
           "turntablism"
          ],
          [
           "twee pop"
          ],
          [
           "twoubadou"
          ],
          [
           "tzadik"
          ],
          [
           "ugandan pop"
          ],
          [
           "uilleann pipes"
          ],
          [
           "uk alternative hip hop"
          ],
          [
           "uk alternative pop"
          ],
          [
           "uk americana"
          ],
          [
           "uk contemporary jazz"
          ],
          [
           "uk contemporary r&b"
          ],
          [
           "uk dance"
          ],
          [
           "uk dancehall"
          ],
          [
           "uk diy punk"
          ],
          [
           "uk dnb"
          ],
          [
           "uk doom metal"
          ],
          [
           "uk dub"
          ],
          [
           "uk experimental electronic"
          ],
          [
           "uk funky"
          ],
          [
           "uk garage"
          ],
          [
           "uk hip hop"
          ],
          [
           "uk house"
          ],
          [
           "uk metalcore"
          ],
          [
           "uk noise rock"
          ],
          [
           "uk pop"
          ],
          [
           "uk pop punk"
          ],
          [
           "uk post-hardcore"
          ],
          [
           "uk post-punk"
          ],
          [
           "uk reggae"
          ],
          [
           "uk rockabilly"
          ],
          [
           "uk stoner rock"
          ],
          [
           "uk worship"
          ],
          [
           "uk82"
          ],
          [
           "ukrainian choir"
          ],
          [
           "ukrainian classical"
          ],
          [
           "ukrainian classical piano"
          ],
          [
           "ukrainian electronic"
          ],
          [
           "ukrainian pop"
          ],
          [
           "ukulele"
          ],
          [
           "umbanda"
          ],
          [
           "underground hip hop"
          ],
          [
           "underground power pop"
          ],
          [
           "underground rap"
          ],
          [
           "university choir"
          ],
          [
           "uplifting trance"
          ],
          [
           "uptempo hardcore"
          ],
          [
           "urban contemporary"
          ],
          [
           "urbano espanol"
          ],
          [
           "us power metal"
          ],
          [
           "utah indie"
          ],
          [
           "uzbek pop"
          ],
          [
           "uzbek traditional"
          ],
          [
           "v-pop"
          ],
          [
           "vallenato"
          ],
          [
           "vallenato moderno"
          ],
          [
           "vancouver indie"
          ],
          [
           "vancouver metal"
          ],
          [
           "vancouver punk"
          ],
          [
           "vapor pop"
          ],
          [
           "vapor soul"
          ],
          [
           "vapor trap"
          ],
          [
           "vapor twitch"
          ],
          [
           "vaporwave"
          ],
          [
           "variete francaise"
          ],
          [
           "vaudeville"
          ],
          [
           "vbs"
          ],
          [
           "veena"
          ],
          [
           "vegan straight edge"
          ],
          [
           "vegas indie"
          ],
          [
           "velha guarda"
          ],
          [
           "venezuelan hip hop"
          ],
          [
           "venezuelan indie"
          ],
          [
           "venezuelan rock"
          ],
          [
           "veracruz indie"
          ],
          [
           "vermont indie"
          ],
          [
           "vgm instrumental"
          ],
          [
           "vgm remix"
          ],
          [
           "victoria bc indie"
          ],
          [
           "victorian britain"
          ],
          [
           "video game music"
          ],
          [
           "vienna indie"
          ],
          [
           "vietnamese bolero"
          ],
          [
           "vietnamese pop"
          ],
          [
           "viking black metal"
          ],
          [
           "viking folk"
          ],
          [
           "viking metal"
          ],
          [
           "villancicos"
          ],
          [
           "vintage chanson"
          ],
          [
           "vintage chinese pop"
          ],
          [
           "vintage classical singing"
          ],
          [
           "vintage country folk"
          ],
          [
           "vintage dutch pop"
          ],
          [
           "vintage french electronic"
          ],
          [
           "vintage gospel"
          ],
          [
           "vintage hollywood"
          ],
          [
           "vintage italian pop"
          ],
          [
           "vintage italian soundtrack"
          ],
          [
           "vintage jazz"
          ],
          [
           "vintage old-time"
          ],
          [
           "vintage rockabilly"
          ],
          [
           "vintage schlager"
          ],
          [
           "vintage spanish pop"
          ],
          [
           "vintage swedish pop"
          ],
          [
           "vintage swing"
          ],
          [
           "vintage tango"
          ],
          [
           "viola"
          ],
          [
           "violao"
          ],
          [
           "violao classico"
          ],
          [
           "violin"
          ],
          [
           "viral pop"
          ],
          [
           "viral rap"
          ],
          [
           "viral trap"
          ],
          [
           "virgin islands reggae"
          ],
          [
           "virginia hip hop"
          ],
          [
           "virginia metal"
          ],
          [
           "virginia punk"
          ],
          [
           "visor"
          ],
          [
           "visual kei"
          ],
          [
           "vocal ensemble"
          ],
          [
           "vocal harmony group"
          ],
          [
           "vocal house"
          ],
          [
           "vocal jazz"
          ],
          [
           "vocal trance"
          ],
          [
           "vocaloid"
          ],
          [
           "vogue"
          ],
          [
           "volksmusik"
          ],
          [
           "warm drone"
          ],
          [
           "washboard"
          ],
          [
           "washington indie"
          ],
          [
           "wassoulou"
          ],
          [
           "water"
          ],
          [
           "wave"
          ],
          [
           "welsh folk"
          ],
          [
           "welsh indie"
          ],
          [
           "welsh metal"
          ],
          [
           "welsh rock"
          ],
          [
           "west african jazz"
          ],
          [
           "west australian hip hop"
          ],
          [
           "west coast rap"
          ],
          [
           "west coast reggae"
          ],
          [
           "west coast trap"
          ],
          [
           "west end"
          ],
          [
           "west virginia indie"
          ],
          [
           "western americana"
          ],
          [
           "western mass indie"
          ],
          [
           "western saharan folk"
          ],
          [
           "western swing"
          ],
          [
           "white noise"
          ],
          [
           "wind ensemble"
          ],
          [
           "wind quintet"
          ],
          [
           "wisconsin indie"
          ],
          [
           "witch house"
          ],
          [
           "women's choir"
          ],
          [
           "women's music"
          ],
          [
           "wonky"
          ],
          [
           "worcester ma indie"
          ],
          [
           "world"
          ],
          [
           "world fusion"
          ],
          [
           "world meditation"
          ],
          [
           "world worship"
          ],
          [
           "worship"
          ],
          [
           "wrestling"
          ],
          [
           "wu fam"
          ],
          [
           "wyoming indie"
          ],
          [
           "wyoming roots"
          ],
          [
           "xhosa"
          ],
          [
           "xtra raw"
          ],
          [
           "yacht rock"
          ],
          [
           "ye ye"
          ],
          [
           "yiddish folk"
          ],
          [
           "yodeling"
          ],
          [
           "yoga"
          ],
          [
           "yoik"
          ],
          [
           "york indie"
          ],
          [
           "yorkshire folk"
          ],
          [
           "yugoslav new wave"
          ],
          [
           "yugoslav rock"
          ],
          [
           "zambian pop"
          ],
          [
           "zeuhl"
          ],
          [
           "zhongguo feng"
          ],
          [
           "zimdancehall"
          ],
          [
           "zolo"
          ],
          [
           "zouglou"
          ],
          [
           "zouk"
          ],
          [
           "zurich indie"
          ],
          [
           "zydeco"
          ]
         ],
         "hovertemplate": "x=%{x}<br>y=%{y}<br>genres=%{customdata[0]}<br>cluster_pca=%{marker.color}<extra></extra>",
         "legendgroup": "",
         "marker": {
          "color": [
           1,
           1,
           4,
           3,
           3,
           0,
           0,
           4,
           3,
           3,
           2,
           0,
           2,
           1,
           3,
           0,
           4,
           0,
           2,
           0,
           3,
           3,
           4,
           3,
           0,
           4,
           4,
           1,
           4,
           4,
           4,
           4,
           4,
           0,
           0,
           2,
           0,
           4,
           2,
           0,
           2,
           4,
           4,
           4,
           0,
           4,
           4,
           0,
           4,
           2,
           4,
           0,
           0,
           2,
           2,
           4,
           2,
           2,
           4,
           4,
           2,
           0,
           4,
           1,
           2,
           0,
           2,
           0,
           4,
           1,
           4,
           0,
           1,
           1,
           1,
           1,
           1,
           3,
           2,
           1,
           0,
           1,
           0,
           1,
           1,
           0,
           3,
           2,
           1,
           4,
           2,
           2,
           2,
           0,
           0,
           2,
           2,
           0,
           3,
           4,
           3,
           1,
           0,
           0,
           0,
           0,
           1,
           0,
           4,
           2,
           4,
           0,
           4,
           4,
           4,
           4,
           4,
           2,
           3,
           2,
           0,
           1,
           0,
           4,
           0,
           1,
           4,
           0,
           4,
           1,
           0,
           4,
           4,
           4,
           2,
           4,
           1,
           2,
           4,
           2,
           4,
           2,
           2,
           3,
           2,
           4,
           0,
           4,
           0,
           4,
           1,
           4,
           1,
           1,
           1,
           4,
           2,
           2,
           4,
           4,
           2,
           2,
           0,
           2,
           4,
           2,
           2,
           4,
           4,
           0,
           2,
           0,
           0,
           4,
           4,
           2,
           4,
           4,
           4,
           1,
           1,
           1,
           0,
           1,
           4,
           3,
           2,
           1,
           1,
           2,
           4,
           3,
           4,
           4,
           4,
           4,
           1,
           1,
           3,
           0,
           3,
           4,
           3,
           3,
           3,
           2,
           0,
           1,
           1,
           3,
           1,
           4,
           2,
           4,
           4,
           4,
           3,
           3,
           3,
           3,
           3,
           1,
           4,
           3,
           3,
           3,
           1,
           1,
           1,
           1,
           0,
           1,
           1,
           3,
           4,
           0,
           2,
           4,
           4,
           2,
           4,
           4,
           4,
           4,
           2,
           4,
           4,
           3,
           0,
           3,
           4,
           4,
           3,
           0,
           4,
           2,
           2,
           2,
           1,
           1,
           2,
           2,
           4,
           0,
           2,
           3,
           2,
           4,
           0,
           3,
           0,
           0,
           3,
           4,
           4,
           0,
           1,
           3,
           4,
           1,
           3,
           2,
           2,
           1,
           1,
           4,
           4,
           2,
           2,
           2,
           4,
           2,
           2,
           2,
           2,
           0,
           2,
           3,
           3,
           3,
           3,
           2,
           2,
           0,
           2,
           3,
           3,
           4,
           4,
           3,
           4,
           4,
           3,
           3,
           3,
           4,
           4,
           4,
           2,
           2,
           4,
           4,
           2,
           3,
           0,
           4,
           4,
           1,
           1,
           0,
           0,
           1,
           1,
           4,
           1,
           1,
           1,
           4,
           2,
           4,
           3,
           3,
           2,
           3,
           3,
           4,
           4,
           4,
           2,
           4,
           2,
           2,
           4,
           3,
           1,
           0,
           3,
           2,
           0,
           2,
           4,
           2,
           2,
           0,
           4,
           1,
           1,
           4,
           1,
           3,
           2,
           0,
           3,
           2,
           2,
           0,
           4,
           0,
           1,
           1,
           0,
           2,
           0,
           4,
           1,
           2,
           3,
           0,
           4,
           4,
           4,
           2,
           2,
           4,
           2,
           0,
           4,
           4,
           4,
           4,
           2,
           1,
           3,
           3,
           0,
           0,
           3,
           4,
           2,
           4,
           1,
           3,
           4,
           1,
           0,
           4,
           3,
           4,
           2,
           4,
           3,
           1,
           1,
           1,
           3,
           4,
           0,
           0,
           2,
           4,
           1,
           3,
           2,
           4,
           2,
           0,
           3,
           0,
           4,
           4,
           2,
           2,
           0,
           4,
           2,
           2,
           1,
           0,
           2,
           2,
           4,
           0,
           1,
           0,
           2,
           4,
           3,
           0,
           3,
           0,
           0,
           3,
           3,
           2,
           3,
           3,
           4,
           3,
           3,
           3,
           4,
           1,
           1,
           1,
           2,
           2,
           1,
           3,
           1,
           2,
           4,
           4,
           3,
           1,
           3,
           1,
           1,
           0,
           1,
           0,
           0,
           2,
           4,
           0,
           3,
           4,
           2,
           3,
           4,
           4,
           2,
           3,
           3,
           4,
           2,
           4,
           2,
           2,
           2,
           4,
           3,
           2,
           4,
           4,
           4,
           3,
           3,
           4,
           3,
           4,
           0,
           0,
           4,
           2,
           1,
           3,
           0,
           3,
           4,
           3,
           2,
           0,
           3,
           1,
           1,
           1,
           2,
           0,
           4,
           0,
           2,
           1,
           3,
           0,
           1,
           1,
           0,
           4,
           1,
           3,
           0,
           3,
           0,
           2,
           4,
           2,
           4,
           4,
           0,
           2,
           2,
           0,
           2,
           2,
           4,
           1,
           2,
           4,
           0,
           1,
           0,
           4,
           4,
           4,
           2,
           2,
           0,
           4,
           3,
           3,
           4,
           4,
           3,
           4,
           0,
           3,
           3,
           3,
           3,
           2,
           3,
           4,
           4,
           4,
           4,
           3,
           2,
           0,
           2,
           3,
           0,
           3,
           3,
           2,
           3,
           3,
           3,
           0,
           4,
           0,
           3,
           0,
           4,
           3,
           0,
           0,
           4,
           0,
           3,
           2,
           3,
           4,
           1,
           4,
           4,
           4,
           3,
           4,
           4,
           1,
           0,
           1,
           1,
           1,
           1,
           1,
           1,
           1,
           1,
           1,
           1,
           1,
           3,
           1,
           1,
           1,
           1,
           1,
           1,
           1,
           0,
           1,
           1,
           1,
           3,
           3,
           4,
           2,
           4,
           4,
           4,
           4,
           4,
           4,
           4,
           4,
           4,
           3,
           4,
           2,
           3,
           2,
           1,
           4,
           1,
           2,
           2,
           4,
           1,
           1,
           1,
           4,
           3,
           0,
           1,
           3,
           3,
           1,
           3,
           3,
           3,
           2,
           4,
           4,
           4,
           2,
           3,
           0,
           4,
           3,
           3,
           4,
           3,
           4,
           4,
           4,
           0,
           3,
           3,
           4,
           4,
           0,
           4,
           4,
           2,
           4,
           2,
           4,
           4,
           4,
           3,
           4,
           4,
           4,
           4,
           4,
           4,
           4,
           4,
           4,
           3,
           4,
           3,
           4,
           4,
           4,
           4,
           2,
           2,
           3,
           1,
           1,
           3,
           2,
           3,
           2,
           4,
           4,
           4,
           2,
           4,
           2,
           2,
           1,
           2,
           1,
           4,
           1,
           2,
           4,
           0,
           2,
           4,
           2,
           2,
           3,
           4,
           3,
           4,
           4,
           0,
           4,
           2,
           1,
           0,
           2,
           0,
           4,
           0,
           2,
           2,
           2,
           0,
           2,
           2,
           2,
           4,
           2,
           2,
           2,
           2,
           4,
           3,
           2,
           2,
           0,
           4,
           3,
           4,
           2,
           3,
           4,
           4,
           2,
           4,
           4,
           4,
           3,
           4,
           2,
           4,
           4,
           2,
           4,
           4,
           1,
           3,
           2,
           3,
           3,
           2,
           0,
           3,
           0,
           4,
           4,
           1,
           2,
           0,
           2,
           4,
           2,
           4,
           4,
           0,
           4,
           0,
           1,
           3,
           4,
           0,
           4,
           0,
           0,
           4,
           4,
           2,
           3,
           4,
           4,
           4,
           4,
           0,
           4,
           0,
           4,
           4,
           2,
           4,
           0,
           0,
           4,
           0,
           3,
           0,
           4,
           3,
           2,
           1,
           4,
           4,
           4,
           4,
           3,
           4,
           3,
           2,
           2,
           4,
           4,
           4,
           3,
           2,
           2,
           0,
           3,
           0,
           2,
           2,
           2,
           1,
           4,
           0,
           1,
           1,
           0,
           2,
           4,
           2,
           4,
           1,
           2,
           0,
           1,
           4,
           3,
           3,
           2,
           4,
           0,
           2,
           3,
           1,
           2,
           2,
           2,
           3,
           4,
           2,
           3,
           1,
           2,
           4,
           2,
           4,
           3,
           2,
           0,
           3,
           3,
           1,
           1,
           1,
           1,
           4,
           1,
           4,
           2,
           4,
           4,
           0,
           3,
           4,
           0,
           2,
           1,
           0,
           4,
           2,
           4,
           4,
           3,
           2,
           2,
           3,
           0,
           4,
           2,
           0,
           4,
           4,
           2,
           0,
           2,
           4,
           2,
           2,
           2,
           0,
           4,
           4,
           4,
           2,
           2,
           2,
           4,
           2,
           1,
           2,
           1,
           0,
           3,
           1,
           2,
           0,
           3,
           4,
           1,
           2,
           3,
           4,
           0,
           0,
           0,
           1,
           3,
           0,
           4,
           2,
           2,
           4,
           4,
           4,
           4,
           3,
           0,
           1,
           1,
           4,
           4,
           1,
           0,
           4,
           0,
           0,
           0,
           0,
           3,
           3,
           0,
           3,
           2,
           4,
           3,
           4,
           2,
           0,
           1,
           2,
           1,
           1,
           2,
           2,
           2,
           2,
           2,
           2,
           4,
           3,
           0,
           1,
           4,
           0,
           2,
           4,
           0,
           0,
           1,
           4,
           0,
           4,
           4,
           3,
           3,
           3,
           3,
           0,
           3,
           2,
           4,
           0,
           3,
           0,
           3,
           4,
           3,
           3,
           4,
           4,
           4,
           3,
           0,
           4,
           4,
           4,
           2,
           1,
           4,
           0,
           4,
           0,
           1,
           1,
           4,
           1,
           1,
           3,
           2,
           2,
           4,
           0,
           0,
           2,
           3,
           2,
           3,
           1,
           1,
           0,
           4,
           2,
           4,
           4,
           1,
           2,
           3,
           4,
           2,
           2,
           2,
           4,
           2,
           4,
           3,
           4,
           4,
           2,
           2,
           3,
           4,
           4,
           4,
           4,
           0,
           2,
           4,
           0,
           4,
           2,
           4,
           4,
           2,
           0,
           2,
           2,
           4,
           3,
           1,
           2,
           2,
           4,
           4,
           2,
           0,
           2,
           0,
           2,
           4,
           2,
           0,
           0,
           4,
           0,
           2,
           1,
           1,
           1,
           0,
           4,
           2,
           2,
           4,
           4,
           1,
           3,
           2,
           2,
           1,
           1,
           4,
           4,
           4,
           2,
           4,
           1,
           2,
           1,
           1,
           1,
           2,
           2,
           2,
           4,
           4,
           3,
           3,
           2,
           4,
           2,
           2,
           0,
           4,
           0,
           2,
           0,
           4,
           4,
           2,
           0,
           3,
           3,
           3,
           0,
           4,
           3,
           4,
           2,
           0,
           2,
           4,
           4,
           2,
           2,
           0,
           2,
           2,
           4,
           4,
           2,
           3,
           1,
           3,
           3,
           2,
           1,
           3,
           3,
           1,
           4,
           0,
           0,
           2,
           4,
           2,
           2,
           4,
           4,
           4,
           4,
           2,
           2,
           3,
           0,
           3,
           1,
           3,
           3,
           3,
           1,
           2,
           3,
           3,
           4,
           3,
           4,
           4,
           4,
           1,
           0,
           2,
           1,
           2,
           2,
           3,
           0,
           2,
           4,
           2,
           4,
           2,
           2,
           2,
           4,
           3,
           3,
           3,
           1,
           1,
           1,
           1,
           3,
           4,
           4,
           1,
           4,
           4,
           4,
           0,
           4,
           1,
           1,
           3,
           4,
           4,
           4,
           4,
           4,
           1,
           1,
           1,
           1,
           1,
           1,
           1,
           3,
           0,
           0,
           4,
           3,
           3,
           3,
           3,
           4,
           2,
           0,
           4,
           2,
           4,
           4,
           4,
           3,
           4,
           1,
           1,
           1,
           1,
           0,
           3,
           3,
           3,
           0,
           0,
           4,
           4,
           1,
           0,
           1,
           0,
           3,
           0,
           0,
           0,
           0,
           0,
           2,
           3,
           3,
           1,
           3,
           4,
           4,
           1,
           4,
           3,
           3,
           4,
           0,
           0,
           3,
           0,
           0,
           4,
           0,
           0,
           0,
           4,
           0,
           0,
           4,
           4,
           0,
           2,
           0,
           4,
           0,
           2,
           4,
           2,
           0,
           4,
           2,
           3,
           0,
           2,
           4,
           2,
           0,
           4,
           1,
           0,
           3,
           4,
           2,
           2,
           0,
           3,
           3,
           0,
           4,
           2,
           0,
           2,
           2,
           0,
           2,
           4,
           0,
           4,
           4,
           3,
           3,
           1,
           0,
           0,
           3,
           3,
           4,
           1,
           2,
           0,
           3,
           0,
           3,
           4,
           3,
           3,
           1,
           1,
           1,
           4,
           2,
           4,
           3,
           3,
           4,
           0,
           1,
           1,
           1,
           1,
           2,
           1,
           1,
           0,
           4,
           2,
           2,
           4,
           1,
           0,
           1,
           2,
           1,
           2,
           1,
           1,
           3,
           2,
           0,
           0,
           1,
           1,
           1,
           1,
           0,
           3,
           3,
           4,
           4,
           2,
           1,
           0,
           2,
           4,
           2,
           2,
           2,
           4,
           2,
           2,
           4,
           2,
           2,
           0,
           0,
           4,
           4,
           2,
           3,
           4,
           1,
           1,
           1,
           1,
           0,
           1,
           4,
           2,
           0,
           4,
           4,
           2,
           2,
           1,
           3,
           2,
           0,
           3,
           0,
           2,
           2,
           0,
           2,
           2,
           2,
           2,
           0,
           2,
           2,
           4,
           4,
           2,
           0,
           1,
           0,
           0,
           4,
           3,
           3,
           3,
           4,
           3,
           3,
           3,
           3,
           3,
           1,
           3,
           3,
           0,
           0,
           3,
           3,
           2,
           1,
           3,
           0,
           3,
           3,
           3,
           4,
           0,
           3,
           1,
           3,
           3,
           3,
           3,
           3,
           3,
           0,
           1,
           4,
           0,
           4,
           4,
           0,
           3,
           4,
           3,
           2,
           4,
           4,
           4,
           4,
           4,
           3,
           3,
           4,
           3,
           4,
           3,
           2,
           2,
           0,
           0,
           0,
           4,
           0,
           4,
           3,
           4,
           4,
           3,
           0,
           4,
           4,
           3,
           4,
           1,
           0,
           0,
           3,
           3,
           4,
           1,
           1,
           1,
           3,
           3,
           1,
           1,
           2,
           4,
           4,
           4,
           4,
           1,
           1,
           3,
           4,
           2,
           1,
           4,
           3,
           0,
           0,
           1,
           4,
           4,
           4,
           1,
           4,
           0,
           3,
           4,
           4,
           4,
           4,
           2,
           4,
           4,
           4,
           3,
           4,
           4,
           4,
           0,
           4,
           4,
           4,
           4,
           3,
           1,
           0,
           3,
           2,
           4,
           4,
           3,
           0,
           1,
           0,
           2,
           0,
           0,
           2,
           3,
           4,
           0,
           3,
           4,
           3,
           0,
           0,
           3,
           0,
           0,
           4,
           3,
           2,
           2,
           0,
           3,
           0,
           4,
           1,
           0,
           3,
           0,
           2,
           1,
           3,
           4,
           0,
           0,
           4,
           0,
           2,
           0,
           1,
           2,
           3,
           4,
           2,
           0,
           0,
           0,
           4,
           3,
           0,
           3,
           4,
           3,
           3,
           3,
           4,
           4,
           0,
           4,
           0,
           2,
           0,
           1,
           0,
           2,
           1,
           0,
           4,
           4,
           2,
           0,
           2,
           2,
           2,
           2,
           2,
           2,
           2,
           2,
           2,
           4,
           2,
           4,
           0,
           3,
           4,
           2,
           3,
           3,
           4,
           4,
           4,
           0,
           2,
           2,
           2,
           2,
           2,
           4,
           1,
           4,
           2,
           4,
           2,
           4,
           3,
           4,
           4,
           4,
           4,
           4,
           2,
           4,
           0,
           1,
           1,
           0,
           0,
           0,
           2,
           3,
           4,
           0,
           1,
           0,
           0,
           4,
           0,
           2,
           1,
           4,
           2,
           2,
           4,
           4,
           4,
           0,
           1,
           2,
           4,
           2,
           0,
           0,
           2,
           4,
           4,
           2,
           4,
           0,
           4,
           4,
           1,
           1,
           4,
           1,
           2,
           4,
           4,
           2,
           4,
           4,
           4,
           1,
           2,
           2,
           1,
           4,
           3,
           3,
           3,
           0,
           4,
           1,
           2,
           3,
           3,
           4,
           3,
           3,
           3,
           3,
           3,
           4,
           4,
           0,
           4,
           1,
           2,
           4,
           4,
           0,
           4,
           0,
           1,
           3,
           4,
           3,
           3,
           4,
           3,
           3,
           4,
           3,
           3,
           3,
           4,
           0,
           4,
           4,
           3,
           3,
           3,
           4,
           0,
           3,
           2,
           2,
           4,
           1,
           0,
           3,
           3,
           2,
           2,
           4,
           0,
           4,
           2,
           0,
           3,
           1,
           4,
           1,
           4,
           1,
           3,
           2,
           4,
           2,
           3,
           0,
           4,
           4,
           1,
           0,
           3,
           0,
           2,
           4,
           0,
           2,
           2,
           0,
           4,
           0,
           1,
           0,
           4,
           4,
           3,
           3,
           0,
           2,
           2,
           4,
           2,
           1,
           1,
           0,
           4,
           4,
           3,
           2,
           4,
           1,
           4,
           2,
           0,
           2,
           4,
           3,
           3,
           4,
           4,
           3,
           4,
           2,
           4,
           0,
           4,
           2,
           4,
           0,
           2,
           4,
           1,
           2,
           2,
           4,
           4,
           2,
           2,
           0,
           2,
           3,
           4,
           0,
           2,
           2,
           0,
           1,
           1,
           0,
           4,
           1,
           0,
           1,
           3,
           2,
           4,
           4,
           2,
           4,
           0,
           2,
           0,
           2,
           2,
           2,
           4,
           2,
           1,
           1,
           1,
           2,
           1,
           4,
           4,
           1,
           2,
           2,
           2,
           2,
           2,
           0,
           0,
           0,
           4,
           0,
           3,
           4,
           4,
           1,
           4,
           2,
           0,
           2,
           2,
           4,
           2,
           3,
           3,
           3,
           4,
           0,
           3,
           4,
           3,
           3,
           2,
           2,
           4,
           4,
           4,
           2,
           1,
           0,
           2,
           0,
           4,
           2,
           2,
           0,
           4,
           4,
           2,
           4,
           1,
           4,
           0,
           2,
           4,
           0,
           4,
           3,
           4,
           4,
           4,
           2,
           4,
           0,
           3,
           1,
           0,
           2,
           4,
           4,
           1,
           1,
           2,
           1,
           1,
           0,
           0,
           1,
           1,
           2,
           1,
           2,
           0,
           2,
           1,
           1,
           3,
           3,
           1,
           4,
           2,
           4,
           4,
           4,
           3,
           4,
           4,
           3,
           1,
           1,
           2,
           4,
           2,
           4,
           4,
           2,
           3,
           4,
           3,
           0,
           0,
           4,
           4,
           1,
           0,
           4,
           4,
           4,
           3,
           0,
           4,
           3,
           3,
           2,
           4,
           4,
           3,
           2,
           4,
           4,
           4,
           4,
           4,
           3,
           1,
           0,
           0,
           1,
           3,
           4,
           2,
           2,
           0,
           3,
           0,
           0,
           0,
           4,
           4,
           4,
           4,
           4,
           2,
           2,
           3,
           1,
           4,
           1,
           1,
           1,
           1,
           1,
           3,
           2,
           3,
           4,
           4,
           3,
           4,
           4,
           1,
           4,
           4,
           4,
           0,
           4,
           2,
           4,
           2,
           4,
           0,
           4,
           4,
           0,
           4,
           2,
           0,
           4,
           4,
           4,
           4,
           2,
           0,
           4,
           4,
           0,
           4,
           4,
           1,
           2,
           3,
           4,
           0,
           0,
           2,
           0,
           1,
           4,
           4,
           2,
           2,
           2,
           0,
           1,
           2,
           0,
           0,
           1,
           1,
           2,
           4,
           2,
           4,
           2,
           2,
           0,
           1,
           4,
           0,
           0,
           0,
           2,
           2,
           2,
           2,
           0,
           2,
           2,
           2,
           2,
           2,
           0,
           2,
           2,
           0,
           2,
           3,
           0,
           4,
           3,
           0,
           2,
           0,
           2,
           3,
           0,
           4,
           0,
           2,
           0,
           0,
           2,
           2,
           2,
           4,
           3,
           0,
           4,
           3,
           4,
           4,
           2,
           2,
           2,
           4,
           2,
           4,
           4,
           3,
           1,
           1,
           2,
           0,
           4,
           4,
           4,
           4,
           3,
           4,
           4,
           3,
           1,
           3,
           0,
           3,
           4,
           4,
           4,
           4,
           0,
           4,
           4,
           4,
           2,
           4,
           1,
           2,
           4,
           0,
           2,
           2,
           3,
           0,
           4,
           3,
           3,
           4,
           4,
           4,
           4,
           4,
           4,
           4,
           4,
           2,
           4,
           4,
           4,
           3,
           1,
           4,
           2,
           4,
           0,
           4,
           3,
           4,
           0,
           2,
           4,
           2,
           4,
           2,
           4,
           4,
           4,
           4,
           0,
           2,
           2,
           0,
           4,
           2,
           2,
           4,
           0,
           0,
           4,
           3,
           0,
           4,
           2,
           4,
           4,
           4,
           3,
           1,
           4,
           1,
           4,
           3,
           3,
           0,
           4,
           0,
           0,
           3,
           0,
           0,
           0,
           2,
           2,
           3,
           1,
           1,
           2,
           2,
           3,
           3,
           3,
           2,
           2,
           1,
           1,
           4,
           2,
           3,
           0,
           1,
           0,
           2,
           4,
           1,
           3,
           4,
           2,
           4,
           4,
           4,
           4,
           4,
           4,
           4,
           4,
           4,
           4,
           3,
           3,
           4,
           4,
           3,
           4,
           4,
           2,
           4,
           0,
           3,
           1,
           3,
           4,
           4,
           4,
           0,
           1,
           4,
           1,
           0,
           4,
           0,
           3,
           4,
           4,
           4,
           4,
           4,
           4,
           2,
           4,
           0,
           4,
           4,
           3,
           1,
           4,
           3,
           3,
           4,
           0,
           4,
           4,
           3,
           1,
           1,
           3,
           2,
           0,
           2,
           0,
           0,
           0,
           0,
           2,
           1,
           4,
           0,
           0,
           2,
           0,
           1,
           1,
           4,
           4,
           4,
           4,
           4,
           4,
           4,
           2,
           3,
           3,
           2,
           3,
           2,
           2,
           2,
           2,
           0,
           2,
           1,
           0,
           4,
           2,
           4,
           0,
           2,
           0,
           0,
           0,
           4,
           4,
           2,
           4,
           3,
           0,
           4,
           3,
           3,
           4,
           4,
           4,
           3,
           4,
           3,
           4,
           3,
           3,
           1,
           1,
           1,
           4,
           1,
           4,
           3,
           4,
           4,
           4,
           3,
           4,
           4,
           2,
           4,
           0,
           2,
           2,
           0,
           4,
           0,
           4,
           2,
           4,
           4,
           4,
           4,
           2,
           1,
           3,
           1,
           0,
           1,
           1,
           1,
           2,
           4,
           0,
           4,
           2,
           0,
           4,
           0,
           4,
           4,
           1,
           4,
           4,
           0,
           4,
           2,
           3,
           4,
           0,
           3,
           0,
           3,
           4,
           4,
           3,
           3,
           4,
           3,
           0,
           3,
           4,
           2,
           2,
           2,
           1,
           4,
           2,
           1,
           3,
           3,
           1,
           1,
           1,
           4,
           0,
           0,
           3,
           3,
           0,
           0,
           0,
           2,
           2,
           4,
           4,
           4,
           2,
           2,
           0,
           2,
           1,
           4,
           4,
           2,
           2,
           0,
           2,
           2,
           2,
           2,
           2,
           0,
           0,
           2,
           0,
           2,
           2,
           1,
           3,
           0,
           2,
           2,
           4,
           2,
           2,
           2,
           2,
           4,
           0,
           0,
           0,
           0,
           0,
           2,
           4,
           3,
           3,
           4,
           2,
           1,
           1,
           2,
           4,
           0,
           1,
           3,
           2,
           2,
           0,
           4,
           4,
           2,
           3,
           3,
           4,
           0,
           3,
           1,
           3,
           0,
           0,
           0,
           3,
           4,
           4,
           4,
           4,
           3,
           3,
           3,
           2,
           3,
           3,
           0,
           0,
           2,
           0,
           2,
           2,
           2,
           0,
           0,
           4,
           4,
           4,
           4,
           4,
           2,
           4,
           4,
           4,
           4,
           4,
           4,
           4,
           4,
           0,
           3,
           4,
           2,
           3,
           1,
           2,
           2,
           4,
           3,
           4,
           0,
           3,
           1,
           3,
           0,
           4,
           3,
           3,
           3,
           3,
           3,
           3,
           0,
           4,
           4,
           4,
           2,
           2,
           2,
           4,
           4,
           4,
           2,
           0,
           4,
           4,
           4,
           4,
           4,
           4,
           2,
           2,
           2,
           4,
           3,
           3,
           0,
           4,
           4,
           4,
           4,
           3,
           3,
           3,
           0,
           4,
           4,
           4,
           4,
           4,
           3,
           1,
           2,
           2,
           3,
           3,
           3,
           0,
           3,
           2,
           0,
           4,
           0,
           3,
           1,
           0,
           3,
           4,
           4,
           0,
           0,
           4,
           4,
           4,
           2,
           2,
           0,
           4,
           0,
           4,
           4,
           4,
           4,
           2,
           4,
           4,
           4,
           2,
           0,
           4,
           2,
           2,
           0,
           2,
           1,
           1,
           1,
           0,
           4,
           3,
           3,
           4,
           4,
           4,
           1,
           2,
           2,
           4,
           4,
           2,
           0,
           3,
           3,
           4,
           4,
           4,
           0,
           2,
           2,
           0,
           0,
           4,
           0,
           2,
           0,
           3,
           4,
           3,
           2,
           2,
           3,
           4,
           4,
           4,
           4,
           0,
           1,
           2,
           4,
           1,
           0,
           0,
           4,
           4,
           2,
           0,
           2,
           3,
           3,
           3,
           1,
           3,
           3,
           0,
           3,
           3,
           3,
           1,
           3,
           3,
           4,
           3,
           3,
           3,
           3,
           3,
           1,
           3,
           3,
           1,
           4,
           4,
           4,
           4,
           4,
           2,
           2,
           3,
           2,
           1,
           3,
           4,
           3,
           2,
           2,
           4,
           3,
           1,
           3,
           4,
           3,
           1,
           4,
           1,
           2,
           2,
           2,
           0,
           4,
           4,
           4,
           4,
           3,
           4,
           0,
           4,
           0,
           3,
           1,
           1,
           1,
           0,
           0,
           2,
           0,
           0,
           4,
           0,
           0,
           1,
           0,
           0,
           2,
           4,
           2,
           0,
           3,
           2,
           4,
           3,
           1,
           3,
           1,
           1,
           3,
           0,
           4,
           4,
           4,
           2,
           2,
           4,
           0,
           4,
           4,
           3,
           4
          ],
          "coloraxis": "coloraxis",
          "symbol": "circle"
         },
         "mode": "markers",
         "name": "",
         "showlegend": false,
         "type": "scattergl",
         "x": [
          5.910268108221788,
          2.7870931528085903,
          -0.757537538374463,
          1.0205214866168173,
          0.7539105142791439,
          1.7971062652419414,
          -0.4620496054489366,
          -1.3116722595637258,
          0.5984179553898578,
          0.5982012013950407,
          -1.1656525385277166,
          -0.07118124655696034,
          -2.1717115858284037,
          3.673296663029773,
          0.8327855889826055,
          0.0014059392111353197,
          -0.9273057420077749,
          0.6796203745139371,
          -1.48780053717772,
          -0.25016976307256644,
          0.9541894103960777,
          0.8894938464845368,
          -0.9349244756981554,
          2.435242216702914,
          -0.5794096848078709,
          -1.6872704870086679,
          -1.0665290759030297,
          3.743308758581935,
          -2.1543016574456946,
          -1.0808503055522518,
          -0.9549632645218928,
          -3.2358726515928025,
          -1.711975534173556,
          -0.43365637370201976,
          -0.6062336832001026,
          -0.9441629326199643,
          -0.21897352791236907,
          -1.5617667209055153,
          -1.3458348880477156,
          -0.6937048482628614,
          -1.619040544664702,
          -1.5333276858350346,
          -1.6988335792571165,
          -1.8093965083506094,
          1.0018621405554726,
          -1.5505557919539061,
          -2.616201799535102,
          -0.7218561265706743,
          -0.9358284356998533,
          -2.3217190043773934,
          -2.1698597717064194,
          -0.11704076484140162,
          -0.17798254163413785,
          -1.3770978627884987,
          -1.2775706484489133,
          -1.6689082229336607,
          -1.4330066722916912,
          -0.8812940272849359,
          -1.9337278510850244,
          -0.9919561769523914,
          -0.8554408012501147,
          -0.45004862859253564,
          -1.0642892702634428,
          3.462606271585075,
          0.6998427652454046,
          1.0246979229312405,
          -0.8535513919608647,
          0.6504792609298503,
          -0.4774877693274708,
          3.6547368585169044,
          -0.568028449381514,
          1.227568557882674,
          6.308184544302045,
          3.3947572178066783,
          4.909954292792233,
          4.521497311111669,
          3.4368402266794464,
          1.7065111212663102,
          -1.9949213104070949,
          2.8835226719022273,
          -0.04924041576369376,
          4.251881907817699,
          1.520533909000313,
          2.7578274763525523,
          3.818868841818888,
          0.522223338512434,
          0.6640664570007124,
          -1.837726538497233,
          4.3073699327256145,
          -0.9793272008623061,
          -1.7532546732907182,
          -2.25517919056147,
          -2.290441566421831,
          -0.2800789416316552,
          0.22291185347269313,
          -1.5101821955287544,
          -0.619284508979636,
          -0.07420986987072382,
          1.672824337430379,
          -1.94335301465705,
          1.0149766128732882,
          2.719557668645425,
          0.9057166961074977,
          -0.21837300691801037,
          -0.26256655656215455,
          0.8449080453819625,
          2.8327794759317686,
          1.4614957709996288,
          -1.5842602988284018,
          -1.8856176787118515,
          -2.3938664259095863,
          -0.008422928392726136,
          -3.078642085622774,
          -1.6438199733026313,
          -2.039372984415572,
          -0.9968674357840722,
          -1.9809887425444175,
          -1.9736099706764751,
          -0.21426030082170844,
          -2.3201588880940074,
          0.6288114935083461,
          5.262718544641115,
          -0.12166536408823858,
          -1.0121054754613967,
          0.035260963005684355,
          3.492610514342792,
          -1.2753710449014188,
          0.3282646881366831,
          -1.6951789119860823,
          3.7286177933129547,
          -0.6107015592017134,
          -1.9032893260849408,
          -1.8874273931826748,
          -1.4787588103471294,
          -1.687927343644115,
          -2.16066594159121,
          4.65808820750692,
          0.6998427652454046,
          -1.8094474553131519,
          0.6443884999442696,
          -2.8182814169138863,
          0.6443884999442696,
          -1.471692683880157,
          1.878175301629755,
          -1.1338434847768162,
          -0.7702516670886771,
          -0.5221138504004779,
          -0.9270989547196357,
          0.5931378934821799,
          -1.384325162668835,
          5.27117778440782,
          -0.9642170705834113,
          3.7543195842804695,
          2.9926527080734306,
          4.167831601809077,
          -0.38962807933174504,
          -1.6424751435576161,
          -1.1675433931298085,
          -1.738152496930647,
          -1.9383384408051347,
          -1.675752945490252,
          -1.187337265148717,
          -0.35419274697547715,
          -1.9748930162104523,
          -1.4332166640427941,
          -1.8599621279939231,
          -1.6285081252103335,
          -1.261627542204429,
          -1.2397362810749404,
          0.18868288124372623,
          -1.2018029791688307,
          0.07754390698956976,
          -0.43606997058020947,
          -1.272795338523542,
          -1.0274090397486295,
          -1.8617821657705782,
          -0.8788683358223203,
          -2.6221998744781305,
          -1.6576596345415084,
          4.075563099476094,
          4.894322340584221,
          4.158854712674681,
          0.344155856525268,
          3.252965531703462,
          -2.0146663246069747,
          0.19335161691421834,
          0.5398747178532781,
          4.407656001383201,
          2.3595535652176163,
          -1.0134812826832076,
          -1.4775598253498055,
          1.751655098733295,
          -1.981320440120774,
          -1.5921148477738618,
          -1.8603543986322102,
          -1.6438683942628736,
          4.743511527342341,
          2.1646111991229064,
          1.9271058748133298,
          0.24867553257171252,
          0.2640495888153467,
          -3.1062145776446384,
          1.0069292318079626,
          0.736348799866645,
          0.013770393933031524,
          -0.9862592055897754,
          -0.010758925244005525,
          5.3812499370950615,
          3.031134078256739,
          2.1219579799750283,
          5.3768250548850185,
          -1.871534493819716,
          -0.8257044500186883,
          -1.8050999520940785,
          -1.5965747063171392,
          -1.3903620518490423,
          2.38178498823393,
          0.32671054219402695,
          1.1855448365432089,
          2.2307952333073526,
          0.18273407852012757,
          4.81981338611359,
          -1.8931190472758392,
          1.0877277036361312,
          1.2390028548321228,
          2.394036667746407,
          2.576594196723722,
          3.758125064467638,
          3.603387921723095,
          3.0892966317647033,
          -0.29784148837110097,
          4.1384570456582574,
          2.683964955737932,
          0.9951124914788244,
          -1.6409269228190302,
          -0.10733653159368337,
          -1.724294277415807,
          -2.2972037194660815,
          -2.1511737708624024,
          -1.575918141576343,
          -1.3487051914956139,
          -2.0265484820804587,
          -2.120690474768989,
          -1.930765453597681,
          -0.923406653060199,
          -1.2516471860681753,
          -1.9113516620063316,
          0.7812550919891004,
          -0.523749733866854,
          1.5258122967139631,
          -1.4815229037775146,
          -0.8608015003990189,
          2.0664450888696666,
          -0.39181100273553765,
          -0.8627420859305025,
          -1.724485150394912,
          -2.451976422151484,
          -2.451976422151484,
          4.911094086350669,
          2.1284228776298377,
          -2.0262276800530064,
          -1.7259688400927675,
          -1.761246299588178,
          -0.3294248445373827,
          -0.7167812722224361,
          2.3599126557972543,
          -0.4109516244751084,
          -2.07249906783173,
          0.4941512548817759,
          0.3947367578461066,
          0.5011147455994395,
          -0.1501947731074117,
          2.264366565829927,
          -1.354015453680446,
          -1.470053255445316,
          -0.39148658961175076,
          2.9286868308441947,
          1.5627344941817942,
          -1.8046533953228454,
          4.421919934709,
          1.6666341252458168,
          -0.8630069468661105,
          -1.8240161816083964,
          6.202329832453556,
          2.7007297571142215,
          -1.9219988731601103,
          -3.885335156982539,
          -0.3237352337227935,
          -1.4830437992216379,
          -0.6661581305866606,
          -0.897531302789744,
          -0.27150010958599224,
          -2.026007496411842,
          0.03066854822532307,
          -0.6661581305866606,
          1.6679376175633995,
          -0.9628431990032496,
          0.05229047058608356,
          1.4342428370670828,
          -0.07440927214208672,
          0.31619568972430434,
          -1.6854348307187559,
          -1.3783735498215977,
          -0.5302811239602092,
          -1.9482834157370148,
          0.43768166538024533,
          0.46116511270965177,
          -0.6169217471719322,
          -1.1400256377059375,
          1.253322043592564,
          -1.8065011423621296,
          -2.1058975606514676,
          0.5834156893519935,
          0.615043181334657,
          0.8314068380244778,
          -1.1677498330947196,
          -1.8797451580250855,
          -1.5737313828666788,
          -1.714870972910063,
          -1.218716324042556,
          -0.9081075934919391,
          -2.4076385061986554,
          -2.631247737130893,
          1.5673168136376308,
          1.2606761374764386,
          -1.2731362784415337,
          -1.9933897451720637,
          6.078392568331348,
          6.202329832453556,
          1.8806471974660972,
          0.4855038489729522,
          3.7247868746474677,
          4.9990228510230175,
          -0.6507019188068315,
          2.831754032108112,
          5.157224121091324,
          3.8192902746508066,
          -1.8812815325483487,
          -1.0170415780895823,
          -2.343114277873313,
          -0.06139419459485987,
          1.1244973226335107,
          -1.0170415780895823,
          1.5499874451851459,
          -0.2388043987908868,
          -2.0548948833262495,
          -1.4608536919332893,
          -1.251126848202765,
          -1.4326231369090208,
          -0.8322050040893,
          -1.0170415780895823,
          -1.4771002595731546,
          -2.6286065993341623,
          -0.21035255659038826,
          3.7220411064919325,
          -0.6601937727661525,
          -0.08898081277070319,
          -1.3796424287630304,
          0.8934594009314057,
          -0.602996319878753,
          -0.7120551860400107,
          -0.7769839379468497,
          -0.6805758573158173,
          -0.24279844901403583,
          -1.9562315383510127,
          4.118042026063586,
          5.71374103184416,
          -0.741741162639263,
          4.424095099147775,
          2.327318240629542,
          0.017763471206445808,
          0.3014939930849969,
          0.9650215283895129,
          0.022468392622494924,
          -1.2199650459691425,
          0.34177511590531023,
          -0.5378912868672476,
          0.8644678960471932,
          4.004696577326854,
          4.008320181774838,
          1.382966313126255,
          -2.0574297891427658,
          1.3094774137593317,
          -1.224422354766765,
          3.301387747874773,
          -1.110760418476591,
          0.5360702750732728,
          -0.24744053697254761,
          -1.9441899850782938,
          -2.133057653760354,
          -1.0891187918604017,
          -1.830246975225967,
          -0.1551641644934435,
          -0.99516535398492,
          -1.3596060537015477,
          -0.6110809564064195,
          -2.549815498266094,
          -0.6067753052647094,
          -0.728887274846931,
          -0.642756120234146,
          -0.8384661829154209,
          7.048160534198843,
          3.086299510078867,
          1.649916053914384,
          0.5039626516959592,
          -0.7628234779254308,
          1.9098861430974081,
          -0.7381554703584137,
          -1.210505037533961,
          -1.6165006411449965,
          2.915285284524166,
          0.7875315395435452,
          -1.4713066508652937,
          3.840536654487978,
          0.8180105809922918,
          -1.5363920461225515,
          1.5017010248753808,
          -0.8269573928584226,
          -1.2365537984863504,
          -1.1213910396496645,
          0.3532535757130974,
          4.156988672470464,
          4.181143915852827,
          5.874241617946339,
          0.7726737970500202,
          -1.2384651584229958,
          0.17391144426442545,
          -0.29101915682132545,
          -1.3643289196729813,
          -1.0013576229512064,
          2.814361084932084,
          1.0152267748235702,
          -0.8997096472317107,
          -1.8161225830951808,
          -0.4069198563664327,
          -0.6222506022041558,
          0.9298554236724591,
          -0.031158874814142354,
          -1.8953253854100012,
          -2.0864594737726576,
          -1.0330740365002866,
          -1.6484788353344302,
          -0.07688967377256142,
          -0.9626729037514548,
          -2.0140350530214675,
          -1.3293413005641426,
          2.9602001025583204,
          0.33666129733437317,
          -1.7136150221763624,
          -1.4322797629514952,
          -0.9929724146692319,
          0.3710468481112423,
          2.6387134059669592,
          -0.028077801649979108,
          -1.6676648655046546,
          -0.6079060289417964,
          0.022377474382161006,
          0.964520377690713,
          1.2387761280336043,
          0.32115465675815796,
          0.39931016340159925,
          1.4480493860298358,
          2.2798976418949364,
          -0.22663402010361974,
          0.25316511117440427,
          -0.21480126217785864,
          -2.4628532337473232,
          1.3697801765357998,
          1.7508953452310558,
          1.386329849583343,
          -1.2538737101450217,
          5.1330501699713285,
          3.5265151258837024,
          6.346033202222228,
          -0.6161373499207325,
          -2.374828947252521,
          2.2533078147803636,
          0.8167571253489775,
          3.6537653788133886,
          -1.8047421918261315,
          -1.8627951125034803,
          -0.924215264349161,
          0.7066524688936546,
          4.9425980539758685,
          1.125233612783274,
          4.795289250255228,
          2.4635678490115005,
          -0.0944624723100154,
          4.247306482872687,
          0.24903576136687025,
          -0.110192940174366,
          -1.806031931270691,
          -1.4690797127486257,
          -0.025425946360965502,
          0.3370037422179015,
          -1.027211372597083,
          -1.1806601610443501,
          -0.08462383414740904,
          -1.2131974145350362,
          -1.5289774319052671,
          -1.3378086857797185,
          0.9015460755941939,
          0.3470413035334139,
          -1.8391030814300076,
          -1.2105926310370025,
          -1.384304632240194,
          -1.1745523891881093,
          -0.8900534710795286,
          -1.7792525918076771,
          -1.7629015313750145,
          -0.22626369877920482,
          -1.359674374010854,
          -1.4373298042223668,
          -1.050547639000972,
          -1.232690715418206,
          1.35652834990924,
          -0.3174215584678996,
          -0.807345695428203,
          0.6294753135461088,
          -2.017437359162995,
          -0.11454795107118942,
          -0.5797367236830118,
          -1.8188905101656412,
          -0.21705098951570337,
          4.529430260517019,
          0.33318971537504893,
          0.970879743601467,
          -0.17127054263203995,
          -0.7941852500264386,
          0.15892132499726677,
          -1.1876432241511599,
          -0.6402858806840855,
          0.875083845709646,
          3.6087315817291596,
          5.022988638057471,
          5.805832447701812,
          -2.484585586954589,
          -0.06723872685756775,
          -1.8199456802868201,
          -0.1646375105025463,
          -0.937342606581525,
          3.695987464448697,
          -0.11499063549310158,
          -0.31191194974263714,
          3.6087315817291596,
          2.9628211173285965,
          1.9745255543280618,
          -1.8693347569376908,
          3.9265835294224662,
          0.8514655969973898,
          0.2516548733824595,
          1.5069037952476556,
          0.8765073635953352,
          -0.8493286256975383,
          -2.767042218285058,
          -1.9426782361716541,
          -1.9404583741889678,
          -2.327714153105753,
          -0.4893008855169201,
          -1.2448085534620577,
          -1.4681887969761547,
          -0.4197705078970218,
          -1.1794041820554688,
          -0.7316519448921269,
          -1.993447792494072,
          2.6589574687484157,
          -1.8424902425655332,
          -1.9752037541359388,
          0.4973821345345368,
          2.80301424804593,
          0.8898853897758209,
          -1.699721623048425,
          -1.1189657700263955,
          -2.229727615330854,
          -0.7369155743144545,
          -2.886057972767242,
          -0.04773120798274725,
          -1.2455077589325838,
          1.5812933821637336,
          0.3862402573486119,
          -1.3826420603119791,
          -2.477582977687051,
          1.1497627661579264,
          -1.0859697564578683,
          0.6207099620941172,
          -0.07313623450418817,
          0.0026958861477256266,
          2.170027229768549,
          0.3671862771709787,
          -0.9314426872002093,
          2.3532485455974856,
          -1.0597890934720589,
          -2.2761098556941257,
          -0.7031780913867121,
          -0.2926633824128864,
          1.028040233030184,
          -1.1648221376777212,
          0.4511604577525461,
          -0.5491172599185661,
          -0.6751459147216339,
          0.2997968815429115,
          2.6834129126268174,
          0.5984074638508655,
          -0.5498879058004923,
          1.5305789710549689,
          1.6719273733102407,
          2.3650341880945867,
          0.5073760258805263,
          -1.3539098259275264,
          0.5151319213344544,
          1.0608289232294805,
          0.572978967219286,
          -0.715240749555007,
          -0.04317819295220915,
          1.6217258746453862,
          0.3675158568404507,
          -0.7640261804664313,
          -0.5419837729171585,
          1.015600427668298,
          -1.0104901039718701,
          0.3474543065382516,
          -0.2807461940428682,
          3.1877031348523155,
          -0.5452603790317762,
          -1.6326205624300458,
          -1.181568236061591,
          0.48316178858881303,
          -0.4662482753257238,
          -0.6461748391001934,
          4.2454755717742465,
          -0.17032794041760174,
          3.479867491808315,
          3.840975880940373,
          4.963938781947002,
          4.408080150824802,
          4.1394962969338644,
          4.0312853081022775,
          3.936321424219398,
          4.187078489713529,
          4.9178081636010225,
          4.9595316070320346,
          5.491363812178903,
          1.532462469055251,
          3.786004970194431,
          4.224405197605614,
          3.813445724703182,
          4.269047290947431,
          5.355886276386326,
          5.634525317250319,
          5.131366024213475,
          1.5778734844665663,
          3.628399804806301,
          3.3748679584004293,
          3.1366409364731793,
          1.5464616640991649,
          1.7734555001668184,
          -0.5736981384083429,
          -1.3474769379185085,
          -1.409567696943022,
          -1.7902349574504641,
          -0.9599392716314974,
          -2.3378502090707287,
          -1.9219232563386306,
          -1.4554683365959467,
          -1.9072262876723372,
          -0.6716795002770616,
          -2.0046562231551004,
          0.32515666255138204,
          -1.1523860720717638,
          -1.4557044571067257,
          0.18059071362684356,
          -1.907935059514841,
          3.5236590611379057,
          -2.049118693479207,
          3.6180834062291507,
          -1.7374845146577127,
          -1.4392948516572368,
          -1.5714083380161556,
          6.308184544302045,
          5.008294840003464,
          5.403265664257092,
          -1.4853710029965546,
          0.3311437672951791,
          -0.46419951317278096,
          2.793778628069706,
          2.229327145953378,
          1.38933340092157,
          4.269223510110594,
          2.147444725142785,
          0.7629686163768588,
          0.5313880649539635,
          -1.111520740433291,
          -1.8204209333872408,
          -2.1921376455691455,
          -1.6730626775637114,
          -0.562561128693778,
          0.45191804574874134,
          1.9195738575431907,
          -0.8702170708257273,
          1.0741748437686016,
          -0.22718136569597508,
          -0.8526204872249914,
          0.4309833958102221,
          -1.5594414900234,
          -1.788385764949037,
          -1.2843690828034706,
          -0.3289293614603012,
          1.0518143755809626,
          0.5340816012176961,
          -1.1097151949345352,
          -1.9685741228713423,
          1.3526971314440266,
          -1.1080951590932835,
          -1.1080951590932835,
          -0.7862581323449503,
          -2.186656988218458,
          -0.7966028054395367,
          -1.8418411545862134,
          -0.7800250543797564,
          -2.478483820128176,
          0.2597603556403657,
          -1.3550297693817037,
          -1.6177557993272016,
          -1.8260772103567118,
          -2.3046905029491946,
          -1.7235553968485768,
          -1.3761949647926437,
          -1.0218757432852512,
          -1.779137905482803,
          -2.6566225729098742,
          1.029114625510055,
          -3.0946663512600625,
          0.27246992250829677,
          -1.790007185391614,
          -2.479383087771241,
          -1.8871690235505907,
          -2.6430738121785344,
          -0.3573801366614948,
          -2.5671936495562435,
          1.3794835128663623,
          4.5251235539366,
          4.716885186699746,
          2.5950255919710727,
          -1.1366165372990926,
          1.9842254319975163,
          -2.428139142503913,
          -1.3561754011404552,
          -1.650755700271235,
          -0.9916773688297724,
          -1.4614838432330997,
          -2.109726124754253,
          -0.5491172599185661,
          -1.9852742550337796,
          4.386572613899495,
          -1.1101722919442214,
          3.3776002947938033,
          -2.4344247833985966,
          3.593493867103376,
          -0.49643132082921504,
          -2.442010816809562,
          1.039396772835217,
          0.024172636350278914,
          -2.5360436014647667,
          -1.422496176121462,
          0.024172636350278914,
          -0.261299561526968,
          -0.9108428135470122,
          2.094042485609159,
          -2.564564913707654,
          -1.2386221853149897,
          -0.3084219235875973,
          -1.5155895125722454,
          -2.031298614678038,
          3.863104889734332,
          -0.108382995944078,
          -0.602255264416075,
          0.517750965521335,
          -1.7090697231493606,
          -0.2761452223050114,
          -0.7551372548019932,
          -1.376306476042359,
          -0.5312260392016592,
          0.2371719517248248,
          -0.3026081729421246,
          -0.506528002114748,
          -1.205589551288556,
          -0.8204348260187276,
          0.2660650637100598,
          -0.29884421461537863,
          -0.8728012554034789,
          -1.7175667292646442,
          -1.5155528888804228,
          0.8864093485671782,
          -1.6766468747459693,
          -0.46943459661423503,
          0.8710775895722584,
          -0.8644705676615122,
          -0.7144561741353822,
          -0.4406885569491469,
          -2.7902709009224296,
          2.8904146176546717,
          -1.1507276718314714,
          -0.8031773216690996,
          -1.9473824019540282,
          -2.1629636170947366,
          -1.4723654985500974,
          -2.689312140284418,
          0.9240011933509135,
          -1.7474528809598417,
          -0.14576653368649997,
          -1.898358690244528,
          -2.6693478479357378,
          -0.5221693744493363,
          -1.4548434949416966,
          -1.028309638166624,
          2.362239771180449,
          0.5436395862813687,
          -1.8689304368530824,
          1.1710036212559047,
          0.6999040042938871,
          -1.7044471429551564,
          -0.592054699002689,
          0.4498649728207449,
          -0.32957451480891453,
          -1.6376693914418605,
          -1.4572609901665459,
          2.4660708696178233,
          -1.2095953675949749,
          0.5254555899481589,
          0.07547147484810346,
          -1.584713439364369,
          -2.908061928223543,
          -1.17650844080487,
          -1.9119343526634263,
          0.9356036829290539,
          -0.36086600256967166,
          0.967963586119678,
          4.699816675368838,
          -0.47233140556173125,
          -2.005630532214277,
          1.572747239850043,
          -0.9464089318334711,
          1.468626727622919,
          0.5011147455994395,
          -1.3537495043623877,
          -1.8434120476123388,
          -0.6537657414667515,
          0.890265596289238,
          -2.81625912505893,
          -1.223509588635169,
          -1.5127849605175305,
          -0.9684779368006287,
          1.1487058582651946,
          -1.0984469249325668,
          0.5022377972137836,
          -1.481254399986299,
          -0.5435665341609942,
          -1.290964936608623,
          -2.1628333074786084,
          -0.8354743294354074,
          -0.03314856246124898,
          -2.0149265692493197,
          1.7960332420843481,
          0.7846163460118266,
          0.32114376159708047,
          -2.1901371392226086,
          2.597137364064702,
          -1.6127967117375055,
          3.0260530289477514,
          -2.0657056457669616,
          -1.5210993374175863,
          -0.925865517834651,
          -2.0743795323201737,
          0.7511849781136258,
          -1.7164833605229053,
          1.3199455730608454,
          -0.29967490885489667,
          -1.060159278317096,
          -1.5793861632167496,
          -1.692465651475792,
          -3.1331777327955384,
          -0.03724623286296927,
          -0.08421121464130292,
          -0.746774671995807,
          -0.16470824566879305,
          1.40224822017411,
          0.46779897642367185,
          -1.3373216840889655,
          0.08110278845448331,
          -1.3779265458413694,
          5.031107844903641,
          -1.898392214778935,
          0.5995552083481084,
          3.525204639447453,
          2.268319149636233,
          0.9096299592015552,
          -1.0264189143478994,
          -1.0690904627080773,
          0.6556631320797349,
          -2.023769019412258,
          2.195920999905058,
          -1.9202674340983565,
          0.6521268829335785,
          5.262718544641115,
          -0.6974112188432161,
          0.7820338260369208,
          -0.20904323278860723,
          0.6998427652454046,
          -2.0224335239758697,
          0.471207163995282,
          -1.2604802866831248,
          1.8271454550885486,
          6.083318328609311,
          -0.8508696332442816,
          -2.0825048372647594,
          -2.2243366255023735,
          1.401429885067647,
          -2.72282952995868,
          -1.6085417664418038,
          1.601305439049671,
          3.3170485154906753,
          -0.8936287712528007,
          -1.0459539727090394,
          -0.7263218841933015,
          -2.9436481698922803,
          0.06221403756445279,
          -1.166386556396757,
          -0.51324835628549,
          0.6525178740460755,
          2.2136234284814917,
          4.157689233042858,
          3.995264448657276,
          3.74414413434359,
          3.3340361292652165,
          -0.6706922862361582,
          3.7210836024692724,
          -0.7220199150774415,
          -1.5037488884709553,
          -1.8208063443174307,
          -1.3092499530556856,
          -0.5828274996029227,
          1.876743018100115,
          -2.3135721971896452,
          0.7099128201293103,
          -0.7812682277707926,
          3.394927981868263,
          0.9032880273730497,
          -1.5365804542172712,
          -1.6283452043117546,
          -1.7022684814942102,
          -2.4352854352283106,
          2.01865428261675,
          -0.31661555156393695,
          -0.8941954290264572,
          1.1047609784727366,
          -0.1961274070336843,
          -1.328020041906507,
          -1.8704463127127666,
          -0.7325588346573665,
          -2.4322104556325077,
          -1.0631051517428247,
          -0.9018458559798243,
          -0.5690495861384953,
          -1.7303866732825899,
          -2.1007718092553653,
          0.12062405251041354,
          -1.5280973319537656,
          -1.9108022973619925,
          -0.21031089609908937,
          -1.794354812733885,
          -1.5361213058279386,
          -2.2160001367279674,
          -1.495598569529974,
          -2.550058975169804,
          -1.0982262167206467,
          -1.2393277340386912,
          -0.8577092210584624,
          3.6603956645131963,
          -2.660151441663606,
          4.225043041397308,
          0.4150807814857093,
          1.1880597387996024,
          2.7531891075881902,
          -0.2904984597290932,
          0.5136929486351985,
          1.8792188806685453,
          -1.6657745499794445,
          4.166293634806009,
          -0.5221693744493363,
          1.0434337104662206,
          -1.8730996534974451,
          0.8500285353730014,
          -0.33185038438281483,
          0.27442997513218675,
          3.48127624045413,
          2.331775500646687,
          -0.07084590733890545,
          -1.2092837434063106,
          -1.3631427295039158,
          -2.450222781385808,
          -2.088476993478859,
          -1.8057549808143698,
          -3.399583731082441,
          -1.699822589137528,
          1.5209018222443893,
          0.7646308800896883,
          4.478609512834524,
          2.466113319803971,
          -2.235490459928443,
          -0.8246614851720218,
          3.43245064507633,
          -0.48823623226826873,
          -2.0813223551309634,
          0.14989400405551628,
          1.8973889528910963,
          -0.13683775308019536,
          0.4502592342354181,
          2.0957686662777864,
          0.9153914685653932,
          0.5857264273779649,
          2.23335953330614,
          -3.0450765877715464,
          -2.3291508714311795,
          0.4543220270451263,
          -1.630120735089729,
          -1.4143229884606363,
          0.24435456870028124,
          3.2107996485644117,
          -0.9304532954544291,
          5.150035753984847,
          5.004281707388852,
          -1.314867575910187,
          -0.7597385878813335,
          -1.662837548741968,
          -1.8902303297831158,
          -1.5328467352522712,
          -1.2536233695640107,
          -1.2302352255235955,
          0.10461162581345652,
          0.5222047642496481,
          4.43104540192231,
          -1.1896884868417053,
          0.3826515107286228,
          -0.7773625634585407,
          -1.4952959189875161,
          1.6675267223983972,
          1.4852428780681357,
          4.356729544123442,
          -0.910859253333185,
          0.18164272293418385,
          -1.8732582454237787,
          -1.6946786996734684,
          0.4358314317588789,
          0.4879910198583258,
          2.765858150220446,
          1.9540876681797326,
          -0.17613599599091584,
          0.4227931229385335,
          -1.611735936982194,
          -1.0419915528465542,
          -0.12021237473150524,
          -0.11140233801850451,
          -0.3443427862674366,
          0.6672750904822253,
          -1.2131974145350362,
          2.513690310109367,
          1.1845545043666221,
          -1.7553890311473122,
          -0.6992418306210494,
          -1.0580195579562364,
          2.3119403786115758,
          -0.13688948178293087,
          -0.8741749815567246,
          -0.9304422088236256,
          -0.9840382097343707,
          -1.3564305630785602,
          3.3966287287929475,
          -1.768816066207472,
          0.25324946539756915,
          -0.5625432966733255,
          0.13894980838009144,
          2.9951823246963136,
          2.3219296947796297,
          -1.4964895263633475,
          3.2743693149316226,
          5.335536638163787,
          1.1970948667173527,
          -0.9325106706495256,
          -1.034809835802785,
          -2.0251481991515754,
          1.0657747825801023,
          -0.38574105649317086,
          -0.625379990779484,
          1.5479900682861594,
          -0.9325106706495256,
          1.1810200528402173,
          3.6809276424008903,
          3.757014733272658,
          0.012415187357944337,
          -3.030569719031828,
          -0.9098410453161864,
          -1.5191912139342887,
          -0.9195814288618503,
          3.8284561838288966,
          -1.1117133103932169,
          2.2673373620579844,
          -1.5150721309734037,
          -1.3925033257613109,
          -1.2995846666732846,
          -0.1226615150275398,
          -1.8668753039071233,
          -1.5018729408205718,
          -0.5700160017381585,
          3.0398822705104647,
          -1.8005405433301167,
          -3.663231559968171,
          -1.467945509235146,
          -1.0800614696303619,
          0.8055109936842518,
          -2.820267239135904,
          -3.4529710337762105,
          -1.111063517255606,
          -2.7918970904646647,
          -0.6542529218710778,
          -1.2316328350265482,
          -1.3092383176769788,
          -0.4469941032014111,
          -2.114793859435531,
          -0.8486770478305634,
          -0.9409778444685297,
          -1.8320832439959558,
          -1.4789288509342509,
          -0.2603117476767205,
          0.7062856706652328,
          -0.9472312383775647,
          -1.8280677033103923,
          2.8968869857554775,
          4.209593201660836,
          -2.7548708199059355,
          -1.5459459240384146,
          -1.8925052109960365,
          -1.7067784255245109,
          -1.6774539508660657,
          -0.45635185837174275,
          -1.3346043453735328,
          -0.32162950035437043,
          -1.5006475935961943,
          -1.459593817023981,
          -0.824334154486018,
          -0.6580875903276754,
          0.2864270143471931,
          -1.2796134458978494,
          -0.3704970587555023,
          -1.2343513887207496,
          3.99630054714588,
          3.339577915855538,
          5.384016484346954,
          0.2183770680618595,
          -2.306768848291025,
          -0.5021981388206962,
          -1.0068978534182302,
          -2.1476944439402623,
          -2.3968637435576947,
          2.7096069646934557,
          1.7560435745437608,
          -0.9443973872998499,
          -1.1396430988151274,
          3.5578638142965193,
          3.8535198201214182,
          -0.8855858941782226,
          -0.9829651653205775,
          -2.3201254212705904,
          -1.2569492976215,
          -1.7231498462043982,
          5.961074281238082,
          -0.9304306817837598,
          3.7923096640832368,
          2.533893924578386,
          2.4003469329064773,
          -1.787837225777694,
          -0.23352895324163891,
          -1.8863702813551437,
          -3.0007847223145743,
          -2.0888534256576925,
          1.0430639994862447,
          1.4753691607777784,
          -0.7167812722224361,
          -1.824163976086663,
          -1.0939818264875403,
          -1.4173759806756034,
          -0.9227672156589176,
          -1.1044280464120824,
          0.06735268474735709,
          -0.7895365930463462,
          -0.0707214945679898,
          -1.8517630213186203,
          -1.8601271467736311,
          -0.08828355973957974,
          -0.25544103116343253,
          1.879380733984322,
          0.9116853878805075,
          0.10012379315178212,
          -0.60394397797254,
          -2.9298175854967052,
          0.19839714092277755,
          -0.4491867303360408,
          -0.7937960986538579,
          -0.6206510300666301,
          -1.4459240490095,
          -2.336906125358007,
          -1.4633820680402185,
          -1.2208847510985557,
          -1.129654620745944,
          -0.17787330371714807,
          -0.6960752028433911,
          -1.3678339527436503,
          -2.344688244689032,
          -1.5994355501742887,
          -0.6953135901672184,
          1.6229388520328991,
          2.7823998445336766,
          2.2858744287363884,
          2.155550798796949,
          -0.26478294441047323,
          2.827606248898019,
          0.6100656850450635,
          1.3174805042783158,
          2.746800775169636,
          -2.252375407578722,
          0.7036343124900757,
          -0.0011837602491470436,
          -1.4829619080699747,
          -1.1075232058518312,
          -0.6971997960267928,
          -1.9568620208735612,
          -1.105497027809525,
          -1.3264831935701495,
          -1.7849025600389345,
          -1.2811371791205037,
          -2.886057972767242,
          -1.241834856815291,
          -0.15427203546753326,
          0.5668302283795718,
          3.163873829531571,
          5.047031224564761,
          1.2487075452916387,
          0.6273736799906443,
          0.07539853780510648,
          4.046423353988646,
          -2.0948414895359466,
          1.7704705061504322,
          1.3428053485486462,
          -0.6281159028604067,
          2.7007571007880027,
          -2.8964595824616732,
          -0.4890714865795565,
          -2.415360371635473,
          3.350597068739797,
          0.11785838188577147,
          -2.081831504077908,
          3.383381376861086,
          -2.0288683703444157,
          -1.9296895864420238,
          1.962435287510814,
          -0.11473781767402498,
          -0.8976185323361083,
          -0.6162589382614423,
          -1.339850634422029,
          -1.8605094581925594,
          -1.1256165151572657,
          -1.3471905127214168,
          -1.6634667301389159,
          -1.7937172212243646,
          1.7116070792188445,
          0.6875307868210216,
          2.3599126557972543,
          3.407745586370998,
          3.420163417355514,
          3.1704080433561854,
          4.189709436743139,
          0.8861883023723556,
          -1.2041336806401501,
          -2.433266038421999,
          4.396257729264008,
          -0.9943458450544883,
          -1.6640786009656177,
          -0.653012073299251,
          -0.7024160963306589,
          -1.6162721975405987,
          2.7000671233999936,
          3.1332303142138067,
          2.623033645020914,
          -1.7234064226917916,
          -2.8800245580393926,
          -1.8011679111545578,
          -1.6369871043498485,
          -1.8914809660644951,
          4.618935780161161,
          4.050843042184683,
          4.352663051268988,
          5.122067061563875,
          3.906816410033583,
          3.986678980914989,
          2.7852234093895096,
          0.9999800069643632,
          0.6799719491218104,
          0.0142983069414842,
          -3.1561527611479923,
          0.022755347441270623,
          0.022755347441270623,
          0.16215521835046787,
          1.8848249364406586,
          -1.6357883699260118,
          -1.440536809239622,
          1.9595862552593737,
          -1.9643963626404661,
          -1.5973738646502866,
          -2.0894463149704245,
          -1.8026658189060807,
          -1.2917710621025633,
          1.612295797796427,
          -1.0597890934720589,
          4.601631831528843,
          4.450568176559052,
          5.2101965796604075,
          5.777399769903291,
          0.20076562572775636,
          2.1326120989580457,
          1.745996809434329,
          1.745996809434329,
          0.20076562572775636,
          0.34546684392774024,
          -1.5154226810918983,
          -1.692237859724102,
          4.310681878249161,
          0.46926894723910595,
          2.3242082313809864,
          0.9381121233998025,
          1.1841252442734747,
          -0.374306697656463,
          1.0133098935057985,
          1.010308534059007,
          0.787531520311337,
          -0.5858043284252913,
          -2.6432273139517313,
          0.7454678649645967,
          1.043743896138431,
          4.839564142521275,
          2.2896581436048007,
          -1.3025333410462434,
          -1.3212499387413401,
          4.033258007856048,
          -0.9054653279761945,
          1.4077154542863615,
          1.819776761863795,
          -2.026680141298868,
          0.40697399193667627,
          -0.1789885307304618,
          0.4847618118735979,
          0.263737807866011,
          1.9490472897705722,
          -1.2617841821502729,
          0.1492151480055362,
          -0.2175504008646527,
          -0.7624724066787738,
          -0.9387029953969064,
          0.2794997792688247,
          -0.7588630483770616,
          -2.152795985798637,
          -1.5357814618078702,
          0.8290154285889065,
          -0.9817137056298624,
          0.0007320463538190669,
          -1.0590701782309826,
          -0.7529011708788538,
          -2.5175145217551664,
          -2.319940517122193,
          -0.2347149166477557,
          -0.22120729624415497,
          -0.6810305719934205,
          -1.3423911334200633,
          0.9329099433229769,
          -0.3313859860091322,
          -1.3663419235685064,
          -1.019277523966164,
          -0.5491172599185661,
          0.05306629499184324,
          -1.2567107324055802,
          5.259661506974292,
          -0.2965634305110344,
          -0.20192591787069977,
          -2.0246023398504884,
          -1.444368659354202,
          -0.9751839182365108,
          0.054527146408119356,
          1.4523524534217265,
          0.8192739231873565,
          0.07698261684037506,
          -2.424113347680563,
          -1.0499396836036374,
          1.3593481661758198,
          -0.84370182480357,
          -0.40543864743120656,
          0.6101227140817003,
          0.12017397103911638,
          -1.0084097097668363,
          1.222997472045641,
          -1.1031682937994678,
          -1.4083418571679753,
          2.5756303060219787,
          -0.158648345454835,
          2.915458923587589,
          0.01496819292811022,
          1.4088806725999017,
          0.8082967149746677,
          0.44649458027625727,
          -1.2795600059785792,
          2.827260081154489,
          -0.4277133637976015,
          -0.8837451046928393,
          -0.23093094143364432,
          -0.5371447045574779,
          1.3880784370526709,
          -1.0597890934720589,
          0.8795324448096498,
          1.476414729824297,
          2.7650016272370346,
          5.637075618753222,
          3.50023576401891,
          -1.510418400212594,
          -1.233484359154512,
          -0.7529405029218753,
          0.08511187324309233,
          0.32051098514515236,
          -0.9120762581936739,
          -0.2785807002941406,
          3.0884336247674833,
          4.143247777999697,
          2.399716316397863,
          3.176957929846901,
          -0.6044283440694082,
          5.574219688203976,
          5.333727896640728,
          -0.17032794041760174,
          -1.4427210612478671,
          -1.339987937021491,
          -1.339987937021491,
          -1.0802458985701935,
          3.9166593931872034,
          1.1333539879918562,
          3.131924063360546,
          -1.339987937021491,
          3.135171724665466,
          0.05296106361416581,
          3.824228685300258,
          3.313960361031421,
          0.6376433975357717,
          -1.3678276494516501,
          1.4795949689527148,
          0.5075398114106455,
          4.025163763893031,
          3.397634175449699,
          3.3025291157013474,
          2.831128822474108,
          0.4298703987209246,
          2.652603820099902,
          1.9894395187425362,
          -2.4451348377062505,
          -1.9828992824413239,
          -2.908813880378372,
          4.910713009747099,
          -0.6498036654322973,
          -1.5303444494938006,
          -2.7153897454154525,
          -2.0687544157967666,
          -2.254254299700385,
          -2.010052679611555,
          -2.109909957315345,
          -2.2236326075156025,
          -2.313210306482979,
          -0.9502346814249342,
          -2.1364027095393268,
          -1.0065335489460217,
          -0.5635117535932608,
          -0.5452437114590934,
          -2.2698090988609727,
          -1.2016336137926897,
          -1.3117714960738565,
          0.11607867116484773,
          -1.1573319711835892,
          2.844261208468639,
          4.816971047050104,
          5.388502137886453,
          4.902234021478254,
          0.1780400797411057,
          3.1296296239009394,
          -2.6715653444756353,
          -1.4732881003033549,
          1.210945654717013,
          -0.6283268472049908,
          -1.8232159852586605,
          -2.7616267192664976,
          -0.8038412941572969,
          3.1296296239009394,
          1.277535589956936,
          -3.499987153766303,
          1.3589483043899584,
          1.73855544628032,
          -0.22573449118776995,
          -2.274067346388717,
          -2.722292027168742,
          -0.5665714728194748,
          -0.7245547433332973,
          -1.899241989411069,
          -2.8397395979008904,
          -2.077917337088171,
          -0.8771721526876298,
          -0.40668386778986826,
          -2.4626824440774846,
          -0.9502346814249342,
          -0.8848052512508232,
          -1.4759715630515948,
          1.0340563390737683,
          3.9266530882283894,
          1.3504189491626388,
          0.4022811443833134,
          -0.7883433217568934,
          2.027965414020066,
          2.04021795468753,
          0.897991007385603,
          -1.3703622819832755,
          2.1959478767859353,
          -0.3257151107438927,
          2.166790516006025,
          -0.10849963879625116,
          0.5555801926793552,
          2.6855272350918447,
          2.062971850274053,
          1.9327789730120875,
          0.5823874663723921,
          1.4280076694700532,
          2.227950207798835,
          2.014111723724463,
          -1.7548260472472836,
          3.1452711577365053,
          1.885187831139477,
          0.5461741363291334,
          2.3563966282033215,
          0.8590333940405688,
          1.5750036225782407,
          -1.42540791760475,
          0.13229505704734904,
          1.6585341861753577,
          2.6330801007313855,
          1.2919858967101825,
          1.5307731412375463,
          1.80301128466571,
          0.06706942676046118,
          1.8045403505981716,
          1.3745874347744327,
          -0.08395614302769364,
          4.049749172711463,
          -2.127550029030416,
          0.5273523375187052,
          -3.091473789327693,
          -0.9291176379098586,
          -0.4015548957102341,
          1.1987811941730078,
          -1.44894869898029,
          0.4216419583783473,
          -1.034809835802785,
          -0.633742057212648,
          -2.1834965098510475,
          -2.1758672952105034,
          -2.824356856047122,
          -1.5657851439064705,
          2.488852486987385,
          1.7069952938522654,
          -1.769952541362464,
          2.094428753589456,
          -2.538940561074889,
          1.7757562576013037,
          -1.3673813815784819,
          -2.3217190043773934,
          -0.07145510003716092,
          -0.12953515656082093,
          0.017056520577367562,
          -1.6918615662065608,
          0.2478889863404204,
          -3.37194900569206,
          1.8109439725347163,
          -2.956316710280408,
          -0.9326576513945368,
          1.545356372190426,
          2.0175676302543026,
          -0.9777384825203539,
          -1.808804585148048,
          -0.19764938933701331,
          -1.7360045350795763,
          3.6842201989297214,
          -0.6847094485509619,
          -0.2603117476767205,
          1.5422988888047682,
          0.593002664612165,
          -1.7912959670136792,
          3.1180214989226354,
          3.358014491875238,
          3.509930965088285,
          -0.1946192401616184,
          2.480527963790228,
          4.517776810914008,
          6.091867137337177,
          -1.3864258127587998,
          -1.65908942919348,
          -0.8451615089399577,
          -1.0417192548785006,
          -2.2126328441140077,
          3.904762418566285,
          2.3576582971520184,
          0.03992601661587449,
          -1.1004953247578724,
          -1.3293394373721157,
          2.4179234417138886,
          -1.8494158071698883,
          0.6194589894389169,
          0.7007141496868067,
          -0.22131099576619406,
          4.069805840259912,
          -1.6915198589429599,
          -1.648032670134251,
          -1.62667572624095,
          5.070598490109719,
          -1.201206943076524,
          -0.20161483159628876,
          2.212377949900129,
          -2.464924839700889,
          -1.9249814682117177,
          -2.408016409672176,
          -0.39816065469448914,
          -1.1481127843950487,
          -1.237330464390968,
          -1.4628181365509458,
          -2.6429915346372566,
          1.953301703300398,
          -2.119572558061232,
          -1.0140421857817674,
          -1.8430894155768578,
          -0.17434341580478374,
          -1.8079063743752273,
          -1.077009866773888,
          -1.490548176924028,
          -1.298078489717667,
          2.3650341880945867,
          2.805690268078531,
          0.4847235106188627,
          0.8549288236322995,
          -1.5013922149508805,
          -1.3673565615888006,
          -1.5786623309290855,
          1.9460913874910197,
          0.031744030736048034,
          3.5189870964878103,
          -0.12194207361813128,
          -0.8643826427197135,
          -0.3431640158084619,
          0.14879956982851644,
          -0.702134515576948,
          2.526890730193049,
          -1.5907428957012457,
          -0.04081922184563224,
          0.7899298288307445,
          -0.910859253333185,
          0.534549296006677,
          1.7118640514247767,
          0.32913723878694856,
          1.193120225310696,
          1.0958689907088608,
          1.254568198711424,
          -1.6454912421714345,
          0.0699830332316058,
          -0.656270884930838,
          -0.8025844842561635,
          1.028867063262268,
          1.5503148149597898,
          0.7522544149888787,
          -1.3594752795046874,
          3.0180003913879476,
          1.0712957412947135,
          3.22172873729846,
          -0.09309152149855195,
          -1.2985779973467595,
          3.218628062553706,
          2.1326120989580457,
          -2.3446730016825588,
          0.40529331240226674,
          -0.5726023021440042,
          -0.8831651240421452,
          0.28649928790183943,
          -1.1602891468274372,
          0.7158496154657077,
          3.510753435620002,
          -0.20646597214665813,
          0.13893639159218676,
          -1.805818815917158,
          -1.7690512660095585,
          0.8116576480875332,
          0.3375246919062736,
          -0.010394775910613295,
          -0.894457378503668,
          0.21387473617623215,
          0.2310045243481407,
          2.0308782271879835,
          -2.299520470423304,
          2.4641111195466694,
          2.1192178617213586,
          0.03900046465196578,
          -0.6538759240822305,
          -2.5086272188807195,
          0.8123565472634441,
          -1.5787530557618967,
          0.2146572600940381,
          -1.8370165087569919,
          0.9229565319598529,
          5.656350818133167,
          1.2758796109944481,
          -0.5087977010750443,
          4.278428722085263,
          0.6992100078765245,
          -2.3841364242986853,
          -1.7777308426945029,
          -1.7803898860126588,
          -0.41675396826810734,
          -1.1894418289754796,
          -1.3168814365839554,
          -1.3415980593024475,
          -1.9057076077566915,
          -0.9399967293329505,
          -1.6808685152004805,
          -1.190406555553501,
          -1.4119055620195096,
          -1.9190223555873647,
          -1.6818203902001196,
          -1.435902700417146,
          -2.011230902479244,
          0.09121406890156504,
          0.5055869622129683,
          -2.399124947771616,
          -1.48780053717772,
          0.09012877718788333,
          0.31014652749821603,
          -1.4468211063157408,
          -1.8879364766330242,
          -0.4308099759040462,
          1.9127398992549023,
          -0.9340739420096706,
          -0.09245424702743198,
          -1.0170415780895823,
          -1.4337106390703676,
          -1.1513085587600578,
          -0.3505327260134417,
          4.891728612485048,
          -2.2620354657009685,
          -1.1646239535239478,
          -1.419487651844678,
          -2.178982674772515,
          -1.7048467653411068,
          0.08723516303489887,
          -1.5513713971895933,
          -1.1305919329747003,
          -2.008601460302473,
          -1.9719849087291321,
          -0.7603552441700427,
          -1.7081845936205515,
          -1.452644788376457,
          1.0936536290838417,
          4.707297316935374,
          4.06641655166185,
          0.8449080453819625,
          2.0175676302543026,
          -0.5221029502555902,
          -1.0819030183511797,
          0.9363603495410897,
          -1.6901930633720714,
          -0.06734437755377291,
          3.1284096100847636,
          -0.013372924890362275,
          0.9315488370480676,
          -1.107898841368992,
          0.9836845171357765,
          -0.621638416730798,
          4.176384153224834,
          -0.817465064791611,
          -0.9844049327521119,
          -1.9340208521383095,
          -0.915058630658364,
          -1.9024375077661235,
          -1.5991191899978694,
          -0.39791226734428126,
          3.189010773438728,
          -1.3604505665769036,
          -0.7141034047337278,
          -1.591493898603846,
          -0.2698179011474354,
          -0.32057160195909273,
          -0.9748467556979405,
          -0.6346112423952769,
          -1.485246786990907,
          -0.6488361413093131,
          -0.6875208972982043,
          -0.5235210522524474,
          -1.299764417933026,
          -0.3937474251797383,
          3.492407798994574,
          2.576357723271178,
          -1.2550502056471333,
          3.8527580670263832,
          -1.3963654042352847,
          -1.597041994849096,
          -1.6886328758157625,
          -1.3774550293604106,
          -1.369072952462098,
          -2.0826181995813413,
          -1.195401827657027,
          3.402751152566495,
          -1.9587229941745259,
          -2.6463148412916944,
          2.3353127950974364,
          -2.345824751081746,
          1.3957426239486552,
          0.30917657842898105,
          0.30917657842898105,
          0.04825874689567921,
          -1.0823520722647504,
          3.049088181041764,
          -2.097576909584195,
          0.25316511117440427,
          -0.15427203546753326,
          -0.41240181977992413,
          2.894885667642769,
          0.9925700176837314,
          -0.10380387445274385,
          1.8938195243268838,
          0.9398182903443862,
          -2.2190070001920597,
          -0.40289995088326447,
          0.485559841946421,
          -1.6946786996734684,
          4.453263833371462,
          -1.7698042251005004,
          -1.2917710621025633,
          -1.8456441547473574,
          0.09262464006245348,
          -1.8537718049763479,
          -0.3241240622174609,
          5.699030304877431,
          2.38178498823393,
          -1.5609102360473242,
          -0.2799174074815623,
          -0.5542550572699004,
          -0.6637454999146543,
          -0.3292698306096509,
          0.6663435469489174,
          -0.8145720543150349,
          0.6939265197491405,
          1.4162075885952454,
          0.577818647755368,
          -1.2584741789017155,
          -0.1877236587907226,
          -0.8836013757068081,
          -1.6875506785986958,
          1.5211340327985545,
          0.2195908194829518,
          0.2885020536256117,
          -1.492621767180283,
          -0.21175692447558078,
          -0.17581020496163158,
          -0.8875625801717651,
          -1.2556219866206992,
          -1.2269361604283715,
          4.618935780161161,
          1.3552239026426234,
          1.9336164093535613,
          0.3436840728473289,
          -0.5690376399407612,
          -1.8919920103002277,
          -0.5841890549176632,
          0.3327699618999972,
          -1.9175550818936062,
          -1.2392356281844936,
          -0.09546520325791742,
          0.5577786585832504,
          3.0028015739045237,
          -0.5753522125886522,
          4.161022525837937,
          -1.998877005770337,
          3.7468909865289755,
          2.224478260333412,
          -2.0601769600585027,
          -0.7651747940113186,
          -0.8818233752987578,
          2.2008285870324484,
          -0.5335105742105523,
          -0.5913765417068699,
          -0.8686121365386247,
          3.12692919116963,
          1.572747239850043,
          1.8241788630931581,
          0.9487631695800594,
          -0.7979632686424236,
          -1.5274385093734053,
          -0.04031006817489272,
          -1.4688940844932514,
          -1.5189484652220933,
          -0.33363903038412435,
          -0.2874184653253746,
          1.9173914860919659,
          4.2177932577548924,
          0.8123565472634441,
          -2.0268228760359763,
          -0.9888603025879975,
          1.350597817544661,
          1.350597817544661,
          -0.22448253695649342,
          -1.5599823753878865,
          -0.9445110188851552,
          -0.9687374941369975,
          -1.9473824019540282,
          3.2626195808960086,
          3.335750201236277,
          -0.0840010454867699,
          -1.8353016618474371,
          -1.014776886033091,
          0.6805879787852326,
          -0.928895240498611,
          -0.9673631567290882,
          4.168363339147138,
          -0.8950461905575409,
          -1.6554978350332161,
          -0.6736705457075541,
          -1.569479403445229,
          -1.6619836307825155,
          -0.1588995810750406,
          0.6637508483382978,
          -0.8307561706234646,
          -2.283315635946638,
          0.8752453390642239,
          -2.427740105884187,
          -1.4224065981480567,
          -1.1037662140332813,
          1.565067109513586,
          -1.08956123713763,
          -1.1687147925779549,
          -0.9946974720841744,
          0.7352426388393164,
          0.05685055929293373,
          -2.3649098795794226,
          4.904751130878136,
          -2.803040390957149,
          -2.2525620808187847,
          -1.895924573075729,
          -2.091751605201151,
          -2.5083171311632486,
          -1.0932669094952778,
          0.230027128348647,
          -1.7664024000158334,
          0.6845546448708273,
          -0.9024606571237699,
          -0.47940453613652867,
          -0.7455458630228253,
          -0.9013326790547932,
          -0.7150579071819968,
          5.521484025398487,
          4.330780758381722,
          1.050751777231068,
          -1.6734809168327207,
          4.2365941773482545,
          -0.2745021491914593,
          4.055818049656477,
          2.135766913281722,
          -0.833002108167392,
          -1.8279298926842606,
          -1.7462095781463174,
          -1.4292748016739323,
          -1.8043356480433586,
          -0.038926072238980695,
          -1.3609492642096974,
          0.44798540695465155,
          -1.688196619742156,
          -2.2605554980822595,
          -1.6032958665289643,
          -0.5719868279724853,
          0.2268062184392535,
          3.0007464182467127,
          5.2620586181406335,
          2.8858699481600536,
          -0.6661581305866606,
          4.647416850813501,
          -2.3259805083008875,
          -0.8749418351069354,
          3.435844753643244,
          -0.1859205699604851,
          -1.3252577961419498,
          -1.6454826504708173,
          -2.2743637727692714,
          -1.1375489854458403,
          -0.3059464908211041,
          -0.26321036146484034,
          0.3682343908784761,
          -0.7749919598416062,
          -0.17119199961990733,
          -0.06981557094042413,
          -1.2072588326020255,
          -0.624102112730827,
          5.419874741023522,
          -1.5972222455784264,
          -0.3638951753809383,
          -0.3445021725092965,
          -1.6165697131635035,
          -1.1021594097961775,
          -1.2273516660222625,
          -2.0452140986874663,
          2.01865428261675,
          0.4298289927167267,
          0.6052682794470806,
          -0.44235378658709607,
          0.02294714194443725,
          0.0015944771473552176,
          -1.8238846076569712,
          2.2317541681982704,
          0.7642748141635737,
          -0.8433282919666314,
          -1.3230875790813423,
          -1.329892934993296,
          -1.2267220894847886,
          -2.1499949310856783,
          -1.2163920877132464,
          3.463484711466786,
          0.4539412166357161,
          -3.061338303198415,
          0.22729614518138522,
          -1.134476832563174,
          -3.061338303198415,
          -0.7072963438992379,
          0.3418433804143053,
          -1.5671182591234896,
          -0.869666690061237,
          -1.5795590761486498,
          -0.8772502462785999,
          3.58250068345712,
          -2.2268342780614714,
          -0.20126115331103792,
          -1.6675215191123858,
          -1.1676869386410897,
          -0.09594405636152814,
          -2.382066424984605,
          -0.128722644225474,
          -1.5822498519629933,
          -1.6387434617760281,
          -2.0251481991515754,
          -0.6993509873932016,
          -1.8764670933076553,
          0.3544325608968106,
          0.5717167306430507,
          3.101964714448182,
          -0.5188294035461433,
          -1.0126741219338138,
          -0.709764104672591,
          -0.7276269751785632,
          3.363462492417516,
          2.9752226817107963,
          -0.8219366599034402,
          2.2089628716223126,
          2.785064005343368,
          0.2981463520357147,
          1.866488474163865,
          4.14041148835379,
          4.133048817017735,
          0.5282838272987507,
          2.6055721017645634,
          -0.26478294441047323,
          -0.17832420764440912,
          -1.9380303715726266,
          2.9039050390292243,
          3.649677021506469,
          -0.012929923744352433,
          0.97038433684467,
          4.840030364876461,
          -2.3821204287662283,
          -1.5441689772345784,
          -1.3888697809804105,
          -1.954261376586501,
          -1.5849819030822285,
          2.446695535789584,
          -1.366648048374638,
          -0.267624531704649,
          0.40230341805213926,
          2.3745705662041576,
          5.0500544960262355,
          -0.9053180429942441,
          -1.2698419846443325,
          0.5398747178532781,
          -0.9479576954954874,
          -3.0324499813922867,
          -1.112151754758309,
          1.054364222254828,
          -2.1748260590504627,
          0.8783391882405468,
          0.8449080453819625,
          -0.28380427510568984,
          -1.8083647450254487,
          -3.2024704591966753,
          3.3215521054488217,
          0.8539122759964449,
          -1.0527079835431894,
          -1.6233526075106712,
          -1.495184271623784,
          1.7519453777759326,
          -0.8298967446281695,
          -2.187333543701749,
          -0.24944080664634707,
          1.1074723601112297,
          -2.085935541408214,
          -2.412511518031864,
          -1.2499990583699128,
          1.2918669581773634,
          -1.4808604861756587,
          -2.0144429700235005,
          -0.5413481296670033,
          -1.653405800238842,
          -1.431791700304573,
          -0.9871359024336283,
          1.1655411567729204,
          3.000235685866883,
          0.1500087255874909,
          -0.5219177664341919,
          3.047428758666204,
          0.8524577565344778,
          -1.8419708771379089,
          -1.4212505387436196,
          -1.599091276096666,
          -0.09245231702928464,
          0.7589239174389419,
          -0.3886175367629262,
          -0.4886912992334438,
          0.18601744652391872,
          -0.5767423202391122,
          -1.0445259856521212,
          -1.410342501775071,
          -0.9467174638564443,
          -1.557090757749283,
          -2.0316565223762755,
          -1.5050207141774012,
          2.033041433841417,
          2.9972411903138934,
          -1.1131903712057154,
          3.4143457476927663,
          5.320867729182729,
          4.0859914355094835,
          2.1274425358348847,
          4.947269754284722,
          0.47261979243050867,
          -2.201686825571933,
          0.43167185305864303,
          -1.1131903712057154,
          -1.6057702396471822,
          0.831219705010409,
          -1.7642479233188502,
          -1.1590732070276333,
          4.081447099437763,
          -1.1266837590924164,
          -1.2919547680535053,
          -1.7723311723076085,
          0.021900563903480254,
          -1.833336844358953,
          -1.7602758888628427,
          -1.8693460615922182,
          -2.0465422770963455,
          -1.056139046860632,
          1.1770516789703724,
          -1.8762990960288104,
          -2.4252240322564083,
          -0.12210277573933533,
          -1.6260066325782982,
          -1.844549491208008,
          -0.30330829710303375,
          -1.2048764587975167,
          -1.8182765975060042,
          -1.442209488752754,
          -1.0947009976647617,
          -1.92364652107109,
          0.06349215750229746,
          -0.796764303237476,
          -1.3089600393569711,
          0.5354649061742397,
          -1.1538421770428802,
          -1.1326586912829235,
          3.1056989824074215,
          -0.565531456456239,
          1.6711847582607384,
          -1.6903592808965595,
          -0.1728241122606239,
          -0.15342344242621794,
          -1.121393573413251,
          -0.35601148920323944,
          4.26439326344587,
          -0.9702087331231126,
          -1.4795207011403095,
          -0.01916393802213979,
          -1.6262673095858842,
          -1.0729349066364695,
          0.6594213427915563,
          4.066995385985658,
          -1.7593947139165327,
          -0.614863177454312,
          -0.5328443733186652,
          2.1951310166489764,
          4.2110733842281505,
          -2.0951936831935885,
          -1.712677312219174,
          -1.3176226052793845,
          -1.2398389440352924,
          -0.636515944312326,
          -1.868071836587031,
          -0.20774898984439705,
          4.6631581902132,
          -0.7172902492876031,
          1.4126375362115107,
          -0.05348159629165053,
          0.12258449104649354,
          -0.6930082747630715,
          -1.6842462616801226,
          -0.9997143462304289,
          -0.9925277416519367,
          -0.4055455246851522,
          -0.7943307030855655,
          -1.4179766882023712,
          -1.5077618691738799,
          -0.11864752625194444,
          0.0651325151432979,
          0.4479061806002182,
          -0.5905352698295581,
          -0.6656940772015795,
          -0.12568353651020645,
          -0.29682397832758034,
          -0.3020850369503285,
          -0.44315387676607854,
          -0.8497568273164448,
          1.5069037952476556,
          0.4803661333128792,
          -0.6970804646138802,
          -0.10347402499997253,
          0.42611844118290954,
          1.7181988956709005,
          -0.14880872420562669,
          -0.8608961760184047,
          -0.21186655948989536,
          -1.2074405624776179,
          -0.2444728652772307,
          -0.11108361445809373,
          0.4331828913071607,
          -0.46666599304565975,
          -1.8413507629642523,
          -1.0214066744382937,
          -0.49758848808651823,
          -0.6844849178178245,
          -1.6697028500088262,
          1.9435278334052604,
          -2.5904012105039667,
          -0.9832888022778709,
          -1.510245045648752,
          -1.5772672834448855,
          -1.3747547479445215,
          -1.2001953198664044,
          -2.550058975169804,
          -1.5609102360473242,
          -1.8902776392732565,
          1.6587543910014169,
          2.7931435870373367,
          3.3936697303588197,
          -0.30781971693868526,
          -0.517008572022993,
          -1.9380674914976443,
          -0.8915763547993774,
          -0.988666826204671,
          -0.5696178874425257,
          0.8795324448096498,
          -1.144733415870366,
          -2.006545406729141,
          2.8205742097621758,
          4.028986191210216,
          1.7372253796499788,
          1.5655853810053748,
          0.07802122878737083,
          -1.8274876886852278,
          -1.9502075389529836,
          -1.7354065296445784,
          -1.8699631356031978,
          -0.5644354650111926,
          -2.006112138560552,
          -1.7634140784138796,
          -1.872300894132351,
          -1.8639932204222447,
          -2.1058975606514676,
          2.9575397143169218,
          -1.9232812200626486,
          -1.7291945028487063,
          -0.33946039336051054,
          -1.481794743405716,
          -1.3648272900680098,
          1.6184380633196125,
          0.6731669759445217,
          -1.39815257971144,
          1.489770759858217,
          1.0157432689846033,
          -1.0568509529743568,
          -1.751824963493271,
          -1.2421958404602653,
          -1.933693872770838,
          -1.7598217040333746,
          -1.4555523482943333,
          -2.1082944798688454,
          -2.0606660439063935,
          -1.4904194189397038,
          -2.0734945064138413,
          -3.9937547184628497,
          -1.7804503009224806,
          0.4188013767860383,
          4.0742528668893545,
          -1.6540996021001357,
          -0.870693558630575,
          -1.231104530128857,
          -0.07788453537429868,
          -2.443401395671396,
          -0.07625660353628082,
          -2.1318590249117153,
          -0.1646167137241757,
          -1.7771222855258446,
          -2.292902335457038,
          -1.227707542119132,
          -2.427003125157999,
          -1.019878194683749,
          -0.6385744256983849,
          -0.6162589382614423,
          -1.5903114999670271,
          -1.1226867924008348,
          -0.7780117610925484,
          -1.241834856815291,
          -0.41877224870220003,
          -0.5887610453578075,
          -1.4255157505699627,
          -1.92364652107109,
          -0.8321122702871259,
          -0.7103155395647752,
          -0.4545789745055101,
          -0.5006469673618129,
          -1.3433860165170095,
          -0.5586881735072341,
          0.7183670596719572,
          -0.8757146430848177,
          -1.0684891129569076,
          -0.3791907206345875,
          -0.5255270518176549,
          -0.4899308370179314,
          -0.15972671026188293,
          4.813777021504078,
          -0.8690009426865867,
          3.3215521054488217,
          -2.5792042125307075,
          1.5603981597326748,
          0.8888968989143615,
          -0.47690770582583414,
          -1.317398016401201,
          -0.4962570470088785,
          0.3375764127658353,
          2.1487550179202075,
          0.5205896223390918,
          0.0023903786712641782,
          1.4438543702229798,
          -1.772292075671441,
          -0.2113876577507558,
          0.9097158032319786,
          4.844601565033676,
          5.666384156661317,
          -1.9417108967056673,
          -2.1065509824092192,
          1.1407962580835325,
          0.23103463786948594,
          0.4256175781974674,
          -1.5657114923930833,
          -1.5657114923930833,
          4.244480994355994,
          5.176708744973615,
          -0.8596027093370083,
          -1.0270738870476326,
          0.3751242769202271,
          0.05181137151232481,
          4.582553845204489,
          0.5168944033678428,
          0.06057426972990249,
          -1.778492725569419,
          5.408174041012422,
          2.5327757019918775,
          -1.5302866131478003,
          -1.061033922284213,
          -1.0947736380529194,
          -0.922774133932335,
          -0.9605533109182776,
          -2.132240077056638,
          -1.668900179300278,
          -1.4351673016485855,
          -0.7169772246162459,
          -0.9568264963416652,
          -0.9416875707314982,
          -0.4133385047052838,
          0.16883070258110217,
          1.4322493420169813,
          -0.7813213297476445,
          -1.127128114759533,
          0.652459590839006,
          -0.692740301404219,
          -0.6732878229230714,
          -1.1414799926170138,
          -1.489277070264691,
          -0.3553585485210675,
          1.8294487165805178,
          3.65607727182223,
          0.7261799401622586,
          -1.896971419854983,
          -0.41939395144300845,
          -1.2730663318838364,
          0.10397499296520973,
          2.0964836415896606,
          -0.8776788935290596,
          2.529909789362584,
          1.0082003519061764,
          -1.8902776392732565,
          -0.42207825344761296,
          2.1090057143499523,
          -2.371561218751933,
          -1.0444388347634856,
          -1.2311316155798786,
          -1.1776970800546385,
          -1.0345327312064303,
          -2.723466640316102,
          -1.7104420113557308,
          -1.991405930022816,
          -0.6226927475906405,
          -1.0468527623234285,
          -1.2900248382332733,
          0.123091129732662,
          4.652403689691264,
          -0.4046236413406728,
          0.443001797353622,
          0.7869224265474084,
          -0.5605651851159842,
          -0.1284380924329537,
          -0.5314028806277055,
          -1.0238290888621415,
          3.1748797341320385,
          3.8595387667647407,
          2.6026231331657734,
          0.1583326346192841,
          -0.7710403655798275,
          -0.4995419530279299,
          -1.2938074605601018,
          -0.35805426889126435,
          -0.8371847600040484,
          0.23327622655162122,
          -0.08852138585591773,
          -0.6084691009396421,
          3.8798628593031723,
          -1.6480835900823707,
          -0.07920628817761165,
          0.18122554674263536,
          -0.7235894288501393,
          0.3806768139362989,
          7.226544609014918,
          3.4015397135220784,
          -1.4159279091453274,
          -1.9127960305645064,
          -2.017437359162995,
          -0.8956325749527949,
          -2.2603496043111906,
          -1.9407337361195272,
          -1.4539395308420213,
          -1.9899331345222524,
          0.5563608894958344,
          1.365574127458925,
          -0.6778354788931396,
          1.4872586279570377,
          -1.4237008451336217,
          -1.2748104198497463,
          -2.552461167194017,
          -1.7375662708101363,
          0.8903585804759281,
          -1.3514066895790275,
          3.673495161639018,
          0.23893979548550495,
          -1.800938059715406,
          -0.6930082747630715,
          -1.1302346153383855,
          1.0424609969554541,
          -0.38549302852158135,
          0.4808026898470223,
          0.36960151506622363,
          -0.24312431299061193,
          -0.31429896661330203,
          -2.122990542540928,
          -1.7729246995643382,
          -1.6173696754713012,
          0.23810845387496996,
          -0.4833916699937413,
          -1.727371155184971,
          -0.10198804553304647,
          0.5055144803084057,
          -0.7131430817527221,
          -0.895122820112364,
          -1.0597890934720589,
          0.3674321547116677,
          -0.32755247999581977,
          -0.15392290335129008,
          -1.0079751959068288,
          1.3312267508392615,
          0.14879178398842247,
          2.5937576493924177,
          5.280198100270837,
          2.612540123623394,
          -1.2429187294667834,
          2.8834607480253323,
          -0.8454958932986614,
          2.125563179636894,
          -1.2848447129982978,
          -2.333529043949485,
          -2.387460845551279,
          0.47081022186238586,
          -1.8703654091300093,
          -2.6048645631439276,
          -1.5249585479981826,
          -1.9311352130461583,
          0.1592591431131281,
          -0.33685427467473056,
          -1.7238132206500631,
          -0.14523173932936007,
          -1.1513324744387903,
          0.5329054203221864,
          -1.9612249102027282,
          -1.2399292163761044,
          -0.921352042534898,
          -0.2934493481289028,
          -0.7878251517408994,
          -1.9817641589624,
          -1.724485150394912,
          3.9255172860697347,
          1.5942931299634608,
          3.1863353179970497,
          0.9775969311537833,
          3.586743250825526,
          2.6477450497993638,
          5.2702177596449715,
          -1.7082485977385538,
          -2.1998039804602207,
          -0.0657808177900527,
          -0.8368706284559644,
          -0.7854677175050865,
          -0.20916402742117876,
          -1.708575458599483,
          -0.20916402742117876,
          -1.3997320777127065,
          -1.0909590554136062,
          4.169466471505724,
          -1.3684630603624213,
          -1.932428367187304,
          0.11061706995923369,
          -1.8318071541194516,
          -0.9598571387641546,
          -0.20192591787069977,
          -2.3224821040846475,
          1.295624263858962,
          2.4399389680424712,
          -0.003429977050850868,
          1.9689878707923276,
          -1.8110394558681597,
          -1.2760228016973991,
          1.7512646091908481,
          0.047354842508030605,
          -1.4262864308855534,
          0.8119245867926491,
          -0.33516147313772565,
          -0.28854191440585836,
          -1.913521712971657,
          -0.4450657468956586,
          -0.38980135923956144,
          -1.0965604946490646,
          2.8632445586955466,
          -1.0064366536641476,
          -1.6679956265557834,
          5.0370720971937875,
          2.3072516687894216,
          0.9817234747421227,
          3.0232908871047823,
          4.117010734472984,
          4.113361444554916,
          -1.7640887933065443,
          0.1520039730115451,
          1.010057474777604,
          -0.0982682591865968,
          0.7454678649645967,
          -0.0791291396877651,
          -0.5869929672815061,
          0.06137656758641596,
          -1.2493185544417893,
          -1.1625329569665994,
          -0.5446464357178696,
          -0.5257359411169918,
          -0.6973969041449729,
          -0.9719600477669001,
          -1.7113924337417719,
          0.6626099536052514,
          0.37990667046115145,
          4.353172762386836,
          -1.7505111883218234,
          -2.608281914795238,
          -0.7744430956484739,
          -0.2904984597290932,
          0.19347918400083852,
          -1.5005648417719326,
          -1.3802231760043535,
          -2.52014911330961,
          -0.674259069769008,
          -1.22806332960746,
          0.4229742125954441,
          0.19347918400083852,
          -1.613989367967245,
          0.24592070134157165,
          -0.9320241203449577,
          -2.0291882153646816,
          3.0861648235299466,
          3.289630235628952,
          -0.8430280926050708,
          -1.0191080260121534,
          -1.2581311719443355,
          -1.4293847145323801,
          -1.22806332960746,
          -0.8918518314853052,
          -1.1625329569665994,
          0.33200940246639155,
          -1.4006157751179205,
          0.4749551626010547,
          -0.32853831112165566,
          1.2317234135229205,
          1.8982351464781337,
          -0.8272044736771349,
          -1.1182953375910354,
          -1.2140979999974284,
          1.4102809155728944,
          1.1162558244140952,
          -0.9625261685035067,
          -0.22774342883917617,
          4.8204836714470085,
          2.8066726781677906,
          -0.8910597762575815,
          -1.4197100225439552,
          -0.6373053624231068,
          2.667811075962948,
          1.3709647550842836,
          -0.8509927620370459,
          -1.1349369532310447,
          0.30831398576217417,
          -1.4183221756409599,
          -1.109325273601508,
          -0.7858824490959351,
          2.143356564904713,
          1.699803481395569,
          -0.5767423202391121,
          1.1753290502836982,
          0.7683249437917399,
          3.067247968624567,
          2.171382773188072,
          0.09109228763953196,
          0.17424196049512003,
          0.31907993640081034,
          0.5277083757468652,
          -1.5891418340117442,
          -1.8079063743752273,
          -3.0009494117127993,
          -1.5683430554100024,
          1.2531320966526087,
          0.48007880695773564,
          1.1470176346512206,
          -1.3095170917389254,
          1.592938815983418,
          1.0710420132491303,
          -0.627779069207623,
          -0.7049891902633268,
          -0.36609949043409595,
          -0.48717640946067103,
          -0.7621598571323547,
          -0.09005428008473412,
          -0.14868520555969258,
          -0.25077834940821214,
          -0.7043224955062208,
          -2.1090182695832587,
          -1.8793340708111221,
          -1.448327310431452,
          -1.685520093259646,
          -1.8814813682552225,
          -1.409031636917015,
          -1.8761815210993216,
          -0.4113534767140588,
          -0.8662032598582586,
          -1.5843624105760055,
          -2.442834751812608,
          -1.0024189493957552,
          -0.7470110613107901,
          -1.2099907754251198,
          0.8179688501593774,
          -0.3212642807458091,
          -1.1398522347318438,
          -0.84370182480357,
          2.0422528852061297,
          4.763938610263664,
          -0.8284168584098444,
          -0.635257044727505,
          -0.8515059856345183,
          2.246176734164681,
          -0.398239292656828,
          0.6404987805565743,
          1.2643075804942316,
          5.199354627810797,
          1.8583829004360781,
          0.7197917125418749,
          -1.810091848086664,
          -0.05143589477032232,
          0.3738921019551178,
          0.7611727109350771,
          0.8241113127768879,
          0.5550844565870753,
          0.7400410988074481,
          0.43047588600987824,
          -1.1913376013534462,
          -2.0196290838920707,
          -1.0362298519507227,
          -0.6266858975965733,
          -1.7617435578112315,
          -1.9484506333422857,
          -1.0008080358122444,
          -1.9465609399407124,
          -2.4761756352926856,
          -2.6575800924276183,
          -0.7988177186083176,
          -2.1323643057110795,
          -2.5641686556704384,
          -2.1305638358695544,
          -1.0271095058981725,
          -2.271182762073556,
          -2.9955679707193235,
          -2.0137771473781396,
          -1.5437600629004635,
          -0.5641657478210669,
          -1.9539615900671434,
          0.1353117746209422,
          1.5240830508841035,
          -0.3897913275357009,
          -2.1472490541110067,
          -1.7165767230653308,
          -1.7102416567782466,
          -0.294568109147502,
          0.6183200167275017,
          1.1050523168212696,
          0.013477089149458676,
          1.3552239026426234,
          -1.4987842085344656,
          -0.8367365709615124,
          -1.089286924133998,
          -1.181568236061591,
          -0.8359986265401645,
          1.8064229455207195,
          4.5735222855358515,
          -2.3895472039585024,
          -0.8875625801717651,
          1.5623932472527695,
          1.6129921406346894,
          2.378287010706774,
          0.24814725641207547,
          0.8731453432239901,
          -1.7647645267425462,
          -0.13139150759423282,
          -1.6129773081287333,
          -0.5758965096135347,
          0.0734201277300877,
          5.948310252700199,
          -0.2603117476767205,
          2.3439529774231596,
          -2.0317748746875957,
          -1.3422308343188225,
          0.5257049943117356,
          0.22042439977145073,
          -1.4231533307505313,
          -1.9680325183749656,
          -2.490004187789631,
          -3.640317013994532,
          -0.7100689834528823,
          0.18037744575466305,
          -2.730779239010129,
          0.6051493269356281,
          -2.0122268085743857,
          -2.9882377865906737,
          -1.9881226567087888,
          -1.1001811056752322,
          -1.6322560102481407,
          -1.5585212785368736,
          -1.200376905617609,
          -1.1518035655172458,
          -1.562657540876256,
          -0.703018567965678,
          -1.5109878564250228,
          -2.094976256405371,
          0.2182080372711163,
          0.2810209256473459,
          -1.5999015985109135,
          3.636437671895394,
          4.377634569812748,
          5.517832620777447,
          -0.1559322046983338,
          -2.7823545006812154,
          1.7058186045512937,
          -0.33256344644116104,
          -1.5606335978828185,
          -1.4666166729454662,
          -1.6720377493956817,
          5.0500544960262355,
          -0.4211302351958712,
          -1.4156805781784698,
          -1.0310175317531438,
          -2.059461933825433,
          -1.1993121002513607,
          0.8418391167498283,
          0.5277083757468652,
          3.200054060466452,
          -1.091895659316919,
          -1.6640321370290696,
          -1.7940379519331608,
          0.26759154444683037,
          -1.1761461616742375,
          -0.9236608800933445,
          -0.7383878592737927,
          -0.7370115676562271,
          -1.726006148788172,
          -0.8276749826467558,
          -1.0981889258275153,
          -0.0686037331421914,
          -0.19842300499808493,
          -1.7252882884251937,
          1.9027041250642713,
          -1.204137746932001,
          -2.146761574037716,
          0.5675226390225968,
          -2.7378605856359566,
          -2.364673522999304,
          -1.5159051852544065,
          -1.1991820155424164,
          -0.2390187911039017,
          3.755510100997642,
          -0.9172187524603754,
          -0.6027578678703431,
          4.365128553031849,
          1.357052659263262,
          1.0610805001881738,
          -1.091895659316919,
          -1.091895659316919,
          0.37990667046115145,
          1.0507517772310677,
          -0.834722206299802,
          -0.4362902449973919,
          1.8393460147500866,
          0.9749323262388521,
          3.59984746035953,
          1.3878500421641182,
          1.8808998932641399,
          -0.24102161445379308,
          2.5242881418413696,
          1.8226454879784881,
          2.382405468796729,
          2.7160711465674643,
          1.3400521098127454,
          2.067508571190602,
          -1.3774147805614483,
          2.116901712809416,
          0.4725370812856824,
          1.7005090330279218,
          1.0124138734776442,
          1.4638489861406878,
          4.517415285770568,
          1.6062390664664292,
          1.509098548391418,
          3.328173071321645,
          -0.7586867391814032,
          -1.9710893785207453,
          -2.627945347818508,
          -1.0959217221133755,
          -1.7330340393361576,
          -1.5509421569582773,
          -1.9153264230825702,
          3.286543067630072,
          -1.88530125983665,
          4.031929446383438,
          1.091703294963206,
          -2.0995891751226234,
          1.6077515138179572,
          -0.7338996331495043,
          -2.329923166852289,
          -1.6714994013804179,
          1.3227936929233748,
          3.2245788048711392,
          0.8493078136160155,
          -0.8991050041159993,
          -0.25963697831105464,
          2.487845989688518,
          -1.0057381074581428,
          3.782652702099691,
          -1.9157679231230478,
          -2.0026233957398767,
          -1.669644827233122,
          0.3515054625690082,
          -2.4460483692044006,
          -1.761901935635351,
          -1.6517774567678387,
          -1.6237547621234036,
          0.8957766323986631,
          -1.864228674327061,
          0.0533734482409993,
          -1.6425344618411408,
          1.3552239026426234,
          0.1462460887456549,
          5.858209721616871,
          3.71803126096079,
          4.993793590175096,
          1.8999455539621675,
          -0.8127854597663113,
          -0.988275170688038,
          0.6321516301100986,
          0.013416667960795057,
          -1.2772504087424374,
          0.5751095293838527,
          1.8650579113698982,
          4.510568593122148,
          -0.08449905553375643,
          -0.24164638031297905,
          -1.983068231061089,
          -1.8494850568377137,
          -2.50724927694252,
          -0.3120875385222828,
          -0.19799516276387819,
          -1.913240682495196,
          -0.4667570855707582,
          0.5301321114835897,
          2.8059892371366986,
          0.6503978876248581,
          4.008015267389633,
          3.0007464182467127,
          0.3032852502015865,
          0.7826398955578463,
          -1.4792219052824107,
          -1.3563827742337011,
          -0.9660709260830543,
          -0.05259932417508014,
          -1.3776523091749266,
          -3.0725256635991194,
          -0.4751356317600318,
          -3.026756059954507,
          -0.832511187274471,
          1.7747900310136386,
          -1.028069158806705
         ],
         "xaxis": "x",
         "y": [
          -0.011146290126811405,
          4.498483040491564,
          -1.25849505309125,
          -0.9316902391794313,
          -0.9998605575699315,
          1.449198795216137,
          -0.1534910566635195,
          -1.0976948285917096,
          -1.2029511963611865,
          -1.6720710185825893,
          0.6245816077119473,
          0.35427951833409643,
          0.6218862595041168,
          -0.725726077064712,
          -1.753374425891373,
          0.09456002264657697,
          -0.7607765416859091,
          0.09023324070523103,
          0.6354891072036849,
          0.9549247299482798,
          -0.8173396601849976,
          -1.2470979651002099,
          -1.0384504583107177,
          -1.8477530524364019,
          0.36640565879193093,
          -1.0939423326821642,
          -0.5130725914703955,
          0.19285191038163849,
          -0.40850583478902414,
          -0.4019127768691338,
          -0.5390360868356469,
          -0.509329711641107,
          -1.5551823065201944,
          -0.3275202482615802,
          -0.11881659332814679,
          0.6359085300784681,
          -0.5876810821821726,
          -1.6234813101233805,
          0.9261554472362556,
          -0.0025837146344421403,
          0.9482384115361047,
          -0.4325272360306133,
          -1.0477234546789862,
          -0.588412794916775,
          0.10962376719395396,
          -0.17631562638303389,
          -2.231310852520518,
          0.3421759568804069,
          -0.13393724871445545,
          1.8282937839211013,
          -1.5586608599510328,
          0.3941377070229466,
          -0.16899555980659173,
          0.6402870848131604,
          0.7535261568595869,
          -1.0071979202008587,
          1.2513815447321528,
          0.7283795254050502,
          -0.3155870920706925,
          -0.3743084277381329,
          0.6971582660739043,
          0.4907815022846549,
          -1.4496313293936183,
          1.402223715478256,
          3.182515407806577,
          -0.13343620635138168,
          0.7231412843907877,
          2.435673232412773,
          -0.662445295966795,
          0.882861064926853,
          -0.45399742433685175,
          1.289565202694541,
          0.7021569500086048,
          -0.03212034941795605,
          0.15589311833335287,
          0.04483740558801914,
          0.7644853720457748,
          -1.8700830086717863,
          1.9424014130733962,
          -0.535553232852019,
          -0.7101916522494054,
          0.6821340814378528,
          1.5096042889137347,
          1.0677125248492476,
          -0.20319345565049965,
          1.9000703759917135,
          -0.9569272319374212,
          1.795794818149862,
          -0.5045512816835327,
          -3.0351142354928875,
          1.1858743295178078,
          0.8760206158908879,
          1.0658710831443392,
          0.8982598530428675,
          -0.10984688935739723,
          0.7719022721632366,
          1.1990816803218634,
          -0.052756160150402964,
          -1.8569894900465924,
          -0.32643552532892317,
          -1.6939481840668298,
          -0.10438796376462055,
          -0.14531043781235295,
          -0.4996968944645944,
          0.3260647888357197,
          0.5077876996618896,
          -0.050481471812170636,
          0.474696659825557,
          -0.3879735524806019,
          0.9981145621078841,
          -0.0645886857741173,
          -0.16680607960514066,
          0.6183612930258768,
          0.34667897728901,
          -0.8498816694047552,
          0.028285354530939725,
          -0.43098808762267166,
          0.9716433758065651,
          -1.0005494442087888,
          0.566529012538565,
          1.1465811195268028,
          1.3964744337563049,
          0.43319264302379584,
          0.09286868670805441,
          0.28271702966358253,
          -0.4675119546435389,
          0.30059066562799014,
          -0.25683121926391544,
          -0.7082299299146123,
          1.9653556872423246,
          0.540266092058841,
          -0.4733052245128097,
          -0.45905707493854275,
          0.17712840735323648,
          1.3226057430132456,
          -0.1836457211918539,
          0.5715418725763884,
          3.182515407806577,
          -0.22520769265871082,
          3.337277772905862,
          -1.1787016560533625,
          3.337277772905862,
          0.8919286352285132,
          -1.6621229341015176,
          0.9126518916872725,
          0.04544220504715455,
          0.15799090914534683,
          -0.3881116746652959,
          0.7693841067862311,
          0.31652003537511153,
          1.5899977353431367,
          -1.9047868000468378,
          -0.9570850389300086,
          0.22303451284726655,
          2.1053849872447823,
          -0.6995465461225082,
          0.7111076327776108,
          1.0092401714194634,
          0.3238118826696465,
          -0.1631943487323814,
          1.0404375904923138,
          0.6564793989659155,
          0.39517415148942137,
          1.2410104338213095,
          0.3769590932264067,
          2.461888645237076,
          1.2357005578886255,
          0.26347434069351017,
          -0.3149803062308395,
          0.5105081730241843,
          1.1597876950391837,
          -0.15864705407278937,
          0.2960584459910362,
          0.08484118937578795,
          -0.7467089182464854,
          2.2114132179374697,
          0.08320541248182149,
          -1.0443441784920733,
          0.1912344681748808,
          0.6089226265344316,
          0.778995261963896,
          0.952372391594476,
          1.02963914054247,
          -0.36267015960538435,
          -0.971139026376089,
          -2.6424864233452334,
          3.1033319622259383,
          0.2161930877317964,
          0.014957619740981502,
          3.9190384728573666,
          -0.5723148273970251,
          -0.9986452552999865,
          -0.9516486023188435,
          -0.6906988660514809,
          -1.1840841818426275,
          -1.3006189908905772,
          0.5947979963623248,
          0.08054162638613828,
          -1.8790387512323203,
          -0.33885212574192564,
          -1.6309491743985551,
          -1.0941715165686399,
          -2.4464617479279043,
          -1.1407059930266366,
          -1.8453286786660483,
          0.6507379346285517,
          -0.47118087570081907,
          1.019732591308472,
          -0.27336515637365133,
          0.017367780195286942,
          0.774417891072696,
          -1.1653490752846145,
          1.5829275370760427,
          -1.2845530401926468,
          -1.3462327707720676,
          -1.1924586912170816,
          -2.355220982919509,
          -1.6350920282524646,
          -0.7943134394819923,
          -1.5948015187911313,
          -1.0367744163767705,
          0.2383420258656944,
          -0.9150329918104082,
          -1.6791143643828987,
          -1.11400818377878,
          -0.426415350884583,
          0.19720315170070377,
          -0.7675781583836252,
          -0.6634064026910814,
          0.018494863427140698,
          0.03239395742923514,
          0.5429849610833299,
          -0.5502293308844963,
          -2.5877559470825324,
          0.07003755588593094,
          0.7387646468178287,
          0.8517448089595101,
          -1.0045392123559695,
          0.022744918930616413,
          1.1028840070236063,
          -0.9711482695074382,
          -0.5747759434969225,
          -0.7041665708533817,
          -1.2590290776964885,
          0.5110837248386948,
          -0.4473929302746733,
          -0.7770987572885051,
          -1.5128098061317306,
          -0.010119072281301284,
          -2.6565170442836576,
          -1.8578537653499652,
          0.02967834875154132,
          -0.48811766008404955,
          -0.46263501008077307,
          -0.6323213193002096,
          0.868964826704902,
          3.240477508030489,
          3.240477508030489,
          0.023892287317255033,
          0.6703963948146924,
          0.7996627431599446,
          0.5833737164149401,
          -0.11689578549234489,
          0.7123683209024191,
          1.531094807331236,
          -1.6069800221607176,
          1.8559942570662091,
          0.04437539980395504,
          1.2105451052359515,
          -0.6133121765032471,
          1.0809283795560063,
          -0.21205336988886317,
          -1.1818910023338225,
          -0.7775444494726228,
          -0.6234088227383872,
          0.5694778943370146,
          1.7175189370213653,
          -1.0189490622171715,
          -1.1180976339575963,
          0.5457794249420219,
          -1.220320439422537,
          0.8906898331423556,
          0.9608276029309006,
          -1.2672613034227607,
          1.6835784222939028,
          -0.7047166607825183,
          -0.6445389710374195,
          1.7118067203121372,
          2.0700335917909687,
          3.774095350032427,
          -2.526402043882364,
          3.027705154585715,
          0.7863022708009529,
          2.8536627519810125,
          3.774095350032427,
          2.051357055763085,
          1.4012277428553166,
          -0.9266969511957179,
          -0.6326476919953279,
          -1.1279563071617364,
          -1.1810383810275713,
          1.957537768774421,
          1.9979683623798543,
          0.06784792539787121,
          0.5362425827548245,
          -1.4777415250203867,
          -1.9777901671232008,
          -1.1096645491064128,
          -0.7895282956595105,
          -1.4068333771286496,
          -0.835958518299129,
          -1.5475653090429127,
          -1.2046762480700817,
          -1.6143833336086213,
          -0.5314998546403835,
          0.18027712010472277,
          -0.7320794166920281,
          -0.035066869396599476,
          1.9807742361710325,
          0.4223294232920432,
          0.28360676072867336,
          -0.6255932639365455,
          0.7112353207108737,
          -1.1077101885611702,
          0.48824908011310736,
          -0.22795730447657722,
          0.19717824977674273,
          0.3150319980462728,
          -1.2672613034227607,
          1.1177165541627065,
          -0.4457172777483627,
          -0.8138693535483422,
          0.3178642790899884,
          -1.146466302455806,
          -0.17714161009327606,
          0.3484442111053224,
          2.406404972446328,
          -0.0003525217776444087,
          1.8873203415832422,
          -1.3725204164548375,
          -1.265768837753671,
          -0.6949733179444147,
          1.8873203415832422,
          -0.8101213187323111,
          -2.9183415164682884,
          -0.9151402576715452,
          -0.9894869373615447,
          -0.29923272082724034,
          0.4760198718631139,
          -1.5094498562717884,
          1.8873203415832422,
          1.1113603909961738,
          -0.37497601475158737,
          -1.2545771481814056,
          0.9048464943468997,
          0.14491983213610451,
          -1.0798413560153637,
          0.8958070512138107,
          2.0607557633872786,
          1.3380694906666462,
          -0.792785079934498,
          0.7801239402947835,
          2.3890026316786592,
          0.010923878415341863,
          -2.701162881091406,
          0.3071600666562882,
          0.4060177721073582,
          -1.793146170669817,
          0.6582528726690474,
          -1.563464426071767,
          2.4150542414887313,
          0.5843336029259861,
          -0.6038418556220848,
          2.2825376777124364,
          0.5348228328720832,
          0.44349978495396153,
          -0.6515118089357844,
          1.053350465893429,
          -0.05684593511017902,
          0.7667072369067007,
          1.9924299245585135,
          1.6650019235103024,
          0.09891338575271898,
          -0.21030445971978184,
          1.4049591878689267,
          0.6572987131801559,
          -0.7572609888099874,
          -0.4289788550163666,
          -1.166382725543881,
          -1.0375737857811553,
          0.3177602599695217,
          1.1770272825990251,
          2.5220133022988462,
          -0.3556569717547151,
          1.2739159471111918,
          0.12552664107296208,
          -0.04443688853521361,
          -0.9598826795695855,
          -0.999461769410376,
          -0.1719223856015656,
          2.0825047669647563,
          9.80861566527574,
          -1.9109995363880024,
          -1.5953448853504661,
          -0.207720460783526,
          0.38379843657746765,
          -1.6622338726879478,
          -0.5449138158014977,
          0.3926042114015588,
          -1.081636637367993,
          0.2533103235365446,
          -2.3938747210539635,
          -0.47150127593609664,
          -0.175611672817222,
          0.7451440430086275,
          -1.6873495018786016,
          -0.2038045167524319,
          -0.6772495315786102,
          0.45154411590279586,
          -0.4727486064660548,
          -2.612478894522992,
          -0.5263262266185549,
          0.8079535533547791,
          0.11383168486563147,
          -0.8406691236039733,
          -0.07662975110137575,
          -0.5132639481080156,
          -0.5820581328286758,
          1.4966189151479763,
          0.2159129418191729,
          0.874933308738516,
          -0.49583472433259457,
          1.2667969389178966,
          -0.6352214968617725,
          1.7116862484490867,
          -0.059813117058138396,
          -0.649772473616231,
          -0.6584021042342929,
          -0.1198453153277446,
          -0.6498927216938712,
          1.6583247694069487,
          2.0021393264062324,
          0.1046709494493318,
          0.12593071239530546,
          0.9211842808505316,
          1.1566985880876255,
          4.137971827721911,
          0.4510339910091292,
          0.7392753979079746,
          0.7802223761612871,
          -2.0010115300907696,
          -0.5462424385825618,
          1.2886913072683903,
          -0.4138934852797086,
          0.5142060333389615,
          -0.19834002790450245,
          -1.132519116842595,
          1.0888335146592358,
          -0.885277498110872,
          -0.25957366671032645,
          -0.33655960124604006,
          -1.4383020605948782,
          -0.855368929785127,
          2.037415663490342,
          -1.0849805099308256,
          -2.6249725104295547,
          -0.29118493718810623,
          -0.9406771827196888,
          -0.8619638727305531,
          -0.7446552433346847,
          -1.5806404300447343,
          -0.24540199652620134,
          0.16613234798095558,
          0.25522346651492483,
          0.8974807722274423,
          0.6208671719375598,
          0.28059253069266327,
          -0.6340873085014079,
          1.0661851762831893,
          1.5503964871266394,
          -0.7612398420860191,
          -0.06922749235527248,
          -2.157715636599804,
          2.1872713095154,
          -1.3215548520622262,
          0.7356238326523756,
          0.7673642510824763,
          -0.0697992924477593,
          0.4886676650433239,
          0.2669812198875684,
          0.7328123563979615,
          0.5861214875061452,
          -0.9953858151396189,
          -0.17759522520563847,
          -0.6764116893753352,
          -1.2989213224117389,
          0.8921496309187895,
          -2.267536479736288,
          -0.6406026434243625,
          0.08160718107044096,
          0.7976536903440776,
          -2.531916305770237,
          -1.0799014176355544,
          -0.19615586969321533,
          1.138417032076645,
          0.28707549080251393,
          0.4226851034531934,
          1.5804058973004518,
          0.7663364597659561,
          -0.6146786963745671,
          -1.1175193421862726,
          0.6785761172927788,
          -1.180636339439072,
          -1.2359788765089335,
          -0.3195532424962472,
          -0.3744071069079042,
          -1.8640708749147732,
          -1.7773287436540253,
          -1.9813608548146302,
          0.25707335983407215,
          -0.6155426574374911,
          0.2429255993826796,
          -1.161632422408503,
          1.8958622798558842,
          -0.3356606365168564,
          -1.0694624857178234,
          1.7513158520768206,
          -2.4367945237996906,
          -0.7722764505011094,
          -1.1810989500449787,
          1.9317052289038266,
          0.5716358610330151,
          -0.46669574977910233,
          0.7085487574433769,
          0.28161800267876097,
          0.39077968913995914,
          1.8664572644859498,
          1.257051539574468,
          -0.025989927797272827,
          0.0829236931600102,
          2.2125582507039754,
          0.325061764560875,
          -1.1703087112108859,
          0.27426832099095194,
          0.7085487574433769,
          1.1437392895821459,
          1.375264594431325,
          -0.5836498678916486,
          0.19823214236746314,
          -1.6148947810199705,
          1.0620864810567914,
          -0.9361637998069952,
          -0.022866776118986576,
          0.6613537913076047,
          0.38530631843082785,
          1.2299781646381995,
          -0.07782348751577046,
          -0.1592364575513663,
          0.4627913102919566,
          0.8672704536836484,
          1.585483571819161,
          0.7367549070529663,
          0.7140682739125956,
          0.9688369678118399,
          0.25126802391534514,
          0.5132039117659949,
          0.8372222203501745,
          -0.35736707481577834,
          0.7717816493277037,
          -0.607450298641597,
          -0.26946117978951567,
          -0.8556227790287811,
          -1.1068158657389366,
          0.18685711887944392,
          0.6816277954199119,
          0.9788842536594277,
          0.45208387285022256,
          -0.7983021441809108,
          -0.13385525664813083,
          -1.3796314186286873,
          -0.210781386402841,
          -0.9811799170595068,
          -1.331994816318075,
          -0.1932809398077507,
          -0.2770836557895619,
          -1.9783775271564634,
          -1.373892753389269,
          -1.202444736179618,
          -1.3080694576617191,
          1.7650475397544345,
          -1.122915636881414,
          -2.7309258321583583,
          -0.8706224842112588,
          -0.524317346908617,
          -1.109747986361623,
          -1.2308039831949458,
          1.1494624022273898,
          1.964197765747773,
          2.1785293823189735,
          -2.8135610607731656,
          -0.444686076277454,
          -1.3634716348410438,
          -0.6220149462494259,
          1.0416800370699897,
          -0.395217716658019,
          -0.19449469553583706,
          -0.3852608354914687,
          -0.06318642030526957,
          -0.06793988912860768,
          0.04752527244375179,
          -1.2880149374051084,
          -0.4742245086831734,
          -1.381531159972169,
          -1.4991282734577787,
          0.10597497457687982,
          1.2977230389711856,
          -1.4864565185646,
          -0.043092712418068176,
          -2.332831179770083,
          0.9425352116267061,
          -0.9782852103707482,
          -0.8375933378434279,
          0.24182119457517712,
          -0.8490077081291281,
          0.06737530831032852,
          -1.1745357862551735,
          -0.6271315392818481,
          -0.5770669957486689,
          -1.3448712697469218,
          0.231965441024669,
          0.8445197390903239,
          -0.40290098978720856,
          -0.0057362143611156755,
          0.4499143340358765,
          0.6750056141422742,
          0.282692142842474,
          1.2696072180370312,
          -0.4871801805221582,
          0.6108104896236388,
          -0.4948587314914084,
          0.1181781723823476,
          0.7334875142917924,
          -0.5180917961506766,
          0.18106416040857906,
          0.7146230917208717,
          0.7428997971628304,
          0.5593656303835172,
          0.48490533108278616,
          -1.0171259983707652,
          0.3878104905547118,
          1.6226377843395543,
          -0.1780970479433487,
          -0.12476503646774163,
          -0.29617796041093697,
          -0.273798922636274,
          -0.9268841480713063,
          -2.038010112230454,
          1.4506337137912297,
          -2.0579085201675267,
          0.03302731056233798,
          -0.6887356962529697,
          -0.5190815328898665,
          -0.7472663186110954,
          -0.868239020690791,
          -0.23433916561783535,
          -1.4053392824479622,
          -1.2981861098400027,
          -1.112746750628705,
          -0.9768526143068198,
          0.6741636247927264,
          -0.9814765781246892,
          1.0934127148953312,
          1.1383910108144242,
          0.06965396958828265,
          1.995980106755625,
          0.9755122541602365,
          0.6623848700199353,
          -0.8861233320777823,
          0.7021569500086048,
          0.7363870858767186,
          0.233008964906717,
          0.15532837478584471,
          -0.715133568391191,
          0.4534623044762577,
          0.5953873912830441,
          -0.12083862405770075,
          -0.7904677532103991,
          0.744294354947714,
          -0.5173945461923829,
          -1.3671815537397134,
          -2.164760686281043,
          2.406575770189162,
          -1.2491142295755049,
          -1.7138057454863633,
          -1.1199854719256783,
          1.6019710557732276,
          -0.7298052345060034,
          2.696272599035894,
          -0.35149643953172727,
          -1.7024709074298858,
          -2.602808344103326,
          -0.0018618573810396252,
          -1.678578747257525,
          0.1710084301558396,
          -0.26644865112001237,
          0.07288441826828311,
          -0.514806139108122,
          -3.6521473312229387,
          -1.5229955970088473,
          -0.3615044442366953,
          0.33209914601969837,
          0.06386128061297879,
          -0.06798773550581286,
          -0.06798773550581286,
          1.6600878927881193,
          -0.5499230709138913,
          1.1657589760111937,
          -0.5731714708818136,
          -1.66618368349235,
          -1.4165624627850537,
          -1.4308328180936039,
          -1.1943971753589049,
          -1.4274095208739357,
          -1.1511209970770364,
          -1.4869190971071597,
          -1.5228713473950597,
          -1.4516382091534226,
          0.17590165038654723,
          -1.2007541057312037,
          -1.1574513304114873,
          -0.877590538363429,
          -0.5753777267466702,
          -2.047746694373265,
          -1.2612019677118813,
          -1.6578915972040724,
          -0.9738377876979711,
          -1.302182832562018,
          2.030428652041029,
          0.7354293886633697,
          -1.4150905188260006,
          0.5545644883197933,
          0.496108564084422,
          -1.4305639637987166,
          1.6075802808416453,
          -0.8012284798287458,
          0.6747351899313622,
          0.12194654885889876,
          -0.09902124256603882,
          -0.06924925887923064,
          0.6715536596689557,
          -1.1968649079150178,
          2.1785293823189735,
          0.7120396547541844,
          1.0719117293829026,
          1.147852074059685,
          0.6481283190597535,
          -0.5960966025054178,
          0.22109387579757594,
          1.9766866328626072,
          0.06676449711305273,
          0.9143713972798111,
          2.846770826534307,
          0.14701877091226287,
          1.2816469698098116,
          2.846770826534307,
          -1.9407940206375265,
          0.04594027856043714,
          -2.106243615014697,
          -0.7473077818496995,
          0.381330537070873,
          1.1563480223931897,
          0.09832857235024091,
          1.3195450645550844,
          0.6838502211062977,
          0.9286327150239239,
          1.2197449477602869,
          1.1812618877138972,
          -0.24626779839357216,
          1.0543507232368008,
          1.6346249482684638,
          1.1208526375187826,
          1.1665004006106972,
          0.3592048896803265,
          2.9368444395740805,
          2.3594110153431496,
          1.5909270645632707,
          -0.21910571865285206,
          2.2780569687552266,
          2.6215188359867816,
          1.514944642186655,
          2.152115466847553,
          0.35273715504116787,
          -1.5239595469806997,
          0.8283125934152259,
          1.4516358923430022,
          -0.07205021415422731,
          -1.1760735761202978,
          -3.198217865125101,
          -0.8201818438122818,
          0.6486029919662044,
          -1.8391905524002878,
          -0.2958332784407959,
          -0.08593625358312944,
          2.161647716158943,
          -1.5566511731330466,
          -0.19148102107685785,
          -0.7299870431004457,
          -0.7726676252422119,
          -0.8789815373159127,
          2.5965949403301316,
          -0.9684721849669096,
          -0.012415922773768615,
          2.777631799250747,
          0.008146240049376172,
          -0.1291532354291797,
          0.667865288028954,
          -1.5107021703796681,
          3.073149355538066,
          -1.443861041606532,
          -0.5025097048772141,
          1.3242077355585757,
          0.5827095805282663,
          -2.1973568753736132,
          -0.14753873569748602,
          -0.4880953525546376,
          -1.3450083943612772,
          0.32685326130839193,
          0.8459249238174467,
          2.2524644820304,
          3.3049931546089675,
          0.03839524739570694,
          0.9816545686601104,
          -1.7461053753967282,
          -1.4139744288995442,
          0.10598670322736287,
          -1.1229631780375933,
          1.3844106892201393,
          -0.16167197298893551,
          -2.25446962387928,
          -0.6869253409334338,
          0.7902407593582317,
          -0.14973732308850768,
          2.0284456703648437,
          1.0809283795560063,
          0.253282434856015,
          -0.13986980407637895,
          1.5193532518080104,
          -1.5507576235702534,
          -0.8088935101256461,
          0.15044670458467319,
          -0.04500234018913849,
          0.18720132576081028,
          1.296859426407963,
          -0.46262401581710494,
          1.0988180711853779,
          -0.42462718617279127,
          -0.8185606053174731,
          1.119792628100467,
          -0.6119842950529603,
          0.2947456189667929,
          1.4551038711161846,
          -0.41001794748550346,
          0.5691942254362549,
          -2.5905991500480123,
          -0.18202951374809348,
          -0.8607013036745853,
          -2.2960756072603283,
          1.316707646587883,
          -0.27251690398117395,
          -0.556673886299603,
          -0.7152170885868839,
          -0.7028362760612356,
          0.06303033231618382,
          -0.9902208730061541,
          0.01972410670452965,
          -1.5601392302159742,
          1.2645522348952978,
          1.7383022229355862,
          -0.24957322851933947,
          -1.0702528843505685,
          -1.284429515008699,
          -1.2464356433071089,
          2.2993299862982335,
          1.1641245992756324,
          0.701544850393161,
          -1.5291054878331434,
          1.2451125043197113,
          1.263139916968037,
          2.210371436006022,
          0.8690317957680918,
          1.7953295321679075,
          -0.22799795098332293,
          1.0354966936301435,
          1.7471850168622927,
          0.6393512413681006,
          2.7322746057582,
          1.9385695616987788,
          -1.479781136508336,
          2.626893231713909,
          -0.9871339708869424,
          1.5030130287038062,
          1.0529794513877144,
          1.2377964378668742,
          1.3964744337563049,
          -0.4050203930043906,
          -0.9982484808587225,
          -1.5468837439767509,
          3.182515407806577,
          -1.5412634785360084,
          0.8001407315361074,
          1.6262958353849528,
          -3.4389885917616287,
          0.5753938621894765,
          2.2122163894790035,
          2.483677273352305,
          0.5885938945441711,
          -4.1211833927024335,
          -1.3940325838598724,
          0.7540240214844226,
          -0.932172544535235,
          3.028110069143327,
          2.2881131630279707,
          -0.4078631192511282,
          1.1182369660441585,
          -1.3045923139922608,
          -1.0114715054304522,
          1.4550998217037536,
          -0.1164031822367605,
          -2.416110659060033,
          -1.979628892770849,
          0.16213361299954257,
          -0.4682875272625679,
          0.5913167294180871,
          -0.31088982205911453,
          -2.5200907369768575,
          -0.09431542449179553,
          -0.13783072116580253,
          0.6444051988424128,
          -1.1620644660524495,
          -0.5610637779327755,
          0.23168889026858042,
          -0.5581193468046408,
          0.215389092301514,
          0.3865471295851934,
          0.9889416595795403,
          0.7515095953074565,
          -0.23329405373395598,
          -1.2297478871028995,
          0.8201643769410959,
          -0.1588204344203933,
          -0.7565388853115694,
          -2.112028615171623,
          1.840536966980791,
          0.5764743024800896,
          -0.691496947799172,
          -0.31577070586742373,
          -0.8810996699177852,
          0.8021470798848582,
          0.19347997695700683,
          -0.4260196653524412,
          -0.5943416563048259,
          1.4291872876100424,
          -0.16409245911004797,
          0.812099364301535,
          -1.5026498422538606,
          2.598779509754674,
          0.5293587436794345,
          0.7783608326259306,
          0.623813669058094,
          -0.12191949193504499,
          0.2679161610638072,
          0.4237906487477501,
          1.0686408169382278,
          1.4026574288018112,
          1.3879816561431089,
          -0.21462188479536634,
          1.5320826718596174,
          -0.6503647631977184,
          1.3022033030346336,
          -1.3393116405859733,
          0.09681015173227707,
          -1.315588006217711,
          3.2836447682990006,
          2.799421051795825,
          1.3470804164822898,
          -0.1810184569086155,
          -0.1754369017855222,
          0.6064345226532669,
          2.777631799250747,
          -1.8230617493286438,
          0.13057729102598747,
          1.231384500869603,
          0.34660452160359007,
          -0.09832938999495879,
          -0.09436777659232633,
          -1.8418970721984342,
          0.5570265612360665,
          0.33874116018653994,
          1.0151455031556142,
          0.764350641692917,
          0.08291424450270418,
          -0.10603512351487272,
          -0.049998715508894204,
          -0.8471965335775017,
          -0.7625426989529577,
          0.4494971789327854,
          1.112574117525328,
          0.6084618967296077,
          -1.254127843863858,
          -0.6314035129261362,
          1.296284905765056,
          0.2462120721773796,
          0.0539414039263249,
          1.4956554144984233,
          1.7899910019342122,
          0.4706658161331822,
          0.5196573621206049,
          -0.09702344877198438,
          -1.6289827036759459,
          -0.14762103535583276,
          -1.0538483392871958,
          2.575473897310147,
          0.3269827008452057,
          -1.0584835530918626,
          0.2810292146864913,
          1.4795346263809037,
          0.8726252657977558,
          0.019121467791146835,
          0.8287698711128346,
          1.1378368096175695,
          0.263544579092703,
          2.2707965426279664,
          1.3077206199092635,
          0.8185767880870064,
          0.6650768549335082,
          1.7874380723812993,
          2.0664051307236884,
          -0.34639268363053005,
          -0.8577415633782178,
          -0.3466429693933365,
          -1.0922817043651065,
          -1.3118166173906085,
          0.8976326080505247,
          2.538527767313561,
          -1.1870387717949202,
          2.7869826184936755,
          0.2545143723187341,
          0.38936147667520377,
          -1.1071412055199377,
          1.6107705074878278,
          -1.1739525088554228,
          -2.0616820132566858,
          -2.8053945963871194,
          -0.8831663371685475,
          -2.063367899423587,
          -1.7987616717190233,
          -0.42073147532698457,
          -0.6148024213290779,
          2.2743934499220626,
          0.18599348650960207,
          -0.5898593904191539,
          -1.2018199465962711,
          -0.11050871698376938,
          -0.5749320975573844,
          -0.6406026434243625,
          -1.3543005202399945,
          -1.5725660924038996,
          -0.6421207488010797,
          -1.7657936503406613,
          -1.4009596285162977,
          -0.5103533356941551,
          0.31366695973061004,
          0.10148720546280565,
          -2.227761661146166,
          -2.1663989305907476,
          0.979837076614421,
          1.2933397156417688,
          -0.18737478514681274,
          0.3543719949788701,
          -0.49404574101390414,
          0.408202414612655,
          0.07545889725108076,
          -0.020097489442545288,
          -0.5232755081075592,
          -1.1151845701111411,
          -0.035245472188083445,
          -1.7256356053318518,
          2.565355550971351,
          3.7855980781445653,
          -0.5196969124319165,
          2.0225229491030876,
          -0.3273361120999746,
          0.9020944113643283,
          -0.9310219539819884,
          2.565355550971351,
          -0.9971014093097121,
          -0.2976292993379695,
          0.32410340956387346,
          -0.39729658274353247,
          -0.2918528030421959,
          1.2589704060075442,
          -1.115271684502231,
          -0.6068327709989884,
          -0.019608718525088425,
          1.857689027053375,
          -0.44601320040822534,
          -0.08888667464901495,
          1.2226267391788184,
          1.3180419447934693,
          2.8347796606319826,
          -1.6881739103057418,
          0.8702582499121667,
          -0.6016329590871636,
          -1.6520216682288367,
          -0.6742172913753652,
          -0.1680107737918682,
          0.6829368856863998,
          1.0166141420885246,
          -1.1573513700831806,
          -0.9920311725425573,
          -0.3094075954101766,
          0.27314354771894633,
          0.015838701558661343,
          0.7240235934694064,
          0.8707080592041286,
          0.21601977979558143,
          0.4183086601789258,
          -0.7748456390260217,
          1.670090775433565,
          0.21471234273482168,
          -1.1733447838065647,
          1.0707460862605038,
          -0.575734776416167,
          2.7914806372152183,
          0.8073484220482438,
          -1.0511858033336992,
          -1.1638906002201026,
          -0.9323783000383229,
          1.4338452229528573,
          1.548251766752399,
          -0.8243053696849152,
          -0.21727761748933305,
          0.7408819707686053,
          0.7766444874755677,
          1.2466074522256287,
          0.7996077501042803,
          0.7098984500909359,
          0.1573823823360887,
          0.8291981600164938,
          0.4115211848400118,
          0.1850701219470147,
          -1.0699889202336408,
          0.5477835991559169,
          1.0667926679701114,
          -0.8775491680441357,
          -0.4112771774398261,
          0.09562702241928786,
          0.07627133581846596,
          -0.41211540420469095,
          1.2651376595429624,
          1.135051836093589,
          -0.06337771493283739,
          -0.4354620140625724,
          0.7196787549342679,
          -4.402578912524467,
          1.9687208683682613,
          0.6555126013851414,
          -0.056040088055313075,
          0.36014843924403606,
          -0.339331053051571,
          -0.0561886406189461,
          -0.7620360756541448,
          2.2765844364760244,
          -0.18097852487375174,
          0.04741030706685532,
          0.9977781862139036,
          -0.10368604875802523,
          0.08477651925558227,
          0.861242594474016,
          0.7906107892066147,
          2.222153168898032,
          0.9271137572827853,
          -0.9330765738277998,
          -0.8988029806520119,
          -2.313794695898909,
          -1.2620312997889223,
          1.531094807331236,
          -0.46980024727535563,
          0.8215286852076029,
          0.7262953082237089,
          0.3474608869182142,
          0.1933160140725197,
          1.4030209257013275,
          1.4136472750859452,
          1.484689988498164,
          -0.3107178863439607,
          -0.10512270723039316,
          2.78858819606379,
          0.6942665279067863,
          -1.622120516819668,
          -1.5358891258969727,
          -5.390230091324036,
          -0.05382714583808781,
          -0.28986654175933774,
          -1.2603822989769258,
          -0.7803224545641377,
          1.5051495770311591,
          0.5803112501175969,
          2.08666493664937,
          -0.18161001740644447,
          -0.6501600677716777,
          2.8005081295505825,
          2.0106846318145095,
          1.026192975704617,
          0.8826209995591464,
          1.4018861885732585,
          -0.16219622891775853,
          0.2559954609722773,
          0.8691497060902623,
          -1.5011848488732085,
          -0.3200597277327511,
          -1.2944994042026114,
          -0.5456178840144865,
          1.8888243208696929,
          -0.572939617888903,
          -1.4908371626662962,
          -2.1898217107727227,
          -0.6979816378653593,
          -0.23905295474811789,
          2.4092943529985424,
          0.925767584987678,
          1.556674560348378,
          -1.0069374967242821,
          1.0084966732206222,
          0.9323963957092465,
          -1.0527303276752806,
          -1.2373064742887578,
          -1.061956511129074,
          -0.555544922273332,
          0.9788842536594277,
          1.0408259298766704,
          -2.842826397149774,
          0.5180488529611268,
          -1.6905110652741506,
          -0.3262885111416996,
          -2.1300316136128106,
          -1.1278168907275932,
          -1.2815634859617273,
          2.4684970360729097,
          1.0838583358054041,
          -3.1349782903342978,
          -1.6413306810627124,
          -0.4525027847066137,
          -1.9522743211029698,
          0.4836229107519198,
          -1.4563425687414335,
          -0.10987314385041667,
          0.6158576137099466,
          -0.5868950184257313,
          0.5769079407121173,
          0.9088328834540111,
          0.9740543609654362,
          1.4055402227803477,
          -0.4515041144129975,
          0.89181817281734,
          0.8975360796648466,
          -0.6621999979037609,
          0.9635875557455978,
          -1.225200516924067,
          0.8707039875644647,
          0.8253771930222127,
          1.0561426926150916,
          -0.9405407931339597,
          -1.8287828386842502,
          -1.354012449305034,
          -1.6069800221607176,
          0.3460117677467251,
          -0.48224370036170144,
          -1.079742157652023,
          2.0494423788017353,
          -0.686358986444104,
          -1.2312058155561414,
          -0.44080777346317485,
          1.9103928827399057,
          0.032705837403535165,
          -0.20996796039133658,
          -0.6289580764774888,
          0.5105359440905811,
          -0.9591936739663629,
          -0.6258817633061429,
          0.06520142346467452,
          -1.7822998845983415,
          -0.8405755615134118,
          -0.6824369774306267,
          -0.3050667357507057,
          -0.6683855409374215,
          -1.295209410343456,
          4.826559931350406,
          -0.3360372733285932,
          0.5404265351754717,
          -0.12259444631687084,
          0.4040503109581146,
          -0.43068633033445,
          -0.24231908854981132,
          -3.7463039154988134,
          0.39035402921085766,
          -0.35595835639309037,
          0.06001886261222528,
          -0.8933600247286154,
          -0.8933600247286154,
          -2.086516395357704,
          -1.7010795872307338,
          0.2606769403008016,
          1.0922593933929912,
          1.2345506751356514,
          -0.4882407877851738,
          0.4524186313225968,
          -0.8399721363552389,
          -1.5610763688475269,
          -0.5750562636036334,
          -0.8381301731828601,
          -2.7309258321583583,
          0.7874939756284252,
          0.4911950927440089,
          0.3774487375210184,
          -0.9967827441174418,
          1.201041381518779,
          -1.6818591537753849,
          -1.4601155094272038,
          -1.4601155094272038,
          1.201041381518779,
          1.0670428479199021,
          -0.4567946599848628,
          -1.224537885100141,
          0.6475400473459352,
          1.7194337387580427,
          0.4721520501796568,
          0.13514671558855068,
          -0.2806337788637908,
          -0.35412608462657513,
          1.0318573930800452,
          1.7208456743530542,
          1.3009344093014226,
          0.47899759126323666,
          1.8697348981141582,
          -0.5914828614287017,
          -2.0590376645165516,
          0.26757430621377853,
          -0.9853266239471642,
          -0.4604816004754515,
          -0.5391510807840104,
          0.9443175429761852,
          -0.25995302986961516,
          -1.0649853089125991,
          -0.23905742054502346,
          -0.7345811253619442,
          -0.08720400421957814,
          -0.048942049376886704,
          -2.86575963471272,
          0.6414594616910263,
          0.6520037893508114,
          0.2747868787312036,
          -0.08784013708631057,
          0.6768356895737324,
          0.35920674858526996,
          -1.3101377947307897,
          -0.06956410118681511,
          0.2187562703895297,
          -0.10658644268281466,
          0.3257683708684401,
          -0.29243541414912083,
          0.6336547576565382,
          0.3133456930887148,
          -0.5032505939465293,
          0.5371220456325416,
          2.37433771427201,
          0.2790429935717442,
          3.192275068124048,
          0.08380126477325618,
          -0.34517502480052314,
          0.616709899310489,
          -1.0792900548148616,
          0.14936143468670235,
          0.4447099327029953,
          -0.5114790901334088,
          2.1785293823189735,
          0.4572206020731508,
          -0.2555612326053285,
          -0.8074208670098872,
          0.9472386308757968,
          -1.2426905814373945,
          -0.3364176185262663,
          1.0736651373184183,
          1.1904782212570608,
          0.7623681292410863,
          -0.6732696472195168,
          -0.6440393410699303,
          -0.45697957291096114,
          -0.9355214742832689,
          2.992943722669249,
          2.726004010412569,
          0.571893250165847,
          1.588926021384985,
          -0.2064734849848284,
          2.503834748957692,
          0.29615014757154906,
          1.0846189796399643,
          -2.2022095311350616,
          -1.440451540650579,
          -1.2821572583643732,
          -1.0392645050027944,
          -0.8359784282430534,
          -0.3047987156006004,
          2.0729705769748694,
          -1.8586859035534302,
          -1.2049475634533102,
          -0.5032153485091934,
          0.33624312056904726,
          2.564961981122831,
          0.3017574318527011,
          -1.7667927291437866,
          0.8235435410088742,
          -0.22551329798238828,
          -2.7309258321583583,
          -1.6613392304245806,
          -0.501451220190224,
          -0.6092820716180157,
          0.8458223801724172,
          -1.9773985178392306,
          -1.0538519726242723,
          1.8607976208546824,
          -0.3395686494139341,
          -0.9174984834704688,
          -0.8125754547368463,
          0.14301701527301675,
          -0.43627379330685734,
          -0.9044991715514362,
          -0.27678921811505336,
          -0.245793074226508,
          -0.8244011946355028,
          0.929812447376307,
          -0.5950664354754033,
          0.4412507041863333,
          0.8445197390903239,
          -0.4650701320324814,
          2.131933849812742,
          2.131933849812742,
          -0.33139835788936045,
          0.4415323021122167,
          0.07998978375632249,
          -0.39632114260763823,
          2.131933849812742,
          -0.8155413081291473,
          3.171873475784778,
          -0.5190281872867489,
          -0.04992336453818264,
          -0.571952780999036,
          1.4382986039502834,
          1.0900669684738893,
          1.7843626906751475,
          0.10095590734268181,
          -0.6444052078607335,
          -0.6061843984291281,
          0.5550883374467295,
          1.5481209530840556,
          -0.781705170667406,
          -0.6388486423779024,
          -0.170902234011078,
          -0.326112181913293,
          2.3012225966724236,
          1.7357442769118547,
          0.04692563163928658,
          1.3344903152923009,
          -0.3115125472162602,
          1.540760346052995,
          1.5085799273169227,
          0.8075604130275315,
          -0.4410685895903901,
          1.1461892091104091,
          1.0750781640158051,
          -0.025287696876734315,
          1.0359956773490935,
          0.7940371917879292,
          0.010298079972029557,
          -0.231366644462223,
          -1.1263578380899126,
          0.348273568307388,
          0.7188007759804206,
          -1.2006685866016844,
          -0.48874919385379406,
          1.0511329441517379,
          0.7337050641208394,
          0.5801340207770218,
          1.7465185489496904,
          1.5845399675574994,
          1.2293627570567207,
          -0.06943785397606848,
          1.3142245990799344,
          0.3466877992177175,
          -0.32247279140588697,
          0.29009240219454363,
          1.274463103930159,
          1.9501468899176173,
          1.2293627570567207,
          -2.3742008151056506,
          0.8097924046763013,
          0.3257493828803817,
          -0.11367229774894282,
          0.5239443339764682,
          1.663746957651307,
          1.7453471747826559,
          0.19832259823786877,
          1.7258681710226267,
          1.4745753880275607,
          1.6228113586987154,
          2.126492838412721,
          0.30837059075439527,
          1.1642030880653826,
          1.1415398106539238,
          -0.025287696876734315,
          -0.6942782995410717,
          0.6062441505324659,
          0.8056575915427353,
          -0.9718696038331128,
          1.1846475025888186,
          0.22260393120987967,
          -1.1380333885721856,
          -0.42294171070276937,
          -0.9603842841299466,
          -1.2655864882816,
          -1.67430946827622,
          -0.9592325696676591,
          -2.2082757823500123,
          -0.761431112746128,
          -0.9283602915772445,
          -1.0003872778034175,
          0.33305942804359573,
          -0.19978661479337123,
          -0.09779050727088597,
          -0.3273231663866189,
          0.3299914922454802,
          -0.1732878731515419,
          -0.2181039074702137,
          2.0778770647655036,
          0.025489112912355092,
          -0.9418507803283741,
          -0.4804940299306689,
          -0.4777960559294714,
          -0.5236326235491904,
          -0.9163671842424641,
          -1.2884126387002224,
          0.7256755059981272,
          -0.536175477047158,
          -0.2000483183469509,
          -1.5613522001109885,
          -0.6142121203837293,
          -1.194131190809023,
          -2.1123758191296775,
          -0.747546210983972,
          -1.086255009417537,
          0.6072921779752919,
          -0.3597777472887248,
          -1.582108505581869,
          -0.1387686947914666,
          -0.003982163539606984,
          -1.7721004542251855,
          -0.1080063382461589,
          -1.7184551482442962,
          -0.7220600773571344,
          -2.008498131172689,
          3.7855980781445653,
          -0.624532315397707,
          -0.18114110937883557,
          -0.022800292142004,
          -0.15263025560776525,
          -0.18879500559028614,
          -2.323447975853464,
          -1.6129585756299762,
          -1.9259738186536457,
          -1.4099877285403837,
          0.106618602077963,
          -3.2055384867100996,
          0.5323072652927329,
          1.8282937839211013,
          -0.6155007542491495,
          1.312255095015004,
          0.682219210878265,
          -1.0354897180880536,
          -0.45676528942886657,
          -0.8453131010072431,
          -1.9210975153315712,
          -0.6527180829080166,
          0.02426250545143722,
          -1.124755304395191,
          0.4014556948454019,
          0.053466258378492226,
          -1.706580520738779,
          -1.9235702921852253,
          -0.6810658577223939,
          1.6164448236652194,
          0.09441690780118595,
          -0.575734776416167,
          -5.324849710991188,
          -1.807005782716965,
          -0.02122469233578024,
          -0.8179812815431708,
          -1.3805997531516436,
          -0.4252552251575248,
          -1.152342456182803,
          -0.6194712237286693,
          0.27354114752552106,
          -1.2756162640421738,
          1.7770619659271776,
          -0.45488241736513674,
          -0.42176108068622514,
          -0.6384313705147725,
          0.39834270537014554,
          -0.18775644327673438,
          1.6973069926470388,
          -1.5495981205691756,
          0.1937997624785218,
          0.4813935019603182,
          -0.2051231030281108,
          -1.0982469509352004,
          -1.5081390298152688,
          1.423517603838815,
          0.8841847068181862,
          0.2093295113807383,
          -0.5197990686970083,
          -0.7780011535498272,
          -0.08477339014202859,
          0.7143393983015907,
          0.13736835214689747,
          0.7007718477066575,
          -1.0091976515141237,
          -1.0020222624106268,
          -0.7434581785609048,
          -0.7805593020332078,
          -1.3122341658827263,
          1.0170344495471035,
          -0.3040733125345661,
          0.08946315030054446,
          -0.31230681270171434,
          -0.16456801441915672,
          -0.2049495698588338,
          -0.0799155781155286,
          -0.4800402335682119,
          1.0418746296709638,
          0.41832376286280326,
          -1.0277443701394253,
          -0.6611049658549479,
          -0.6489680497255816,
          -0.38526083549146883,
          0.1744841053717813,
          0.524833900963763,
          -0.4352913993616479,
          1.1609463777718714,
          0.25898520090417554,
          -0.42691453943558744,
          -0.646404636286772,
          0.42815031752520866,
          0.432738846033825,
          -0.10281476747520112,
          1.7409198864727404,
          0.5389720184815597,
          0.2021375589873247,
          0.799508425445171,
          -2.223335855145659,
          -0.29818416988592805,
          0.4103470932355627,
          -1.18393670284716,
          -1.1071412055199377,
          -1.1559737393615064,
          0.44715157638806835,
          0.7108677100843096,
          -0.48733428196600553,
          0.6078594827312367,
          0.14936260868723802,
          -0.5306247834551362,
          -1.4600986525329198,
          2.1588799721449337,
          1.4175724059415655,
          2.3234746462337363,
          -0.7264340924704055,
          0.5380051620704821,
          -1.5551401795197886,
          -0.23681909680485663,
          0.48309881468211197,
          -1.6654053221269012,
          -0.7714833608045434,
          0.4358784205841089,
          -0.9528768477392702,
          -1.6818591537753849,
          -1.1853532984892918,
          0.03981564058481293,
          0.4276802732664123,
          -1.143932010167259,
          0.488120039268685,
          1.0666625856504668,
          0.011626124047278998,
          0.5060631780243209,
          1.4863001605179262,
          -1.284496768517747,
          -0.3713389048807128,
          1.964001700166659,
          -0.16778180715887123,
          -0.6040355782456603,
          0.29178307745410037,
          -1.4741218575235393,
          -1.1120222115701324,
          0.30596236372108626,
          -0.43793654039099866,
          -0.5672204471636574,
          -1.4898328117949928,
          -0.4367731715365494,
          -0.9923148417845826,
          -0.20902437743052285,
          -1.0654567706274032,
          0.777009725299212,
          0.33401701714382753,
          0.5252445248516968,
          1.81556096787875,
          0.5081082583965754,
          -1.7117626410225566,
          0.49594484497374886,
          1.74187720236531,
          1.4017740558582399,
          0.28192218743011704,
          0.13536712504467519,
          0.07841349962985668,
          0.6245229490939137,
          -0.3594263708981443,
          1.7406762762745653,
          1.7810790132391274,
          1.6140113589621876,
          1.6826908295445575,
          1.2215784649122432,
          0.9220277790772237,
          1.7617395286963518,
          1.5690767467252897,
          2.723356457630178,
          -0.47763708031993957,
          2.1233022870016143,
          -1.1063612328205044,
          0.1099350132215829,
          -1.6569223971159337,
          -0.7710263136821087,
          0.6354891072036849,
          -0.935076096144232,
          -3.154052361357528,
          -1.2137938729879851,
          -0.8438981481839068,
          -0.912537509800452,
          0.2368117634646995,
          1.7845842030479502,
          1.9879280654500127,
          1.8873203415832422,
          1.389082085230539,
          0.5250577760428061,
          -0.6949754865209046,
          -1.618776096908661,
          -1.0019065974555355,
          0.4632721312759803,
          -0.1628034037795059,
          0.9104905958323072,
          0.42987233925511215,
          -1.1802309291515336,
          -1.1011781151568407,
          -2.4095640228892576,
          -1.1367904663450719,
          -0.48103855836934223,
          -1.2429177650114938,
          0.6135342320569045,
          0.06955499887095269,
          0.8825057082452511,
          5.661064469750129,
          -0.16173252619485082,
          0.5077876996618896,
          0.4014556948454019,
          0.6099267306357656,
          0.7221971732916767,
          -1.1482497042279078,
          -0.3069504230571494,
          -0.7545499809956936,
          2.3277517381735,
          0.2468691144837994,
          2.4368300251600674,
          0.34348520895982704,
          0.5893342154021578,
          1.0175082866881142,
          0.642823048584525,
          0.0860127515403318,
          1.321632533798586,
          1.7160008601508694,
          -0.5715956896217784,
          -0.8386394424269176,
          -0.3763273731968042,
          -0.004324987100124047,
          0.8203433536037107,
          0.9161667510871516,
          -0.14941271670467593,
          0.6042109943935766,
          1.0137097562146553,
          0.13603763028618543,
          0.528316348789124,
          -0.7549928952607798,
          0.16600454255353433,
          0.9505098176612312,
          -0.12126743768402128,
          -0.2766010244296388,
          0.28234405241929095,
          -0.6505340216336422,
          0.5842145967287784,
          0.5598043266791899,
          -0.45918743614202345,
          1.1835659275212314,
          0.747610936615994,
          0.0904243598638378,
          -1.1641913972188573,
          0.5884791515413877,
          -0.9406279038400535,
          0.18524942989997553,
          0.19004799950629842,
          0.8947453894033441,
          1.5051506536341914,
          0.8918238940497799,
          2.913545690631475,
          0.1953504054885108,
          -2.134704275267391,
          -1.09634414271706,
          -1.09634414271706,
          -0.1798493552588915,
          -0.8950542673028776,
          0.42475557998045,
          0.5831053065264418,
          -1.0849805099308256,
          -2.842826397149774,
          -0.9306059402806285,
          -1.2361284238426484,
          -0.9994364223214964,
          -0.8532624380946279,
          -1.2052063378789553,
          -3.0064137891182634,
          -0.7091852339985261,
          -1.0871716684012829,
          -0.5411080761057507,
          -2.0616820132566858,
          -1.8606143982219328,
          1.0730684436328812,
          -0.5750562636036334,
          -1.4422160971020879,
          0.18867895860109196,
          -1.3758920059641688,
          -0.5901899611195255,
          0.9140536000059578,
          -2.355220982919509,
          -1.1982458217628018,
          -1.435492445988598,
          -2.282372401763113,
          -1.4495411317022104,
          -1.3961646106574357,
          -1.2322459853919865,
          -0.6873446047620438,
          -1.3331003309856064,
          -0.3457065151016717,
          -1.6510206389647337,
          -1.255049925858342,
          -0.6079438902660623,
          -1.37617510482597,
          -1.5947288333897771,
          -2.7568151461037647,
          -2.097517448153195,
          -1.7890453009986347,
          0.26938140551560064,
          0.6810389452681582,
          -1.4846548825159867,
          0.7411803149126368,
          1.9235878436744376,
          -3.165362786607465,
          4.826559931350406,
          -0.08741851902060346,
          -2.067410691673394,
          -2.968734440754031,
          0.9064658020706673,
          0.7987656364710317,
          -0.5571382455449461,
          -0.29859931598262074,
          -1.1430498587646893,
          0.4817104725042966,
          0.24316610774922648,
          -1.280571140894985,
          -0.5518033813859746,
          -1.1406132411762948,
          -0.628145144868728,
          -1.865098767014218,
          -0.07153712703737483,
          -1.594756060854443,
          1.4829391941009868,
          -0.03041744399149695,
          1.9025446924993963,
          -0.694786818419821,
          0.14542983433201515,
          -0.790242093431939,
          -0.4958217071530857,
          0.42339057899310534,
          0.7902407593582317,
          -0.32635118487361126,
          1.1445857085486668,
          0.8799311581112478,
          -0.943943834061549,
          -0.4296076407966239,
          0.667091240469467,
          2.2933766544371132,
          -0.4854428229005883,
          -0.7261160220215095,
          0.6223149471238187,
          0.16143317928932585,
          0.777009725299212,
          0.4494073239760201,
          0.291726199893272,
          -2.8559660325114824,
          -2.8559660325114824,
          0.6559230533819491,
          1.4062937358818364,
          1.0147877716635725,
          -0.2578256762650199,
          2.161647716158943,
          0.9725077360054175,
          0.5566877659983673,
          -0.12451622959309941,
          0.386841093848867,
          -2.274267147404117,
          -0.5032745309280652,
          0.4632574382839326,
          0.24131108774216087,
          0.43473066937476096,
          -0.48608191553884994,
          1.3493684929291607,
          0.5291162113167038,
          1.368883238313568,
          -0.7445120828736299,
          -1.4873373485364951,
          -1.4723501299578943,
          -0.5094951483576853,
          -0.662636027799376,
          -1.0397485474220631,
          -0.5147913976645289,
          0.6622361023624532,
          -0.12984942660822182,
          2.5095452655965,
          0.034388253828876766,
          1.6820118145061878,
          -0.22151898410253845,
          -0.4154576536923461,
          1.8643364588341307,
          -0.6931916182715615,
          3.389284322513327,
          1.688812565147578,
          0.7724804102748117,
          -0.027114204062825043,
          -0.44158173588629035,
          0.8066569243264375,
          1.3009605925765593,
          0.8036905200841327,
          1.455185427801066,
          -0.9668417120819942,
          -1.601125401614482,
          0.42396345440319444,
          0.9768693414114824,
          1.6643262992104426,
          0.6616282733623549,
          -0.07493749940942522,
          -0.05341915052324981,
          1.5817331684268627,
          0.2508037832268158,
          1.4150167553021802,
          0.946462461411539,
          1.7854208091586656,
          -1.8986513450642613,
          1.6602819900696841,
          -1.2797034194713308,
          -1.227869843978145,
          1.538207925110095,
          -0.9416686159265002,
          0.2595421804552364,
          1.0825135388044318,
          -0.4795650203233553,
          2.5234170447632405,
          0.5799128089869485,
          0.8994140052267818,
          -1.1652508706177407,
          3.541066134530154,
          -0.6151603064563305,
          1.2037797236775691,
          -0.19189490558533798,
          3.774095350032427,
          1.4190247050955036,
          0.4605236227815451,
          0.19506465400558118,
          0.8894868952712885,
          3.4923409189643344,
          0.5095306889194515,
          2.5580337274539624,
          2.941329603563372,
          2.958537628387945,
          0.6664854167602084,
          1.2751122185381865,
          1.085854990563483,
          -1.0223874893828686,
          -0.489612231152238,
          -0.8883453305418869,
          -1.0527146426813943,
          -1.597967213088473,
          2.4205435798085686,
          -0.018409808694464055,
          1.315003907583431,
          0.05034428153885843,
          1.2175238766675403,
          1.4513188974470825,
          -0.7764384500968172,
          1.4989831502198447,
          -2.112028615171623,
          -0.8242950319505031,
          -0.7193176773642307,
          -0.5324102979469502,
          -0.737757044158716,
          -1.7549264883420415,
          -1.1175832891565356,
          -0.8167610018597038,
          -1.4246076648562238,
          1.921009491852299,
          2.5107890898612344,
          -1.0983810149208884,
          -0.31907824241307925,
          -0.7018982279762479,
          1.1118432949722439,
          -0.43925124042931846,
          0.22403578221356693,
          0.6909457256744199,
          0.13117975779423183,
          0.17250022808780618,
          0.6909457256744199,
          0.8801445212944208,
          -0.1726494324053845,
          -0.9571843923901097,
          -0.3418744272736634,
          1.2354223195199223,
          -0.4772773599784333,
          0.6744175097128883,
          -0.40133533548180855,
          0.024502695165668418,
          1.0114888345052584,
          -0.8582289768525627,
          0.9394174796720568,
          0.41812138172327307,
          -0.8914675871467128,
          -1.5430309314244661,
          -1.0478864536138919,
          -0.5196969124319165,
          2.0933789127353672,
          0.04095302452669406,
          0.9543876770247651,
          -1.2613527108263551,
          -1.34976988750324,
          0.10155215220949046,
          1.1395224978776364,
          -0.6224926824437803,
          -0.2996109399795979,
          -0.03876120335108556,
          -0.3328413481692128,
          2.194871046268543,
          0.3926654752334099,
          -0.7082917138338345,
          0.2902319832740682,
          1.3922680305445827,
          0.6626605141152968,
          0.6693446790274982,
          3.8268321408784565,
          1.0358556804491132,
          1.8888243208696929,
          0.9430672461585772,
          1.2597163972076533,
          -0.8635581785887425,
          -1.6236929721271751,
          -1.2939500198084322,
          -1.6971954084152092,
          1.9663728384182144,
          0.5163649992284967,
          0.500420655392449,
          0.1409209811682243,
          -1.386496535851085,
          -0.02516930509482904,
          -1.1102871922238393,
          -0.7901974202446426,
          -0.8316780531167169,
          -0.6670526559898636,
          1.4554367646834048,
          0.9890710951795659,
          0.9287715899499599,
          -0.5819582864843366,
          3.1033319622259383,
          -1.2547084597372233,
          -0.5922012386467981,
          0.44359553061128804,
          -1.1720025427993501,
          0.1301078402567253,
          -0.8263097141400616,
          0.5077876996618896,
          0.9391439233166066,
          -0.8361202369462665,
          -0.417104459169823,
          0.7424716521704868,
          0.613393500674937,
          -0.6458383516302345,
          -1.7510201157210323,
          -0.3198383314567123,
          -1.4596407954660353,
          0.3245641073323014,
          -0.43057562980432895,
          -1.1280657628897415,
          -0.46563576744897606,
          1.2702245745656164,
          -0.2196527357209852,
          -0.6328920510936784,
          -0.6988975412607067,
          0.7686819591582696,
          -0.8578855206836955,
          -0.6751035437408788,
          -0.4860554777818952,
          -0.6387093576147195,
          -2.300355427669758,
          -1.408986963739952,
          0.5329524166170334,
          -0.5503229283988327,
          0.2649669251071387,
          0.16553005113670335,
          -1.7294067262714852,
          -1.5577347517846203,
          0.7672821803529799,
          1.2004658861734119,
          1.4061401453545943,
          -2.3501932035980477,
          -0.08627299783939482,
          0.8446557092574365,
          -0.6487851809748283,
          -1.714959465092681,
          0.0013927407355461968,
          -0.6547324029556011,
          -0.6716498259605369,
          -0.23597623740894427,
          0.9064187971729895,
          0.8189954933017366,
          -3.9657535964109307,
          -0.11703497197782463,
          -2.2567515427796607,
          -0.0941045230493226,
          0.3812586717201818,
          2.6976463366124,
          0.5131120537669243,
          0.9959213711304625,
          -1.2402689930457067,
          1.562897244244003,
          -1.0607416100157305,
          -2.2567515427796607,
          -0.956787739997808,
          -1.7290648744164652,
          0.20449305184851477,
          -1.4239004176118468,
          0.24505719072753535,
          -0.25033575125748786,
          -0.05687280290597455,
          -0.061435918394809566,
          0.738566949401597,
          0.21719128364850013,
          0.7781800659952607,
          -0.6563513629989088,
          0.6651735153459148,
          -0.8660248605849145,
          0.10023142404119624,
          0.43555699753972577,
          -0.2041627944480559,
          -0.2306611770102454,
          -0.8316304566337253,
          0.7676614983898067,
          -0.2407920173599845,
          -0.2615215886055991,
          -0.4112232069567626,
          -0.8988800994715395,
          0.33369412234070567,
          0.6860578631441901,
          -0.495121405062593,
          -0.05956019009530182,
          0.12075812107373557,
          0.4444178437987879,
          -0.6616514069680495,
          -1.4117539522982123,
          0.27815757325230844,
          1.243929359758918,
          -0.2352310758254058,
          -1.292276764691031,
          0.13248114283797727,
          -0.5926544520710928,
          3.116286769732264,
          0.2378234107972406,
          -0.6096458997580944,
          -0.6930003232440001,
          -1.1323136221586476,
          2.1986968196259036,
          1.1580810480104051,
          1.2457790474239903,
          2.390098384649924,
          0.24373481668967076,
          1.092435047216301,
          0.29035429531492263,
          -0.22221128725045877,
          1.8975682273569174,
          0.02128656045971406,
          1.3744385074292986,
          0.015710810497531112,
          1.929084592899792,
          0.19741899494320256,
          2.316189655961485,
          0.8430468316977238,
          0.7314162765751032,
          -0.7154802731598995,
          -2.200464925014332,
          0.7920409187021298,
          -0.5335446105803952,
          -0.6116306323663964,
          3.603182112776729,
          1.0162723217827376,
          2.59783063731954,
          1.0108598689274586,
          1.0938512321728955,
          2.2513235929449396,
          1.577004209806863,
          1.3467527027553337,
          4.185024132169868,
          2.0897495005941056,
          1.0383832443919574,
          2.3508458837380335,
          1.2583716721302378,
          0.7401609265457814,
          2.1602288633856848,
          -1.7852850671989071,
          1.0456398874007038,
          0.028154177287874928,
          -0.9361637998069952,
          -0.5220718237448789,
          3.513969831465876,
          1.113180457402913,
          2.537556457175952,
          -0.29017001406721793,
          -0.5300761897294407,
          -0.2569306475472514,
          -0.31426621774134694,
          2.5566765197541934,
          -0.03293520236964126,
          -0.19885795871475198,
          2.401645428187082,
          1.0351778267918135,
          0.6444849876155515,
          0.028306074933144708,
          -2.116290243984475,
          0.002363599937538823,
          0.11962982789438995,
          -2.3475492425405373,
          -0.9201381858244987,
          -0.9743563680480051,
          0.685502885275577,
          1.1370901144624275,
          0.5578793427893984,
          0.26544876172433285,
          1.4026574288018112,
          -1.1982458217628018,
          -0.45983998099859624,
          0.004144946964964894,
          -0.12385926837783219,
          0.9074993270322219,
          2.966117634830431,
          0.2337305855333524,
          -1.0639389150223348,
          -0.4622098125985694,
          -0.29805267115109274,
          -0.5943153326486944,
          -1.6613392304245806,
          -0.3679066722953556,
          -1.0497134604561402,
          -1.3494016832394522,
          0.7991499058784427,
          -1.6325913148629336,
          1.6707445011481414,
          -0.9660544362186665,
          -0.6556564907066526,
          -2.0606593454143716,
          -0.9655688502559364,
          -0.6386814446471761,
          0.3922359770881075,
          -0.8850916940287171,
          -0.37443829851879085,
          -0.8776851115060588,
          1.0174448376284786,
          -1.5475653090429127,
          -0.3476754195333703,
          0.7476935362147709,
          -1.7158149473483164,
          -0.10726619418296303,
          1.1371005994234742,
          1.1252714892569755,
          -3.393722940762187,
          2.0080019600142687,
          0.3406402701807245,
          -1.9378358956816633,
          -1.6406240108949215,
          0.36113796281649524,
          -0.11848794556724322,
          -1.385977597210931,
          -0.8010825313436098,
          -0.6575570841874535,
          -0.8394366975160793,
          -0.5271531372802974,
          -0.6114212774880586,
          1.5845151521137213,
          -0.46437605375359475,
          -1.3018832532958382,
          -1.1516668256705374,
          -0.8751633821228607,
          -0.8847666158004623,
          -1.1693233863795687,
          1.7741759054637476,
          -0.08797624049417582,
          0.003121604499785716,
          -0.2194826927177582,
          -1.4655689988816678,
          -1.5463730166337253,
          0.40327617661500553,
          0.7755578306120968,
          -0.7059657906162844,
          0.5503898665299507,
          -1.1182317836598274,
          0.5624036751698467,
          -1.4549911125915864,
          -0.6621999979037609,
          -0.4681495641372816,
          -0.48704101382320125,
          0.3301093954190307,
          1.0408259298766704,
          1.4738730430602929,
          0.5156531889061468,
          -0.015715671755880532,
          0.6860578631441901,
          1.2872874286237443,
          -1.732851809599339,
          0.6959769757292272,
          -0.007669339267966825,
          -0.026276856447328974,
          -2.363964118673273,
          1.1631494108116522,
          -1.9638694381659392,
          0.5622885515036912,
          -1.187031973934585,
          -1.2154061426403067,
          -1.4566505898126196,
          -2.265914905684872,
          0.17948450776703892,
          0.09855330331148839,
          0.7424716521704868,
          -0.08219381352159326,
          -0.8236358611214701,
          -0.48352969560008746,
          -0.16310794825620098,
          -1.3903335627467313,
          -0.25239003901778256,
          0.4873161663951002,
          -0.4786048260815288,
          -0.31959440173335957,
          -0.42283836051147977,
          0.4615724899439215,
          1.334594913341495,
          2.1353388542792664,
          -1.2603689420633668,
          0.6396464239450999,
          0.7174376136046132,
          2.3452729670637287,
          1.3733289406188662,
          -0.5966630580451387,
          -0.8228496570941336,
          -2.416942245443602,
          0.933635051474127,
          0.933635051474127,
          0.23664873280865276,
          1.2386911146487714,
          -0.541884165409743,
          0.8575279188846332,
          -0.7605992017394533,
          -0.23040106781687458,
          0.541136795533093,
          1.3618413519709824,
          2.4571862199258647,
          -1.4898216303774774,
          -1.0689235689502783,
          -2.0465134097188775,
          -0.9547823761436247,
          0.8758128302585273,
          -0.5020453808359189,
          -0.8450034896699796,
          -1.1505866051408824,
          -1.0162719172752042,
          -0.6633142881216197,
          -1.6697928510711915,
          -1.3533738902887813,
          -0.9919352561058702,
          -1.0803934023175588,
          -0.6401416299877911,
          -1.3024094498395524,
          -1.5274633223822718,
          -1.881636991596234,
          -0.6241541934765892,
          -1.108751387261616,
          -1.0937437785451847,
          -0.5769655569107683,
          1.3501165937602142,
          -0.6835707776462031,
          -0.21333495891230875,
          -1.7208881667392972,
          0.6069933473401411,
          -0.9485578909088214,
          0.34063800496898133,
          -0.6728024875104731,
          0.009588568549990415,
          -0.3318682072964192,
          1.2099337331859257,
          -0.0435165388901511,
          0.4724973084177498,
          0.16670061782510223,
          -0.45983998099859624,
          0.8379678502770379,
          -1.866808391639631,
          0.3913490107035035,
          0.030032344428861674,
          0.3334601091239056,
          -0.410994628559078,
          -0.747628110827674,
          -0.5327999702766636,
          1.4165753877023466,
          -0.9778755269931516,
          0.5343302360287085,
          -1.1023076661037092,
          -0.8610990263499377,
          -0.7747711983975597,
          -0.14363907758537056,
          -0.9146586648127389,
          -0.9765413938527097,
          -1.7663661393860066,
          -1.1307289608189788,
          -0.708733553676394,
          -0.5947383472184796,
          0.07306755370479573,
          -1.515879694964565,
          0.6613108686606795,
          1.1286274880828175,
          -2.058197767187705,
          1.0677052103269244,
          -0.30124592352344115,
          0.4257801498878071,
          -0.40263933571266297,
          0.29896759070688095,
          1.628563669796179,
          -0.6663501829263678,
          1.8664334683739907,
          2.4203579302843807,
          -1.1092347492996701,
          0.320084147517438,
          0.031691890126981134,
          1.1160776457145447,
          -0.4394565205823322,
          2.089830979623218,
          -0.7570751399473796,
          -0.7746598120563295,
          -0.38653891891373365,
          0.25707335983407215,
          0.0632989012921855,
          0.33736198173459303,
          0.22643180698531054,
          -1.3546107260806566,
          0.800202503960089,
          -0.8889081107644096,
          -0.7286812887095755,
          1.3078694865346505,
          -0.611430259190771,
          0.546666760070321,
          1.8234840719083283,
          2.2518211503014944,
          1.532745181088449,
          1.692037882897695,
          0.7022921431888597,
          1.9109285289174855,
          0.280448461465325,
          -1.0498417887903482,
          3.603182112776729,
          -0.5242582112536153,
          0.7861182653546245,
          2.0403271912218037,
          0.16893016132376545,
          -0.08526345403740444,
          -0.01102414073962683,
          -0.7916755386423814,
          -1.2147270836405089,
          0.7724463413233452,
          -0.3037457413035942,
          -2.333542719980757,
          -0.3562168495073639,
          0.12430303586946556,
          -1.1706210899866971,
          -2.3606274464677366,
          -1.6367819175495613,
          -0.5023576395671423,
          -2.7309258321583583,
          -1.2423446127955204,
          -0.838647032770634,
          -1.0079198521398585,
          -0.22761893527393617,
          -0.42160553228633296,
          -0.9631389674046106,
          2.4898319782499576,
          0.734374019759689,
          2.1153640634076116,
          0.13724873880508376,
          1.0125213152896428,
          -0.3700529157494553,
          -1.7815300896312858,
          -1.188730482761492,
          -0.24042744331689955,
          -0.6167239342012006,
          -0.973447676182659,
          -0.5688906477444726,
          -0.48616722062179324,
          1.0076600514519978,
          -0.3015057633668334,
          0.1289729471511793,
          2.530930018505618,
          0.9337858603263702,
          0.8418091510500216,
          -0.9333434321358227,
          -0.1939749631170663,
          -0.5671126380023062,
          1.5106561492724935,
          0.1807485566750753,
          -1.046362782222971,
          -0.7333067303892996,
          -1.0246191375816256,
          0.8689648267049019,
          2.4131387627924696,
          -1.0475814842246272,
          0.9736919192976674,
          1.7212392934745615,
          -1.34290037129142,
          -0.5792383396463372,
          1.3474157429635831,
          1.2378265189856177,
          -0.6277344905438709,
          -0.46693744531297204,
          -0.6195438014522843,
          1.424928249001409,
          0.9643381077505964,
          0.11165727459267737,
          0.9643381077505964,
          -0.12094841593245027,
          -0.4345154977397191,
          -0.8717228134320252,
          0.15079746470859745,
          0.27797908953692285,
          1.1894891272965964,
          0.13692337593367704,
          2.295129874378308,
          -1.2426905814373945,
          -0.34856941623504883,
          0.30276431226281203,
          -0.9565041870588185,
          -0.03455778115238335,
          -0.2352821550030295,
          -0.2877116065230754,
          0.33490144838208896,
          -0.551980114793051,
          -1.6671675160620292,
          0.348365571432816,
          -0.682932282691261,
          0.10279951612119999,
          -1.9959511402427075,
          0.26851184677195306,
          1.9946169248668237,
          1.8483060822592732,
          1.0554925588676225,
          0.21879040449048326,
          -0.13570197581661234,
          0.9851968861900031,
          1.0680519747125834,
          -0.942394422287123,
          -1.3267365895545926,
          0.23792831775974316,
          1.0906730354380958,
          0.8260360840052899,
          -0.11461723951061635,
          1.8404077114195698,
          1.0823540919940662,
          -0.8687738626484472,
          -0.5914828614287017,
          -0.8089063660175038,
          0.6170449549147407,
          -0.0358007229381861,
          1.5913428281037125,
          1.3560670015995717,
          -1.6287481707392586,
          -1.2933490428322199,
          -0.676348585196238,
          1.1830106693009694,
          0.6030493268732692,
          0.3823904837157779,
          3.0241485166452984,
          1.4320445004928852,
          0.34228297341502345,
          -1.4187000715910476,
          1.6814999864821387,
          2.799421051795825,
          -0.04549238763922077,
          0.4657414169487385,
          1.4198239456029456,
          0.5888953615807208,
          1.0444386933204304,
          0.5964434905315003,
          0.08844995393029698,
          -0.04549238763922077,
          0.8977977758332244,
          -0.16885058170457815,
          0.5983088128366488,
          0.6667441748139562,
          0.11485247399156034,
          -2.5769252053016793,
          0.23909640755805678,
          2.2487561906623954,
          2.5387340249432415,
          -0.056325911547831765,
          0.5964434905315003,
          1.9783020811682748,
          1.3560670015995717,
          2.91606897591838,
          -0.6225797561996624,
          0.25594206718460477,
          -0.2907244207600347,
          0.37573869502044344,
          1.5556309456722235,
          0.4506309276092265,
          0.7757854374142354,
          0.07431941987263287,
          -1.308092523098242,
          -1.3524345982935697,
          0.293609176819995,
          3.309915508156948,
          -0.5551636406866707,
          0.5675987166081103,
          2.6461398776378866,
          0.03399799833090092,
          0.6786040056615545,
          0.14923360423841836,
          -0.45591360084023724,
          2.9465579423623587,
          1.9486015356312567,
          0.6937156146030244,
          -0.6479161411275307,
          -0.16832643560406588,
          0.9206331889506522,
          -0.4507613510772847,
          -1.6238548107932522,
          -1.714959465092681,
          0.8246937348674207,
          -0.604681098319159,
          0.9951455987502085,
          -0.49439614316897246,
          -0.19789301436615045,
          -0.17763361203952588,
          -0.08113594162833039,
          -3.591928184508258,
          0.015192898637177423,
          0.41832376286280326,
          -1.3430396251065302,
          -1.1533387805480788,
          -1.5144988077562602,
          -1.590958155769707,
          -2.3456999619452232,
          0.5187929455099787,
          -2.0068878431165404,
          -1.5610744785887543,
          0.40272432155177135,
          0.38857174117138493,
          2.4711907619370588,
          -0.21414035832918332,
          3.0020429581390813,
          2.4311389903409193,
          2.8822811672315227,
          0.9642980521378581,
          0.007995287376183352,
          -1.4448575644382056,
          -0.21558652585747465,
          -1.0494337432873817,
          -0.16881431329935292,
          -0.7392065333258876,
          2.179099357735235,
          -1.0820263567320565,
          -0.5618613817516008,
          0.05919103367562592,
          -1.0420534653157905,
          0.12324047273321422,
          -0.0662418453343929,
          -1.5632894769170884,
          -0.204555173381527,
          -0.2825690317516726,
          -1.7373472894249387,
          -1.0465870893288505,
          0.571893250165847,
          0.031844458972237734,
          -0.012659131268618088,
          1.0406554362647782,
          2.080718977326507,
          -2.2215790057935068,
          -1.2942306228088367,
          -0.9232671973085157,
          1.6648500226504834,
          -2.2517164433175387,
          2.227919979383779,
          -1.4934305722339845,
          0.06759763053874211,
          -0.4220085249074872,
          -1.6224994565962776,
          -0.8568498421627413,
          -1.7156119083516972,
          -0.40181400052584687,
          -1.9183111465675238,
          -1.0284176661154831,
          0.5662509076481989,
          -1.9360921290485085,
          -1.366197026777161,
          -0.4790532667477206,
          1.5323961175618497,
          0.6372584903149755,
          1.373379897638389,
          -0.5126351469976411,
          -0.47065776417615623,
          0.000585160465055517,
          0.8136001906911969,
          0.3899702635827674,
          -0.39546104811196936,
          -1.5825523645928878,
          -0.9178690058179535,
          -0.3820309089909233,
          0.15708317010829814,
          -0.9806604314366197,
          1.2573912397734042,
          0.5631582113333903,
          1.1114556668423172,
          0.19309430754008167,
          -3.0573576367230806,
          -2.796405090095435,
          0.44419319813299,
          -0.542562172763517,
          -0.8201583062849651,
          0.3751431940363826,
          -1.0223780840942391,
          -0.6070712876472273,
          -0.9624492068779513,
          -2.023747135601469,
          -0.08741851902060346,
          -0.20462864179538592,
          -0.08910926007142654,
          -2.0591628392523122,
          -1.1745357862551735,
          -0.6346088648189903,
          -0.5491745735456003,
          0.5095716897531266,
          0.806540610499241,
          0.7411803149126368,
          -0.8558821629061256,
          -0.3657681542279352,
          -0.5309994855824152,
          -0.5213994519208948,
          -0.8095689157079915,
          1.1265825463110377,
          -0.2098294744407501,
          -1.132394606692694,
          0.22119401719295417,
          -1.1950493627964554,
          1.4025390812695429,
          -0.575734776416167,
          -0.7264869106374366,
          -0.7415878471844226,
          0.06951336384573517,
          -0.20446565868520675,
          -0.01879031406313719,
          0.031392890711786935,
          0.35067005623607506,
          -1.1128956328696082,
          1.819586892795905,
          1.87130139515688,
          1.9181525956534942,
          -1.7186688480437655,
          0.8757893106119181,
          0.17563027053701138,
          -0.6929183840508975,
          -0.2872600209762645,
          0.2080940661331768,
          1.7764954026041302,
          -0.4085731850932806,
          0.029405535122963625,
          0.30289029594966627,
          0.9923583707665753,
          0.4337799548368599,
          -1.3564329550862644,
          0.5863758368736303,
          2.9239327364249355,
          1.0230580147774835,
          0.8397768146241382,
          2.5716091789550606,
          -0.3927468362995106,
          0.3103645893388289,
          1.2122221199360657,
          -0.9105271986614408,
          -0.42313549349462987,
          -1.5022933704705312,
          -0.39581140385400826,
          0.110579805835807,
          -1.1364627595215153,
          0.9890710951795659,
          1.6893322614019701,
          0.9299479085907835,
          -0.45259687761377726,
          -0.74487469556272,
          1.8574219818393172,
          0.3162113284328103,
          -3.591928184508258,
          -2.771569951986069,
          -1.0936649608603806,
          -0.8987367758535382,
          -0.7144851932041151,
          0.08471793830475373,
          3.402325258536719,
          0.5915376393811416,
          0.19594602619168594,
          0.03596508498121913,
          -0.7572787491134755,
          0.4800421604906775,
          0.5277834265150164,
          -0.07029951988053197,
          -2.6459203144839774,
          -1.398374351634162,
          -1.787507763377892,
          0.8485646204971756,
          1.2059329792106657,
          -1.724161070808914,
          -0.4721562361789354,
          -0.8206980878304456,
          -0.9083842640904375,
          -0.7454847813329033,
          -0.7426614340923902,
          -0.5761116798393009,
          1.2630604906993124,
          -0.9648409921390879,
          0.19368622313439937,
          0.9996039142658527,
          1.1575246422378065,
          -1.0936649608603806,
          -1.0936649608603806,
          3.0241485166452984,
          1.5817331684268625,
          1.645258276171447,
          -2.4045788380748374,
          -2.457424990644713,
          -0.5475715725911343,
          -1.3098373709567708,
          -2.0126521925813647,
          -2.462051030380869,
          0.48391822240133364,
          -1.40914838307786,
          -1.5557878439244388,
          -1.7104659017896566,
          -0.14939377576964638,
          -2.0027033980752855,
          -2.2204584178167055,
          -0.9119564427723754,
          -2.22090312331418,
          -1.7536558307851144,
          -1.376443720504268,
          -2.539680899330996,
          -1.9288195091233993,
          0.45865280287596116,
          -0.7370750659682033,
          -1.4238717798777536,
          0.31313785015723405,
          0.031646261329057214,
          -0.9437787672942042,
          0.42203314767341604,
          -0.19189119093840465,
          -0.5211679048184946,
          1.883607692357037,
          1.254625917650511,
          -1.7980071100359731,
          1.6046581333958085,
          0.5308244007763809,
          -1.4677050692393332,
          -0.07553356999426526,
          -0.937130006178033,
          0.974412936141931,
          1.08083278607342,
          -1.3498838940521065,
          -2.638297609738097,
          1.1075741810946964,
          -1.1968544636420653,
          -0.049851570017733667,
          -1.3368586236919524,
          3.3802062358742018,
          -0.9362765548657965,
          -0.851230222520363,
          0.8312994793303582,
          1.147415931777522,
          0.8692814620397284,
          -0.06373150398819541,
          -0.45242591189059245,
          -1.048789567781994,
          -0.9786629053950845,
          -1.1203219593181126,
          -0.6009018213810939,
          0.41862414869311787,
          -0.3053760309640802,
          0.18024535423151433,
          -0.08741851902060346,
          -2.144691504600468,
          0.861442034614356,
          0.13071407897492765,
          -0.22775045896728274,
          1.1093919174553308,
          0.5061696894655062,
          2.51145092904647,
          -0.35625838503850066,
          0.2639556727669228,
          0.271615262619142,
          -0.33962311293372704,
          0.813812117006183,
          1.6452114399898943,
          1.2386818562700987,
          0.8050649466533384,
          0.5777097466141726,
          -0.745451323892059,
          0.7691464789300266,
          -0.23009953334279715,
          -1.162522550315383,
          1.0967477999866906,
          -0.7762878624655948,
          -0.5844671710446083,
          -0.6061979063641825,
          -1.4869471807666157,
          1.7503448743454855,
          -0.6151603064563305,
          -1.6531344263407692,
          0.7427151707507402,
          -0.70541578069805,
          -0.03251912330296103,
          -2.3414449224888663,
          1.840847976937174,
          0.4150643762265195,
          -0.5229064046857388,
          -0.017125860721714015,
          -1.3049828462456508,
          -1.0897255704646889,
          -3.6952327527777675,
          -1.39070854647635
         ],
         "yaxis": "y"
        }
       ],
       "layout": {
        "coloraxis": {
         "colorbar": {
          "title": {
           "text": "cluster_pca"
          }
         },
         "colorscale": [
          [
           0,
           "#0d0887"
          ],
          [
           0.1111111111111111,
           "#46039f"
          ],
          [
           0.2222222222222222,
           "#7201a8"
          ],
          [
           0.3333333333333333,
           "#9c179e"
          ],
          [
           0.4444444444444444,
           "#bd3786"
          ],
          [
           0.5555555555555556,
           "#d8576b"
          ],
          [
           0.6666666666666666,
           "#ed7953"
          ],
          [
           0.7777777777777778,
           "#fb9f3a"
          ],
          [
           0.8888888888888888,
           "#fdca26"
          ],
          [
           1,
           "#f0f921"
          ]
         ]
        },
        "legend": {
         "tracegroupgap": 0
        },
        "margin": {
         "t": 60
        },
        "template": {
         "data": {
          "bar": [
           {
            "error_x": {
             "color": "#2a3f5f"
            },
            "error_y": {
             "color": "#2a3f5f"
            },
            "marker": {
             "line": {
              "color": "#E5ECF6",
              "width": 0.5
             },
             "pattern": {
              "fillmode": "overlay",
              "size": 10,
              "solidity": 0.2
             }
            },
            "type": "bar"
           }
          ],
          "barpolar": [
           {
            "marker": {
             "line": {
              "color": "#E5ECF6",
              "width": 0.5
             },
             "pattern": {
              "fillmode": "overlay",
              "size": 10,
              "solidity": 0.2
             }
            },
            "type": "barpolar"
           }
          ],
          "carpet": [
           {
            "aaxis": {
             "endlinecolor": "#2a3f5f",
             "gridcolor": "white",
             "linecolor": "white",
             "minorgridcolor": "white",
             "startlinecolor": "#2a3f5f"
            },
            "baxis": {
             "endlinecolor": "#2a3f5f",
             "gridcolor": "white",
             "linecolor": "white",
             "minorgridcolor": "white",
             "startlinecolor": "#2a3f5f"
            },
            "type": "carpet"
           }
          ],
          "choropleth": [
           {
            "colorbar": {
             "outlinewidth": 0,
             "ticks": ""
            },
            "type": "choropleth"
           }
          ],
          "contour": [
           {
            "colorbar": {
             "outlinewidth": 0,
             "ticks": ""
            },
            "colorscale": [
             [
              0,
              "#0d0887"
             ],
             [
              0.1111111111111111,
              "#46039f"
             ],
             [
              0.2222222222222222,
              "#7201a8"
             ],
             [
              0.3333333333333333,
              "#9c179e"
             ],
             [
              0.4444444444444444,
              "#bd3786"
             ],
             [
              0.5555555555555556,
              "#d8576b"
             ],
             [
              0.6666666666666666,
              "#ed7953"
             ],
             [
              0.7777777777777778,
              "#fb9f3a"
             ],
             [
              0.8888888888888888,
              "#fdca26"
             ],
             [
              1,
              "#f0f921"
             ]
            ],
            "type": "contour"
           }
          ],
          "contourcarpet": [
           {
            "colorbar": {
             "outlinewidth": 0,
             "ticks": ""
            },
            "type": "contourcarpet"
           }
          ],
          "heatmap": [
           {
            "colorbar": {
             "outlinewidth": 0,
             "ticks": ""
            },
            "colorscale": [
             [
              0,
              "#0d0887"
             ],
             [
              0.1111111111111111,
              "#46039f"
             ],
             [
              0.2222222222222222,
              "#7201a8"
             ],
             [
              0.3333333333333333,
              "#9c179e"
             ],
             [
              0.4444444444444444,
              "#bd3786"
             ],
             [
              0.5555555555555556,
              "#d8576b"
             ],
             [
              0.6666666666666666,
              "#ed7953"
             ],
             [
              0.7777777777777778,
              "#fb9f3a"
             ],
             [
              0.8888888888888888,
              "#fdca26"
             ],
             [
              1,
              "#f0f921"
             ]
            ],
            "type": "heatmap"
           }
          ],
          "heatmapgl": [
           {
            "colorbar": {
             "outlinewidth": 0,
             "ticks": ""
            },
            "colorscale": [
             [
              0,
              "#0d0887"
             ],
             [
              0.1111111111111111,
              "#46039f"
             ],
             [
              0.2222222222222222,
              "#7201a8"
             ],
             [
              0.3333333333333333,
              "#9c179e"
             ],
             [
              0.4444444444444444,
              "#bd3786"
             ],
             [
              0.5555555555555556,
              "#d8576b"
             ],
             [
              0.6666666666666666,
              "#ed7953"
             ],
             [
              0.7777777777777778,
              "#fb9f3a"
             ],
             [
              0.8888888888888888,
              "#fdca26"
             ],
             [
              1,
              "#f0f921"
             ]
            ],
            "type": "heatmapgl"
           }
          ],
          "histogram": [
           {
            "marker": {
             "pattern": {
              "fillmode": "overlay",
              "size": 10,
              "solidity": 0.2
             }
            },
            "type": "histogram"
           }
          ],
          "histogram2d": [
           {
            "colorbar": {
             "outlinewidth": 0,
             "ticks": ""
            },
            "colorscale": [
             [
              0,
              "#0d0887"
             ],
             [
              0.1111111111111111,
              "#46039f"
             ],
             [
              0.2222222222222222,
              "#7201a8"
             ],
             [
              0.3333333333333333,
              "#9c179e"
             ],
             [
              0.4444444444444444,
              "#bd3786"
             ],
             [
              0.5555555555555556,
              "#d8576b"
             ],
             [
              0.6666666666666666,
              "#ed7953"
             ],
             [
              0.7777777777777778,
              "#fb9f3a"
             ],
             [
              0.8888888888888888,
              "#fdca26"
             ],
             [
              1,
              "#f0f921"
             ]
            ],
            "type": "histogram2d"
           }
          ],
          "histogram2dcontour": [
           {
            "colorbar": {
             "outlinewidth": 0,
             "ticks": ""
            },
            "colorscale": [
             [
              0,
              "#0d0887"
             ],
             [
              0.1111111111111111,
              "#46039f"
             ],
             [
              0.2222222222222222,
              "#7201a8"
             ],
             [
              0.3333333333333333,
              "#9c179e"
             ],
             [
              0.4444444444444444,
              "#bd3786"
             ],
             [
              0.5555555555555556,
              "#d8576b"
             ],
             [
              0.6666666666666666,
              "#ed7953"
             ],
             [
              0.7777777777777778,
              "#fb9f3a"
             ],
             [
              0.8888888888888888,
              "#fdca26"
             ],
             [
              1,
              "#f0f921"
             ]
            ],
            "type": "histogram2dcontour"
           }
          ],
          "mesh3d": [
           {
            "colorbar": {
             "outlinewidth": 0,
             "ticks": ""
            },
            "type": "mesh3d"
           }
          ],
          "parcoords": [
           {
            "line": {
             "colorbar": {
              "outlinewidth": 0,
              "ticks": ""
             }
            },
            "type": "parcoords"
           }
          ],
          "pie": [
           {
            "automargin": true,
            "type": "pie"
           }
          ],
          "scatter": [
           {
            "fillpattern": {
             "fillmode": "overlay",
             "size": 10,
             "solidity": 0.2
            },
            "type": "scatter"
           }
          ],
          "scatter3d": [
           {
            "line": {
             "colorbar": {
              "outlinewidth": 0,
              "ticks": ""
             }
            },
            "marker": {
             "colorbar": {
              "outlinewidth": 0,
              "ticks": ""
             }
            },
            "type": "scatter3d"
           }
          ],
          "scattercarpet": [
           {
            "marker": {
             "colorbar": {
              "outlinewidth": 0,
              "ticks": ""
             }
            },
            "type": "scattercarpet"
           }
          ],
          "scattergeo": [
           {
            "marker": {
             "colorbar": {
              "outlinewidth": 0,
              "ticks": ""
             }
            },
            "type": "scattergeo"
           }
          ],
          "scattergl": [
           {
            "marker": {
             "colorbar": {
              "outlinewidth": 0,
              "ticks": ""
             }
            },
            "type": "scattergl"
           }
          ],
          "scattermapbox": [
           {
            "marker": {
             "colorbar": {
              "outlinewidth": 0,
              "ticks": ""
             }
            },
            "type": "scattermapbox"
           }
          ],
          "scatterpolar": [
           {
            "marker": {
             "colorbar": {
              "outlinewidth": 0,
              "ticks": ""
             }
            },
            "type": "scatterpolar"
           }
          ],
          "scatterpolargl": [
           {
            "marker": {
             "colorbar": {
              "outlinewidth": 0,
              "ticks": ""
             }
            },
            "type": "scatterpolargl"
           }
          ],
          "scatterternary": [
           {
            "marker": {
             "colorbar": {
              "outlinewidth": 0,
              "ticks": ""
             }
            },
            "type": "scatterternary"
           }
          ],
          "surface": [
           {
            "colorbar": {
             "outlinewidth": 0,
             "ticks": ""
            },
            "colorscale": [
             [
              0,
              "#0d0887"
             ],
             [
              0.1111111111111111,
              "#46039f"
             ],
             [
              0.2222222222222222,
              "#7201a8"
             ],
             [
              0.3333333333333333,
              "#9c179e"
             ],
             [
              0.4444444444444444,
              "#bd3786"
             ],
             [
              0.5555555555555556,
              "#d8576b"
             ],
             [
              0.6666666666666666,
              "#ed7953"
             ],
             [
              0.7777777777777778,
              "#fb9f3a"
             ],
             [
              0.8888888888888888,
              "#fdca26"
             ],
             [
              1,
              "#f0f921"
             ]
            ],
            "type": "surface"
           }
          ],
          "table": [
           {
            "cells": {
             "fill": {
              "color": "#EBF0F8"
             },
             "line": {
              "color": "white"
             }
            },
            "header": {
             "fill": {
              "color": "#C8D4E3"
             },
             "line": {
              "color": "white"
             }
            },
            "type": "table"
           }
          ]
         },
         "layout": {
          "annotationdefaults": {
           "arrowcolor": "#2a3f5f",
           "arrowhead": 0,
           "arrowwidth": 1
          },
          "autotypenumbers": "strict",
          "coloraxis": {
           "colorbar": {
            "outlinewidth": 0,
            "ticks": ""
           }
          },
          "colorscale": {
           "diverging": [
            [
             0,
             "#8e0152"
            ],
            [
             0.1,
             "#c51b7d"
            ],
            [
             0.2,
             "#de77ae"
            ],
            [
             0.3,
             "#f1b6da"
            ],
            [
             0.4,
             "#fde0ef"
            ],
            [
             0.5,
             "#f7f7f7"
            ],
            [
             0.6,
             "#e6f5d0"
            ],
            [
             0.7,
             "#b8e186"
            ],
            [
             0.8,
             "#7fbc41"
            ],
            [
             0.9,
             "#4d9221"
            ],
            [
             1,
             "#276419"
            ]
           ],
           "sequential": [
            [
             0,
             "#0d0887"
            ],
            [
             0.1111111111111111,
             "#46039f"
            ],
            [
             0.2222222222222222,
             "#7201a8"
            ],
            [
             0.3333333333333333,
             "#9c179e"
            ],
            [
             0.4444444444444444,
             "#bd3786"
            ],
            [
             0.5555555555555556,
             "#d8576b"
            ],
            [
             0.6666666666666666,
             "#ed7953"
            ],
            [
             0.7777777777777778,
             "#fb9f3a"
            ],
            [
             0.8888888888888888,
             "#fdca26"
            ],
            [
             1,
             "#f0f921"
            ]
           ],
           "sequentialminus": [
            [
             0,
             "#0d0887"
            ],
            [
             0.1111111111111111,
             "#46039f"
            ],
            [
             0.2222222222222222,
             "#7201a8"
            ],
            [
             0.3333333333333333,
             "#9c179e"
            ],
            [
             0.4444444444444444,
             "#bd3786"
            ],
            [
             0.5555555555555556,
             "#d8576b"
            ],
            [
             0.6666666666666666,
             "#ed7953"
            ],
            [
             0.7777777777777778,
             "#fb9f3a"
            ],
            [
             0.8888888888888888,
             "#fdca26"
            ],
            [
             1,
             "#f0f921"
            ]
           ]
          },
          "colorway": [
           "#636efa",
           "#EF553B",
           "#00cc96",
           "#ab63fa",
           "#FFA15A",
           "#19d3f3",
           "#FF6692",
           "#B6E880",
           "#FF97FF",
           "#FECB52"
          ],
          "font": {
           "color": "#2a3f5f"
          },
          "geo": {
           "bgcolor": "white",
           "lakecolor": "white",
           "landcolor": "#E5ECF6",
           "showlakes": true,
           "showland": true,
           "subunitcolor": "white"
          },
          "hoverlabel": {
           "align": "left"
          },
          "hovermode": "closest",
          "mapbox": {
           "style": "light"
          },
          "paper_bgcolor": "white",
          "plot_bgcolor": "#E5ECF6",
          "polar": {
           "angularaxis": {
            "gridcolor": "white",
            "linecolor": "white",
            "ticks": ""
           },
           "bgcolor": "#E5ECF6",
           "radialaxis": {
            "gridcolor": "white",
            "linecolor": "white",
            "ticks": ""
           }
          },
          "scene": {
           "xaxis": {
            "backgroundcolor": "#E5ECF6",
            "gridcolor": "white",
            "gridwidth": 2,
            "linecolor": "white",
            "showbackground": true,
            "ticks": "",
            "zerolinecolor": "white"
           },
           "yaxis": {
            "backgroundcolor": "#E5ECF6",
            "gridcolor": "white",
            "gridwidth": 2,
            "linecolor": "white",
            "showbackground": true,
            "ticks": "",
            "zerolinecolor": "white"
           },
           "zaxis": {
            "backgroundcolor": "#E5ECF6",
            "gridcolor": "white",
            "gridwidth": 2,
            "linecolor": "white",
            "showbackground": true,
            "ticks": "",
            "zerolinecolor": "white"
           }
          },
          "shapedefaults": {
           "line": {
            "color": "#2a3f5f"
           }
          },
          "ternary": {
           "aaxis": {
            "gridcolor": "white",
            "linecolor": "white",
            "ticks": ""
           },
           "baxis": {
            "gridcolor": "white",
            "linecolor": "white",
            "ticks": ""
           },
           "bgcolor": "#E5ECF6",
           "caxis": {
            "gridcolor": "white",
            "linecolor": "white",
            "ticks": ""
           }
          },
          "title": {
           "x": 0.05
          },
          "xaxis": {
           "automargin": true,
           "gridcolor": "white",
           "linecolor": "white",
           "ticks": "",
           "title": {
            "standoff": 15
           },
           "zerolinecolor": "white",
           "zerolinewidth": 2
          },
          "yaxis": {
           "automargin": true,
           "gridcolor": "white",
           "linecolor": "white",
           "ticks": "",
           "title": {
            "standoff": 15
           },
           "zerolinecolor": "white",
           "zerolinewidth": 2
          }
         }
        },
        "xaxis": {
         "anchor": "y",
         "domain": [
          0,
          1
         ],
         "title": {
          "text": "x"
         }
        },
        "yaxis": {
         "anchor": "x",
         "domain": [
          0,
          1
         ],
         "title": {
          "text": "y"
         }
        }
       }
      }
     },
     "metadata": {},
     "output_type": "display_data"
    }
   ],
   "source": [
    "fig = px.scatter(\n",
    "    projection, x='x', y='y', color='cluster_pca', hover_data=['x', 'y', 'genres']\n",
    ")\n",
    "fig.show()"
   ]
  },
  {
   "cell_type": "code",
   "execution_count": 23,
   "metadata": {},
   "outputs": [
    {
     "data": {
      "text/plain": [
       "array([0.34986105, 0.14284565])"
      ]
     },
     "execution_count": 23,
     "metadata": {},
     "output_type": "execute_result"
    }
   ],
   "source": [
    "# Verificando o quanto o pca explica a variância é explicada pelo PCA\n",
    "pca_pipeline[1].explained_variance_ratio_"
   ]
  },
  {
   "cell_type": "code",
   "execution_count": 24,
   "metadata": {},
   "outputs": [
    {
     "data": {
      "text/plain": [
       "array([3.84976644, 1.57183087])"
      ]
     },
     "execution_count": 24,
     "metadata": {},
     "output_type": "execute_result"
    }
   ],
   "source": [
    "# Verificando o quanto o pca explica a variância é explicada pelo PCA\n",
    "pca_pipeline[1].explained_variance_"
   ]
  },
  {
   "attachments": {},
   "cell_type": "markdown",
   "metadata": {},
   "source": [
    "Ou seja, das 11 colunas iniciais, o modelo explica aproximadamente 5 delas."
   ]
  }
 ],
 "metadata": {
  "kernelspec": {
   "display_name": "Python 3",
   "language": "python",
   "name": "python3"
  },
  "language_info": {
   "codemirror_mode": {
    "name": "ipython",
    "version": 3
   },
   "file_extension": ".py",
   "mimetype": "text/x-python",
   "name": "python",
   "nbconvert_exporter": "python",
   "pygments_lexer": "ipython3",
   "version": "3.11.0"
  },
  "orig_nbformat": 4
 },
 "nbformat": 4,
 "nbformat_minor": 2
}
